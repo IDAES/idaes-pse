{
 "cells": [
  {
   "cell_type": "code",
   "execution_count": 1,
   "id": "dc231bc8",
   "metadata": {},
   "outputs": [],
   "source": [
    "###############################################################################\n",
    "# The Institute for the Design of Advanced Energy Systems Integrated Platform\n",
    "# Framework (IDAES IP) was produced under the DOE Institute for the\n",
    "# Design of Advanced Energy Systems (IDAES).\n",
    "#\n",
    "# Copyright (c) 2018-2023 by the software owners: The Regents of the\n",
    "# University of California, through Lawrence Berkeley National Laboratory,\n",
    "# National Technology & Engineering Solutions of Sandia, LLC, Carnegie Mellon\n",
    "# University, West Virginia University Research Corporation, et al.\n",
    "# All rights reserved.  Please see the files COPYRIGHT.md and LICENSE.md\n",
    "# for full copyright and license information.\n",
    "###############################################################################"
   ]
  },
  {
   "cell_type": "markdown",
   "id": "bd0adab5",
   "metadata": {},
   "source": [
    "# Tutorial for pySTAR \n",
    "Author: Dimitrios Fardis  \n",
    "Maintainer: Dimitrios Fardis  \n",
    "Updated: 09/23/2024\n",
    "\n",
    "**Python Symbolic regression Through Algebraic Representations** (pySTAR) provides tools for generating mathematical (symbolic) models that best fit some input data (Sarwar, 2022). The pySTAR toolbox allows for the definition of the form of the surrogate model and the regression parameter values simultaneously.\n",
    "\n",
    "## References\n",
    "Sarwar, O. 2022, Algorithms for Interpretable High-Dimensional Regression, Carnegie Mellon University."
   ]
  },
  {
   "cell_type": "markdown",
   "id": "38b3e754",
   "metadata": {},
   "source": [
    "## 1. Installation\n",
    "\n",
    "The **pySTAR** toolbox is installed by default as part of IDAES. For instructions on installing IDAES, see the [online documentation](https://idaes-pse.readthedocs.io/en/stable/)."
   ]
  },
  {
   "cell_type": "markdown",
   "id": "8a30dd19",
   "metadata": {},
   "source": [
    "## 2. Generating surrogate models with pySTAR\n",
    "\n",
    "The pySTAR framework currently provides tools for generating surrogates that allow for seven types of operators in the mathematical expression. Four of the operators are binary operators:\n",
    "\n",
    "- Addition (+)\n",
    "- Substraction (-)\n",
    "- Multiplication (*)\n",
    "- Division (/)\n",
    "\n",
    "The rest three operators are unary:\n",
    "- Square root (^0.5)\n",
    "- Logarithm (log)\n",
    "- Exponential (exp)"
   ]
  },
  {
   "cell_type": "markdown",
   "id": "9bb44f19",
   "metadata": {},
   "source": [
    "### 3. Generating symbolic regression models for the outputs of a leaching process\n",
    "\n",
    "As an example, let us generate a surrogate model for an output of the leaching process of a critical minerals recovery plant. During this process, various critical minerals are extracted from ores using sulfuric acid. Two streams enter the leaching process of the plant; a solids stream that contain the ores and a liquid stream with an aqueous solution of sulfuric acid. The outlets of leaching are two; a solids waste stream and a liquid stream that is enriched with the critical minerals in ionic form.\n",
    "\n",
    "The input variables of this process are two; the molar concentration of sulfuric acid in the liquid inlet and the mass flowrate of the solids stream. The output variables of the process are thirty. All the variables, as well as ten datapoints, can be found in the csv file '3_4_simulation_data_{k}.csv'. The combined dataset (training and testing points) have been min-max scaled between the numbers 3 and 4. The pySTAR algorithm performs better when the data are scaled in this way. Scaling between 0 and 1 would cause problems with the division operation.\n",
    "\n",
    "As an example, let us generate a surrogate model for the volumetric flowrate of the liquid outlet which is an output of the leaching process, named 'liquid_outlet_flow_vol'. "
   ]
  },
  {
   "cell_type": "markdown",
   "id": "71e85697",
   "metadata": {},
   "source": [
    "### 3.1. Training the model"
   ]
  },
  {
   "cell_type": "markdown",
   "id": "dc5d08ff",
   "metadata": {},
   "source": [
    "#### Step 1: Import the needed packages and the symbolic regression tool"
   ]
  },
  {
   "cell_type": "code",
   "execution_count": 2,
   "id": "9affd9f5",
   "metadata": {},
   "outputs": [],
   "source": [
    "import numpy as np\n",
    "import time\n",
    "from pyomo.opt import SolverFactory\n",
    "import os\n",
    "import csv\n",
    "import hashlib\n",
    "from sklearn.preprocessing import MinMaxScaler\n",
    "import pandas as pd\n",
    "\n",
    "from STEP_1 import *\n",
    "from STEP_2 import *\n",
    "from STEP_3 import *"
   ]
  },
  {
   "cell_type": "markdown",
   "id": "fc7f6853",
   "metadata": {},
   "source": [
    "#### Step 2: Read the txt file with the name of the output\n",
    "\n",
    "The txt file 'output.txt' contains the name of the output variable. In this example, the name of the output is 'liquid_outlet_flow_vol'."
   ]
  },
  {
   "cell_type": "code",
   "execution_count": 3,
   "id": "b1c67077",
   "metadata": {},
   "outputs": [
    {
     "name": "stdout",
     "output_type": "stream",
     "text": [
      "Output= liquid_outlet_flow_vol\n"
     ]
    }
   ],
   "source": [
    "# Open the txt file in read mode\n",
    "with open('output.txt', 'r') as file:\n",
    "    # Read the contents of the file\n",
    "    content = file.read().strip()\n",
    "# Convert the contents to an integer and assign to model\n",
    "output_name = content\n",
    "# Print the model type to verify\n",
    "print('Output=',output_name)"
   ]
  },
  {
   "cell_type": "markdown",
   "id": "2af80af6",
   "metadata": {},
   "source": [
    "#### Step 3: Read the csv file with our data using pandas\n",
    "We also print the 10 points of our dataset. The variables 'liquid_inlet_conc_mol_comp_H2SO4' and 'solid_inlet_flow_mass' are the inputs of the leaching process and the variable 'liquid_outlet_flow_vol' is an output."
   ]
  },
  {
   "cell_type": "code",
   "execution_count": 4,
   "id": "e6c47a22",
   "metadata": {},
   "outputs": [
    {
     "name": "stdout",
     "output_type": "stream",
     "text": [
      "Training points= 10\n",
      "Inputs:\n",
      "   liquid_inlet_conc_mol_comp_H2SO4  solid_inlet_flow_mass\n",
      "0                          3.185214               3.415078\n",
      "1                          3.447330               3.840129\n",
      "2                          3.075192               3.013016\n",
      "3                          3.684945               3.561948\n",
      "4                          3.555177               3.394412\n",
      "5                          3.928075               3.642764\n",
      "6                          3.327040               3.137728\n",
      "7                          3.247458               3.719501\n",
      "8                          3.795920               3.960417\n",
      "9                          3.851805               3.212786\n",
      "Output:\n",
      "   liquid_outlet_flow_vol\n",
      "0                3.192568\n",
      "1                3.464134\n",
      "2                3.070370\n",
      "3                3.681535\n",
      "4                3.548920\n",
      "5                3.915504\n",
      "6                3.317819\n",
      "7                3.262907\n",
      "8                3.807708\n",
      "9                3.810001\n"
     ]
    }
   ],
   "source": [
    "# read in our csv data\n",
    "columns = ['liquid_inlet_conc_mol_comp_H2SO4','solid_inlet_flow_mass',\n",
    "           f'{output_name}'] \n",
    "\n",
    "k=10\n",
    "print('Training points=',k)            \n",
    "df = pd.read_csv(f'3_4_simulation_data_{k}.csv', usecols=columns)\n",
    "\n",
    "# separate the data into inputs and outputs\n",
    "inputs = ['liquid_inlet_conc_mol_comp_H2SO4','solid_inlet_flow_mass']\n",
    "\n",
    "outputs= [f'{output_name}']\n",
    "\n",
    "dfin = df[inputs]\n",
    "dfout = df[outputs]\n",
    "print('Inputs:')\n",
    "print(dfin)\n",
    "print('Output:')\n",
    "print(dfout)\n",
    "\n",
    "#Convert the pandas dataframes to numpy arrays\n",
    "X = dfin.to_numpy()\n",
    "y = dfout.to_numpy()"
   ]
  },
  {
   "cell_type": "markdown",
   "id": "a04a7947",
   "metadata": {},
   "source": [
    "#### Step 4: Solve NLP (MINLP relaxed symbolic regression tree problem)\n",
    "Then, the options of the BARON solver are selected for solving the MINLP relaxed symbolic regression tree problem. After solving the NLP problem, a csv file is created named 'Yr_{dataset_name}.csv' in the folder 'Results_Yr'. The csv file contains the probabilities Yr of assigning an operator or operand to a specific node of the tree. \n",
    "\n",
    "The user has to specify a name for the variable 'dataset_name'.\n",
    "\n",
    "The user can change BARON's option, solver.options['PrLevel'] to equal '1', in order to print the log output."
   ]
  },
  {
   "cell_type": "code",
   "execution_count": 5,
   "id": "d57d132e",
   "metadata": {},
   "outputs": [
    {
     "name": "stdout",
     "output_type": "stream",
     "text": [
      "Dataset name: 10_liquid_outlet_flow_vol\n",
      "\n",
      "Relaxed MINLP:\n",
      "Solver log file: 'C:\\Users\\Dimitris\\AppData\\Local\\Temp\\tmpah1dqu8m.baron.log'\n",
      "Solver solution file: 'C:\\Users\\Dimitris\\AppData\\Local\\Temp\\tmpyixma9ye.baron.soln'\n",
      "Solver problem files: ('C:\\\\Users\\\\Dimitris\\\\AppData\\\\Local\\\\Temp\\\\tmpp44kljqn.pyomo.bar',)\n",
      "Running BARON to optimize to solve MINLP relaxation\n",
      "Solver Status: ok\n",
      "Terimation Condition: optimal\n"
     ]
    },
    {
     "data": {
      "text/html": [
       "<a href='summary_relaxed_MINLP' target='_blank'>summary_relaxed_MINLP</a><br>"
      ],
      "text/plain": [
       "C:\\Users\\Dimitris\\Desktop\\leaching_example_updated_code\\summary_relaxed_MINLP"
      ]
     },
     "metadata": {},
     "output_type": "display_data"
    }
   ],
   "source": [
    "np.random.seed(42)\n",
    "np.seterr(divide='ignore', invalid='ignore')\n",
    "\n",
    "#BARON as the solver and its options\n",
    "solver = SolverFactory('baron')\n",
    "solver.options['DeltaTerm'] = 1 # 0 is the default\n",
    "solver.options['DeltaT'] = 60\n",
    "solver.options['DeltaR'] = 0.01\n",
    "solver.options['AllowIPOPT'] = 0 # 1 is the default\n",
    "solver.options['PrLevel'] = 0   #Set as 1 (default) to print the log output\n",
    "\n",
    "dataset_name = f'{k}_{output_name}'\n",
    "print('Dataset name:', dataset_name)\n",
    "print()\n",
    "\n",
    "# Define the folder path\n",
    "folder_path_cosntant = \"Results_constant_fit_trees\"\n",
    "# Create the folder if it doesn't exist\n",
    "if not os.path.exists(folder_path_cosntant):\n",
    "    os.makedirs(folder_path_cosntant)\n",
    "\n",
    "#Check if the same thing was done before and avoid if it was\n",
    "file_path_constant_fit_trees = f\"Results_constant_fit_trees/constant_fit_trees_{dataset_name}.csv\"\n",
    "\n",
    "#scaler = MinMaxScaler((3,4))\n",
    "#X = scaler.fit_transform(X)\n",
    "#y = scaler.fit_transform(y.reshape(-1, 1))\n",
    "\n",
    "#print(X)\n",
    "#for element in y:\n",
    "    #print(element)\n",
    "\n",
    "#STEP 1 -------------------------------------------------------------\n",
    "#Significant part of the implementation of STEP 1 has been written by Owais Sarwar and Mina Kim\n",
    "#Solve NLP (relaxed symbolic regression tree problem)\n",
    "starting_time = time.process_time()\n",
    "mr, Yr, Br, Ur, Lr, NnotTr, Tr, Nr, c_lo, c_up = SRT(X,y)\n",
    "\n",
    "solver.options['MaxTime'] = -1\n",
    "print('Relaxed MINLP:')\n",
    "solver.options['summary'] = 1 \n",
    "solver.options['SumName'] = f'summary_relaxed_MINLP'\n",
    "results = solver.solve(mr, tee=True, symbolic_solver_labels=True, keepfiles=True)\n",
    "print('Running BARON to optimize to solve MINLP relaxation')\n",
    "print('Solver Status:', results.solver.status)\n",
    "print('Terimation Condition:', results.solver.termination_condition)\n",
    "\n",
    "# The solver output file path\n",
    "solver_output_file = f'summary_relaxed_MINLP'\n",
    "disp(FileLink(solver_output_file))\n",
    "\n",
    "# Define the folder path\n",
    "folder_path = \"Results_Yr\"\n",
    "# Create the folder if it doesn't exist\n",
    "if not os.path.exists(folder_path):\n",
    "    os.makedirs(folder_path)\n",
    "\n",
    "#Write the results to a csv file\n",
    "file_path_Yr = f\"Results_Yr/Yr_{dataset_name}.csv\" \n",
    "with open(file_path_Yr, 'w', newline='') as csvfile:\n",
    "    writer = csv.writer(csvfile)\n",
    "    for index in sorted(Yr, key=lambda x: (x[0], x[1])):\n",
    "        writer.writerow([index, value(mr.y[index])])"
   ]
  },
  {
   "cell_type": "markdown",
   "id": "c9b39a17",
   "metadata": {},
   "source": [
    "#### Step 5: Generate a group of candidate expression trees using the probabilities Yr\n",
    "The user has to specify the number of trees created. In this example, we create 100 expression trees. The 100 tree expressions are saved in a csv file named 'trees_{dataset_name}.csv' in the folder 'Results_trees'."
   ]
  },
  {
   "cell_type": "code",
   "execution_count": 6,
   "id": "4eb20383",
   "metadata": {},
   "outputs": [],
   "source": [
    "# # #STEP 2 -------------------------------------------------------------\n",
    "#Significant part of the implementation of STEP 2 has been written by Owais Sarwar and Mina Kim\n",
    "#Specify the number of trees created\n",
    "num_trees = 100\n",
    "\n",
    "#Generate a group of trees using the result of solving NLP as probability\n",
    "trees = candidate_trees(X, mr, Yr, Br, Ur, Lr, NnotTr, Tr, Nr, num_trees)\n",
    "\n",
    "# Define the folder path\n",
    "folder_path_trees = \"Results_trees\"\n",
    "# Create the folder if it doesn't exist\n",
    "if not os.path.exists(folder_path_trees):\n",
    "    os.makedirs(folder_path_trees)\n",
    "\n",
    "#Write the results to a csv file\n",
    "file_path_trees = f\"Results_trees/trees_{dataset_name}.csv\" \n",
    "with open(file_path_trees, 'w', newline='') as csvfile:\n",
    "    writer = csv.writer(csvfile)\n",
    "    for tree in trees:\n",
    "        writer.writerow(tree)"
   ]
  },
  {
   "cell_type": "markdown",
   "id": "acb85047",
   "metadata": {},
   "source": [
    "#### Step 6: Fit the constant values of each tree using regression\n",
    "\n",
    "The user can change BARON's option, solver.options['PrLevel'] to equal '1', in order to print the log output for the optimization of each tree.\n",
    "\n",
    "For each BARON's run, summary files that contain information for the optimization problem are created. The user can press on the links to see the contents of the files that are saved on his local computer."
   ]
  },
  {
   "cell_type": "code",
   "execution_count": 7,
   "id": "c2a2902c",
   "metadata": {},
   "outputs": [
    {
     "name": "stdout",
     "output_type": "stream",
     "text": [
      "Tree: 0\n",
      "Solver log file: 'C:\\Users\\Dimitris\\AppData\\Local\\Temp\\tmpi_27vo35.baron.log'\n",
      "Solver solution file: 'C:\\Users\\Dimitris\\AppData\\Local\\Temp\\tmpa01ak_5d.baron.soln'\n",
      "Solver problem files: ('C:\\\\Users\\\\Dimitris\\\\AppData\\\\Local\\\\Temp\\\\tmp89v28x5t.pyomo.bar',)\n",
      "Running BARON to optimize the tree expression\n"
     ]
    },
    {
     "data": {
      "text/html": [
       "<a href='summary_tree_0' target='_blank'>summary_tree_0</a><br>"
      ],
      "text/plain": [
       "C:\\Users\\Dimitris\\Desktop\\leaching_example_updated_code\\summary_tree_0"
      ]
     },
     "metadata": {},
     "output_type": "display_data"
    },
    {
     "name": "stdout",
     "output_type": "stream",
     "text": [
      "Solver Status: ok\n",
      "Termination Condition: optimal\n",
      "Tree is valid\n",
      "\n",
      "Tree: 1\n",
      "Solver log file: 'C:\\Users\\Dimitris\\AppData\\Local\\Temp\\tmprlio8vse.baron.log'\n",
      "Solver solution file: 'C:\\Users\\Dimitris\\AppData\\Local\\Temp\\tmpu_p6sl29.baron.soln'\n",
      "Solver problem files: ('C:\\\\Users\\\\Dimitris\\\\AppData\\\\Local\\\\Temp\\\\tmpaw04l1bu.pyomo.bar',)\n",
      "Running BARON to optimize the tree expression\n"
     ]
    },
    {
     "data": {
      "text/html": [
       "<a href='summary_tree_1' target='_blank'>summary_tree_1</a><br>"
      ],
      "text/plain": [
       "C:\\Users\\Dimitris\\Desktop\\leaching_example_updated_code\\summary_tree_1"
      ]
     },
     "metadata": {},
     "output_type": "display_data"
    },
    {
     "name": "stdout",
     "output_type": "stream",
     "text": [
      "Solver Status: ok\n",
      "Termination Condition: optimal\n",
      "Tree is valid\n",
      "\n",
      "Tree: 2\n",
      "Solver log file: 'C:\\Users\\Dimitris\\AppData\\Local\\Temp\\tmp21qcn5wj.baron.log'\n",
      "Solver solution file: 'C:\\Users\\Dimitris\\AppData\\Local\\Temp\\tmpzweo0_fk.baron.soln'\n",
      "Solver problem files: ('C:\\\\Users\\\\Dimitris\\\\AppData\\\\Local\\\\Temp\\\\tmpk7q3twho.pyomo.bar',)\n",
      "Running BARON to optimize the tree expression\n"
     ]
    },
    {
     "data": {
      "text/html": [
       "<a href='summary_tree_2' target='_blank'>summary_tree_2</a><br>"
      ],
      "text/plain": [
       "C:\\Users\\Dimitris\\Desktop\\leaching_example_updated_code\\summary_tree_2"
      ]
     },
     "metadata": {},
     "output_type": "display_data"
    },
    {
     "name": "stdout",
     "output_type": "stream",
     "text": [
      "Solver Status: ok\n",
      "Termination Condition: optimal\n",
      "Tree is valid\n",
      "\n",
      "Tree: 3\n",
      "Solver log file: 'C:\\Users\\Dimitris\\AppData\\Local\\Temp\\tmptcwsagra.baron.log'\n",
      "Solver solution file: 'C:\\Users\\Dimitris\\AppData\\Local\\Temp\\tmpfniuvd6g.baron.soln'\n",
      "Solver problem files: ('C:\\\\Users\\\\Dimitris\\\\AppData\\\\Local\\\\Temp\\\\tmpa492scfd.pyomo.bar',)\n",
      "Running BARON to optimize the tree expression\n"
     ]
    },
    {
     "data": {
      "text/html": [
       "<a href='summary_tree_3' target='_blank'>summary_tree_3</a><br>"
      ],
      "text/plain": [
       "C:\\Users\\Dimitris\\Desktop\\leaching_example_updated_code\\summary_tree_3"
      ]
     },
     "metadata": {},
     "output_type": "display_data"
    },
    {
     "name": "stdout",
     "output_type": "stream",
     "text": [
      "Solver Status: ok\n",
      "Termination Condition: optimal\n",
      "Tree is valid\n",
      "\n",
      "Tree: 4\n",
      "Solver log file: 'C:\\Users\\Dimitris\\AppData\\Local\\Temp\\tmpgo7o1d1h.baron.log'\n",
      "Solver solution file: 'C:\\Users\\Dimitris\\AppData\\Local\\Temp\\tmp6tj0k0p7.baron.soln'\n",
      "Solver problem files: ('C:\\\\Users\\\\Dimitris\\\\AppData\\\\Local\\\\Temp\\\\tmphxe7stxa.pyomo.bar',)\n",
      "Running BARON to optimize the tree expression\n"
     ]
    },
    {
     "data": {
      "text/html": [
       "<a href='summary_tree_4' target='_blank'>summary_tree_4</a><br>"
      ],
      "text/plain": [
       "C:\\Users\\Dimitris\\Desktop\\leaching_example_updated_code\\summary_tree_4"
      ]
     },
     "metadata": {},
     "output_type": "display_data"
    },
    {
     "name": "stdout",
     "output_type": "stream",
     "text": [
      "Solver Status: ok\n",
      "Termination Condition: optimal\n",
      "Tree is valid\n",
      "\n",
      "Tree: 5\n",
      "Solver log file: 'C:\\Users\\Dimitris\\AppData\\Local\\Temp\\tmpxi_bh3yr.baron.log'\n",
      "Solver solution file: 'C:\\Users\\Dimitris\\AppData\\Local\\Temp\\tmpjgcdtxm4.baron.soln'\n",
      "Solver problem files: ('C:\\\\Users\\\\Dimitris\\\\AppData\\\\Local\\\\Temp\\\\tmpwl4zusq8.pyomo.bar',)\n",
      "Running BARON to optimize the tree expression\n"
     ]
    },
    {
     "data": {
      "text/html": [
       "<a href='summary_tree_5' target='_blank'>summary_tree_5</a><br>"
      ],
      "text/plain": [
       "C:\\Users\\Dimitris\\Desktop\\leaching_example_updated_code\\summary_tree_5"
      ]
     },
     "metadata": {},
     "output_type": "display_data"
    },
    {
     "name": "stdout",
     "output_type": "stream",
     "text": [
      "Solver Status: ok\n",
      "Termination Condition: optimal\n",
      "Tree is valid\n",
      "\n",
      "Tree: 6\n",
      "Solver log file: 'C:\\Users\\Dimitris\\AppData\\Local\\Temp\\tmp6uiqonhy.baron.log'\n",
      "Solver solution file: 'C:\\Users\\Dimitris\\AppData\\Local\\Temp\\tmpmyw9recx.baron.soln'\n",
      "Solver problem files: ('C:\\\\Users\\\\Dimitris\\\\AppData\\\\Local\\\\Temp\\\\tmp0acfutj7.pyomo.bar',)\n",
      "Running BARON to optimize the tree expression\n"
     ]
    },
    {
     "data": {
      "text/html": [
       "<a href='summary_tree_6' target='_blank'>summary_tree_6</a><br>"
      ],
      "text/plain": [
       "C:\\Users\\Dimitris\\Desktop\\leaching_example_updated_code\\summary_tree_6"
      ]
     },
     "metadata": {},
     "output_type": "display_data"
    },
    {
     "name": "stdout",
     "output_type": "stream",
     "text": [
      "Solver Status: ok\n",
      "Termination Condition: optimal\n",
      "Tree is valid\n",
      "\n",
      "Tree: 7\n",
      "Solver log file: 'C:\\Users\\Dimitris\\AppData\\Local\\Temp\\tmpcw1klgzf.baron.log'\n",
      "Solver solution file: 'C:\\Users\\Dimitris\\AppData\\Local\\Temp\\tmpk4wd8_4c.baron.soln'\n",
      "Solver problem files: ('C:\\\\Users\\\\Dimitris\\\\AppData\\\\Local\\\\Temp\\\\tmpiogpys44.pyomo.bar',)\n",
      "Running BARON to optimize the tree expression\n"
     ]
    },
    {
     "data": {
      "text/html": [
       "<a href='summary_tree_7' target='_blank'>summary_tree_7</a><br>"
      ],
      "text/plain": [
       "C:\\Users\\Dimitris\\Desktop\\leaching_example_updated_code\\summary_tree_7"
      ]
     },
     "metadata": {},
     "output_type": "display_data"
    },
    {
     "name": "stdout",
     "output_type": "stream",
     "text": [
      "Solver Status: ok\n",
      "Termination Condition: optimal\n",
      "Tree is valid\n",
      "\n",
      "Tree: 8\n",
      "Solver log file: 'C:\\Users\\Dimitris\\AppData\\Local\\Temp\\tmp_k82fjp0.baron.log'\n",
      "Solver solution file: 'C:\\Users\\Dimitris\\AppData\\Local\\Temp\\tmptkfmbly2.baron.soln'\n",
      "Solver problem files: ('C:\\\\Users\\\\Dimitris\\\\AppData\\\\Local\\\\Temp\\\\tmpbfxpojnv.pyomo.bar',)\n",
      "Running BARON to optimize the tree expression\n"
     ]
    },
    {
     "data": {
      "text/html": [
       "<a href='summary_tree_8' target='_blank'>summary_tree_8</a><br>"
      ],
      "text/plain": [
       "C:\\Users\\Dimitris\\Desktop\\leaching_example_updated_code\\summary_tree_8"
      ]
     },
     "metadata": {},
     "output_type": "display_data"
    },
    {
     "name": "stdout",
     "output_type": "stream",
     "text": [
      "Solver Status: ok\n",
      "Termination Condition: optimal\n",
      "Tree is not valid\n",
      "\n",
      "Tree: 9\n",
      "Solver log file: 'C:\\Users\\Dimitris\\AppData\\Local\\Temp\\tmpe9ie6pzx.baron.log'\n",
      "Solver solution file: 'C:\\Users\\Dimitris\\AppData\\Local\\Temp\\tmpw3prc1v1.baron.soln'\n",
      "Solver problem files: ('C:\\\\Users\\\\Dimitris\\\\AppData\\\\Local\\\\Temp\\\\tmppsh1jam2.pyomo.bar',)\n",
      "Running BARON to optimize the tree expression\n"
     ]
    },
    {
     "data": {
      "text/html": [
       "<a href='summary_tree_9' target='_blank'>summary_tree_9</a><br>"
      ],
      "text/plain": [
       "C:\\Users\\Dimitris\\Desktop\\leaching_example_updated_code\\summary_tree_9"
      ]
     },
     "metadata": {},
     "output_type": "display_data"
    },
    {
     "name": "stdout",
     "output_type": "stream",
     "text": [
      "Solver Status: ok\n",
      "Termination Condition: optimal\n",
      "Tree is valid\n",
      "\n",
      "Tree: 10\n",
      "Solver log file: 'C:\\Users\\Dimitris\\AppData\\Local\\Temp\\tmp9ixa7e4e.baron.log'\n",
      "Solver solution file: 'C:\\Users\\Dimitris\\AppData\\Local\\Temp\\tmpl5wfg849.baron.soln'\n",
      "Solver problem files: ('C:\\\\Users\\\\Dimitris\\\\AppData\\\\Local\\\\Temp\\\\tmpi2wuiz8p.pyomo.bar',)\n",
      "Running BARON to optimize the tree expression\n"
     ]
    },
    {
     "data": {
      "text/html": [
       "<a href='summary_tree_10' target='_blank'>summary_tree_10</a><br>"
      ],
      "text/plain": [
       "C:\\Users\\Dimitris\\Desktop\\leaching_example_updated_code\\summary_tree_10"
      ]
     },
     "metadata": {},
     "output_type": "display_data"
    },
    {
     "name": "stdout",
     "output_type": "stream",
     "text": [
      "Solver Status: ok\n",
      "Termination Condition: optimal\n",
      "Tree is valid\n",
      "\n",
      "Tree: 11\n",
      "Solver log file: 'C:\\Users\\Dimitris\\AppData\\Local\\Temp\\tmpp632uqtc.baron.log'\n",
      "Solver solution file: 'C:\\Users\\Dimitris\\AppData\\Local\\Temp\\tmp6fhb18ic.baron.soln'\n",
      "Solver problem files: ('C:\\\\Users\\\\Dimitris\\\\AppData\\\\Local\\\\Temp\\\\tmpr5l2rx77.pyomo.bar',)\n",
      "Running BARON to optimize the tree expression\n"
     ]
    },
    {
     "data": {
      "text/html": [
       "<a href='summary_tree_11' target='_blank'>summary_tree_11</a><br>"
      ],
      "text/plain": [
       "C:\\Users\\Dimitris\\Desktop\\leaching_example_updated_code\\summary_tree_11"
      ]
     },
     "metadata": {},
     "output_type": "display_data"
    },
    {
     "name": "stdout",
     "output_type": "stream",
     "text": [
      "Solver Status: ok\n",
      "Termination Condition: optimal\n",
      "Tree is valid\n",
      "\n",
      "Tree: 12\n",
      "Solver log file: 'C:\\Users\\Dimitris\\AppData\\Local\\Temp\\tmppjj6o3v_.baron.log'\n",
      "Solver solution file: 'C:\\Users\\Dimitris\\AppData\\Local\\Temp\\tmpnpn64_x3.baron.soln'\n",
      "Solver problem files: ('C:\\\\Users\\\\Dimitris\\\\AppData\\\\Local\\\\Temp\\\\tmpuhyqikb1.pyomo.bar',)\n",
      "Running BARON to optimize the tree expression\n"
     ]
    },
    {
     "data": {
      "text/html": [
       "<a href='summary_tree_12' target='_blank'>summary_tree_12</a><br>"
      ],
      "text/plain": [
       "C:\\Users\\Dimitris\\Desktop\\leaching_example_updated_code\\summary_tree_12"
      ]
     },
     "metadata": {},
     "output_type": "display_data"
    },
    {
     "name": "stdout",
     "output_type": "stream",
     "text": [
      "Solver Status: ok\n",
      "Termination Condition: optimal\n",
      "Tree is valid\n",
      "\n",
      "Tree: 13\n",
      "Solver log file: 'C:\\Users\\Dimitris\\AppData\\Local\\Temp\\tmpocdjlz3u.baron.log'\n",
      "Solver solution file: 'C:\\Users\\Dimitris\\AppData\\Local\\Temp\\tmpz3d66tkm.baron.soln'\n",
      "Solver problem files: ('C:\\\\Users\\\\Dimitris\\\\AppData\\\\Local\\\\Temp\\\\tmpnfsgxzm8.pyomo.bar',)\n",
      "Running BARON to optimize the tree expression\n"
     ]
    },
    {
     "data": {
      "text/html": [
       "<a href='summary_tree_13' target='_blank'>summary_tree_13</a><br>"
      ],
      "text/plain": [
       "C:\\Users\\Dimitris\\Desktop\\leaching_example_updated_code\\summary_tree_13"
      ]
     },
     "metadata": {},
     "output_type": "display_data"
    },
    {
     "name": "stdout",
     "output_type": "stream",
     "text": [
      "Solver Status: ok\n",
      "Termination Condition: optimal\n",
      "Tree is valid\n",
      "\n",
      "Tree: 14\n",
      "Solver log file: 'C:\\Users\\Dimitris\\AppData\\Local\\Temp\\tmpdzq25m0l.baron.log'\n",
      "Solver solution file: 'C:\\Users\\Dimitris\\AppData\\Local\\Temp\\tmp5hyjx_i1.baron.soln'\n",
      "Solver problem files: ('C:\\\\Users\\\\Dimitris\\\\AppData\\\\Local\\\\Temp\\\\tmpx1phfkif.pyomo.bar',)\n",
      "Running BARON to optimize the tree expression\n"
     ]
    },
    {
     "data": {
      "text/html": [
       "<a href='summary_tree_14' target='_blank'>summary_tree_14</a><br>"
      ],
      "text/plain": [
       "C:\\Users\\Dimitris\\Desktop\\leaching_example_updated_code\\summary_tree_14"
      ]
     },
     "metadata": {},
     "output_type": "display_data"
    },
    {
     "name": "stdout",
     "output_type": "stream",
     "text": [
      "Solver Status: ok\n",
      "Termination Condition: optimal\n",
      "Tree is valid\n",
      "\n",
      "Tree: 15\n",
      "Solver log file: 'C:\\Users\\Dimitris\\AppData\\Local\\Temp\\tmp7989rn3t.baron.log'\n",
      "Solver solution file: 'C:\\Users\\Dimitris\\AppData\\Local\\Temp\\tmp0_cntpgh.baron.soln'\n",
      "Solver problem files: ('C:\\\\Users\\\\Dimitris\\\\AppData\\\\Local\\\\Temp\\\\tmpalvvb4t1.pyomo.bar',)\n",
      "Running BARON to optimize the tree expression\n"
     ]
    },
    {
     "data": {
      "text/html": [
       "<a href='summary_tree_15' target='_blank'>summary_tree_15</a><br>"
      ],
      "text/plain": [
       "C:\\Users\\Dimitris\\Desktop\\leaching_example_updated_code\\summary_tree_15"
      ]
     },
     "metadata": {},
     "output_type": "display_data"
    },
    {
     "name": "stdout",
     "output_type": "stream",
     "text": [
      "Solver Status: ok\n",
      "Termination Condition: optimal\n",
      "Tree is valid\n",
      "\n",
      "Tree: 16\n",
      "Solver log file: 'C:\\Users\\Dimitris\\AppData\\Local\\Temp\\tmp7lwxv749.baron.log'\n",
      "Solver solution file: 'C:\\Users\\Dimitris\\AppData\\Local\\Temp\\tmpw4fz2det.baron.soln'\n",
      "Solver problem files: ('C:\\\\Users\\\\Dimitris\\\\AppData\\\\Local\\\\Temp\\\\tmpkct4i2kn.pyomo.bar',)\n",
      "Running BARON to optimize the tree expression\n"
     ]
    },
    {
     "data": {
      "text/html": [
       "<a href='summary_tree_16' target='_blank'>summary_tree_16</a><br>"
      ],
      "text/plain": [
       "C:\\Users\\Dimitris\\Desktop\\leaching_example_updated_code\\summary_tree_16"
      ]
     },
     "metadata": {},
     "output_type": "display_data"
    },
    {
     "name": "stdout",
     "output_type": "stream",
     "text": [
      "Solver Status: ok\n",
      "Termination Condition: optimal\n",
      "Tree is valid\n",
      "\n",
      "Tree: 17\n",
      "Solver log file: 'C:\\Users\\Dimitris\\AppData\\Local\\Temp\\tmpdezlyt_5.baron.log'\n",
      "Solver solution file: 'C:\\Users\\Dimitris\\AppData\\Local\\Temp\\tmp4b3kkwne.baron.soln'\n",
      "Solver problem files: ('C:\\\\Users\\\\Dimitris\\\\AppData\\\\Local\\\\Temp\\\\tmpzg3rs85_.pyomo.bar',)\n",
      "Running BARON to optimize the tree expression\n"
     ]
    },
    {
     "data": {
      "text/html": [
       "<a href='summary_tree_17' target='_blank'>summary_tree_17</a><br>"
      ],
      "text/plain": [
       "C:\\Users\\Dimitris\\Desktop\\leaching_example_updated_code\\summary_tree_17"
      ]
     },
     "metadata": {},
     "output_type": "display_data"
    },
    {
     "name": "stdout",
     "output_type": "stream",
     "text": [
      "Solver Status: ok\n",
      "Termination Condition: maxIterations\n",
      "Rerunning BARON with IPOPT allowable\n",
      "Solver log file: 'C:\\Users\\Dimitris\\AppData\\Local\\Temp\\tmp8kxexne9.baron.log'\n",
      "Solver solution file: 'C:\\Users\\Dimitris\\AppData\\Local\\Temp\\tmpjd0h1mlf.baron.soln'\n",
      "Solver problem files: ('C:\\\\Users\\\\Dimitris\\\\AppData\\\\Local\\\\Temp\\\\tmpc52wzc8p.pyomo.bar',)\n",
      "Solver Status: ok\n",
      "Termination Condition: maxIterations\n",
      "ERROR: evaluating object as numeric value: y_pred[0]\n",
      "        (object: <class 'pyomo.core.base.var.VarData'>)\n",
      "    No value for uninitialized NumericValue object y_pred[0]\n",
      "ERROR: evaluating object as numeric value: obj\n",
      "        (object: <class 'pyomo.core.base.objective.ScalarObjective'>)\n",
      "    No value for uninitialized NumericValue object y_pred[0]\n",
      "Tree is not valid\n",
      "\n",
      "Tree: 18\n",
      "Solver log file: 'C:\\Users\\Dimitris\\AppData\\Local\\Temp\\tmpf2uc2h9d.baron.log'\n",
      "Solver solution file: 'C:\\Users\\Dimitris\\AppData\\Local\\Temp\\tmpw1kmnknl.baron.soln'\n",
      "Solver problem files: ('C:\\\\Users\\\\Dimitris\\\\AppData\\\\Local\\\\Temp\\\\tmpu0lh_3zf.pyomo.bar',)\n",
      "Running BARON to optimize the tree expression\n"
     ]
    },
    {
     "data": {
      "text/html": [
       "<a href='summary_tree_18' target='_blank'>summary_tree_18</a><br>"
      ],
      "text/plain": [
       "C:\\Users\\Dimitris\\Desktop\\leaching_example_updated_code\\summary_tree_18"
      ]
     },
     "metadata": {},
     "output_type": "display_data"
    },
    {
     "name": "stdout",
     "output_type": "stream",
     "text": [
      "Solver Status: ok\n",
      "Termination Condition: optimal\n",
      "Tree is not valid\n",
      "\n",
      "Tree: 19\n",
      "Solver log file: 'C:\\Users\\Dimitris\\AppData\\Local\\Temp\\tmph9f13sed.baron.log'\n",
      "Solver solution file: 'C:\\Users\\Dimitris\\AppData\\Local\\Temp\\tmp8cue7si_.baron.soln'\n",
      "Solver problem files: ('C:\\\\Users\\\\Dimitris\\\\AppData\\\\Local\\\\Temp\\\\tmpydsp5ojl.pyomo.bar',)\n",
      "Running BARON to optimize the tree expression\n"
     ]
    },
    {
     "data": {
      "text/html": [
       "<a href='summary_tree_19' target='_blank'>summary_tree_19</a><br>"
      ],
      "text/plain": [
       "C:\\Users\\Dimitris\\Desktop\\leaching_example_updated_code\\summary_tree_19"
      ]
     },
     "metadata": {},
     "output_type": "display_data"
    },
    {
     "name": "stdout",
     "output_type": "stream",
     "text": [
      "Solver Status: ok\n",
      "Termination Condition: optimal\n",
      "Tree is valid\n",
      "\n",
      "Tree: 20\n",
      "Solver log file: 'C:\\Users\\Dimitris\\AppData\\Local\\Temp\\tmpz1iz4_pa.baron.log'\n",
      "Solver solution file: 'C:\\Users\\Dimitris\\AppData\\Local\\Temp\\tmph12861tm.baron.soln'\n",
      "Solver problem files: ('C:\\\\Users\\\\Dimitris\\\\AppData\\\\Local\\\\Temp\\\\tmpskiy5cip.pyomo.bar',)\n",
      "Running BARON to optimize the tree expression\n"
     ]
    },
    {
     "data": {
      "text/html": [
       "<a href='summary_tree_20' target='_blank'>summary_tree_20</a><br>"
      ],
      "text/plain": [
       "C:\\Users\\Dimitris\\Desktop\\leaching_example_updated_code\\summary_tree_20"
      ]
     },
     "metadata": {},
     "output_type": "display_data"
    },
    {
     "name": "stdout",
     "output_type": "stream",
     "text": [
      "Solver Status: ok\n",
      "Termination Condition: optimal\n",
      "Tree is valid\n",
      "\n",
      "Tree: 21\n",
      "Solver log file: 'C:\\Users\\Dimitris\\AppData\\Local\\Temp\\tmp0o0nnf24.baron.log'\n",
      "Solver solution file: 'C:\\Users\\Dimitris\\AppData\\Local\\Temp\\tmptjdc6jkl.baron.soln'\n",
      "Solver problem files: ('C:\\\\Users\\\\Dimitris\\\\AppData\\\\Local\\\\Temp\\\\tmp_thi_npy.pyomo.bar',)\n",
      "Running BARON to optimize the tree expression\n"
     ]
    },
    {
     "data": {
      "text/html": [
       "<a href='summary_tree_21' target='_blank'>summary_tree_21</a><br>"
      ],
      "text/plain": [
       "C:\\Users\\Dimitris\\Desktop\\leaching_example_updated_code\\summary_tree_21"
      ]
     },
     "metadata": {},
     "output_type": "display_data"
    },
    {
     "name": "stdout",
     "output_type": "stream",
     "text": [
      "Solver Status: ok\n",
      "Termination Condition: optimal\n",
      "Tree is valid\n",
      "\n",
      "Tree: 22\n",
      "Solver log file: 'C:\\Users\\Dimitris\\AppData\\Local\\Temp\\tmpng1s1goh.baron.log'\n",
      "Solver solution file: 'C:\\Users\\Dimitris\\AppData\\Local\\Temp\\tmpl7ywm449.baron.soln'\n",
      "Solver problem files: ('C:\\\\Users\\\\Dimitris\\\\AppData\\\\Local\\\\Temp\\\\tmp7cf2t__e.pyomo.bar',)\n",
      "Running BARON to optimize the tree expression\n"
     ]
    },
    {
     "data": {
      "text/html": [
       "<a href='summary_tree_22' target='_blank'>summary_tree_22</a><br>"
      ],
      "text/plain": [
       "C:\\Users\\Dimitris\\Desktop\\leaching_example_updated_code\\summary_tree_22"
      ]
     },
     "metadata": {},
     "output_type": "display_data"
    },
    {
     "name": "stdout",
     "output_type": "stream",
     "text": [
      "Solver Status: ok\n",
      "Termination Condition: maxIterations\n",
      "Rerunning BARON with IPOPT allowable\n",
      "Solver log file: 'C:\\Users\\Dimitris\\AppData\\Local\\Temp\\tmppmx6sf9k.baron.log'\n",
      "Solver solution file: 'C:\\Users\\Dimitris\\AppData\\Local\\Temp\\tmp8kxx06x5.baron.soln'\n",
      "Solver problem files: ('C:\\\\Users\\\\Dimitris\\\\AppData\\\\Local\\\\Temp\\\\tmp0i96_hzy.pyomo.bar',)\n",
      "Solver Status: ok\n",
      "Termination Condition: optimal\n",
      "Tree is valid\n",
      "\n",
      "Tree: 23\n",
      "Solver log file: 'C:\\Users\\Dimitris\\AppData\\Local\\Temp\\tmp177p32_w.baron.log'\n",
      "Solver solution file: 'C:\\Users\\Dimitris\\AppData\\Local\\Temp\\tmpzzemnpxw.baron.soln'\n",
      "Solver problem files: ('C:\\\\Users\\\\Dimitris\\\\AppData\\\\Local\\\\Temp\\\\tmpcs4a1q3u.pyomo.bar',)\n",
      "Running BARON to optimize the tree expression\n"
     ]
    },
    {
     "data": {
      "text/html": [
       "<a href='summary_tree_23' target='_blank'>summary_tree_23</a><br>"
      ],
      "text/plain": [
       "C:\\Users\\Dimitris\\Desktop\\leaching_example_updated_code\\summary_tree_23"
      ]
     },
     "metadata": {},
     "output_type": "display_data"
    },
    {
     "name": "stdout",
     "output_type": "stream",
     "text": [
      "Solver Status: ok\n",
      "Termination Condition: optimal\n",
      "Tree is valid\n",
      "\n",
      "Tree: 24\n",
      "Solver log file: 'C:\\Users\\Dimitris\\AppData\\Local\\Temp\\tmp7_ipte3m.baron.log'\n",
      "Solver solution file: 'C:\\Users\\Dimitris\\AppData\\Local\\Temp\\tmp8hn7bh3n.baron.soln'\n",
      "Solver problem files: ('C:\\\\Users\\\\Dimitris\\\\AppData\\\\Local\\\\Temp\\\\tmp0jxkwthl.pyomo.bar',)\n",
      "Running BARON to optimize the tree expression\n"
     ]
    },
    {
     "data": {
      "text/html": [
       "<a href='summary_tree_24' target='_blank'>summary_tree_24</a><br>"
      ],
      "text/plain": [
       "C:\\Users\\Dimitris\\Desktop\\leaching_example_updated_code\\summary_tree_24"
      ]
     },
     "metadata": {},
     "output_type": "display_data"
    },
    {
     "name": "stdout",
     "output_type": "stream",
     "text": [
      "Solver Status: ok\n",
      "Termination Condition: optimal\n",
      "Tree is valid\n",
      "\n",
      "Tree: 25\n",
      "Solver log file: 'C:\\Users\\Dimitris\\AppData\\Local\\Temp\\tmpf99hmvz8.baron.log'\n",
      "Solver solution file: 'C:\\Users\\Dimitris\\AppData\\Local\\Temp\\tmpybva7_nk.baron.soln'\n",
      "Solver problem files: ('C:\\\\Users\\\\Dimitris\\\\AppData\\\\Local\\\\Temp\\\\tmp6uu92m8e.pyomo.bar',)\n",
      "Running BARON to optimize the tree expression\n"
     ]
    },
    {
     "data": {
      "text/html": [
       "<a href='summary_tree_25' target='_blank'>summary_tree_25</a><br>"
      ],
      "text/plain": [
       "C:\\Users\\Dimitris\\Desktop\\leaching_example_updated_code\\summary_tree_25"
      ]
     },
     "metadata": {},
     "output_type": "display_data"
    },
    {
     "name": "stdout",
     "output_type": "stream",
     "text": [
      "Solver Status: ok\n",
      "Termination Condition: optimal\n",
      "Tree is valid\n",
      "\n",
      "Tree: 26\n",
      "Solver log file: 'C:\\Users\\Dimitris\\AppData\\Local\\Temp\\tmpv0bcgtj6.baron.log'\n",
      "Solver solution file: 'C:\\Users\\Dimitris\\AppData\\Local\\Temp\\tmphl_409z7.baron.soln'\n",
      "Solver problem files: ('C:\\\\Users\\\\Dimitris\\\\AppData\\\\Local\\\\Temp\\\\tmpz_kcsvyq.pyomo.bar',)\n",
      "Running BARON to optimize the tree expression\n"
     ]
    },
    {
     "data": {
      "text/html": [
       "<a href='summary_tree_26' target='_blank'>summary_tree_26</a><br>"
      ],
      "text/plain": [
       "C:\\Users\\Dimitris\\Desktop\\leaching_example_updated_code\\summary_tree_26"
      ]
     },
     "metadata": {},
     "output_type": "display_data"
    },
    {
     "name": "stdout",
     "output_type": "stream",
     "text": [
      "Solver Status: ok\n",
      "Termination Condition: optimal\n",
      "Tree is valid\n",
      "\n",
      "Tree: 27\n",
      "Solver log file: 'C:\\Users\\Dimitris\\AppData\\Local\\Temp\\tmpcp8fx8zn.baron.log'\n",
      "Solver solution file: 'C:\\Users\\Dimitris\\AppData\\Local\\Temp\\tmpk9177q_2.baron.soln'\n",
      "Solver problem files: ('C:\\\\Users\\\\Dimitris\\\\AppData\\\\Local\\\\Temp\\\\tmph7mu57ox.pyomo.bar',)\n",
      "Running BARON to optimize the tree expression\n"
     ]
    },
    {
     "data": {
      "text/html": [
       "<a href='summary_tree_27' target='_blank'>summary_tree_27</a><br>"
      ],
      "text/plain": [
       "C:\\Users\\Dimitris\\Desktop\\leaching_example_updated_code\\summary_tree_27"
      ]
     },
     "metadata": {},
     "output_type": "display_data"
    },
    {
     "name": "stdout",
     "output_type": "stream",
     "text": [
      "Solver Status: ok\n",
      "Termination Condition: maxIterations\n",
      "Rerunning BARON with IPOPT allowable\n",
      "Solver log file: 'C:\\Users\\Dimitris\\AppData\\Local\\Temp\\tmp5_sk_iag.baron.log'\n",
      "Solver solution file: 'C:\\Users\\Dimitris\\AppData\\Local\\Temp\\tmpqxmodya2.baron.soln'\n",
      "Solver problem files: ('C:\\\\Users\\\\Dimitris\\\\AppData\\\\Local\\\\Temp\\\\tmp27rdwcdx.pyomo.bar',)\n",
      "Solver Status: ok\n",
      "Termination Condition: optimal\n",
      "Tree is valid\n",
      "\n",
      "Tree: 28\n",
      "Solver log file: 'C:\\Users\\Dimitris\\AppData\\Local\\Temp\\tmp9rbdlyio.baron.log'\n",
      "Solver solution file: 'C:\\Users\\Dimitris\\AppData\\Local\\Temp\\tmpx50f7cjr.baron.soln'\n",
      "Solver problem files: ('C:\\\\Users\\\\Dimitris\\\\AppData\\\\Local\\\\Temp\\\\tmpfz6swfb5.pyomo.bar',)\n",
      "Running BARON to optimize the tree expression\n"
     ]
    },
    {
     "data": {
      "text/html": [
       "<a href='summary_tree_28' target='_blank'>summary_tree_28</a><br>"
      ],
      "text/plain": [
       "C:\\Users\\Dimitris\\Desktop\\leaching_example_updated_code\\summary_tree_28"
      ]
     },
     "metadata": {},
     "output_type": "display_data"
    },
    {
     "name": "stdout",
     "output_type": "stream",
     "text": [
      "Solver Status: ok\n",
      "Termination Condition: optimal\n",
      "Tree is valid\n",
      "\n",
      "Tree: 29\n",
      "Solver log file: 'C:\\Users\\Dimitris\\AppData\\Local\\Temp\\tmpzsh636gi.baron.log'\n",
      "Solver solution file: 'C:\\Users\\Dimitris\\AppData\\Local\\Temp\\tmpwugcoevm.baron.soln'\n",
      "Solver problem files: ('C:\\\\Users\\\\Dimitris\\\\AppData\\\\Local\\\\Temp\\\\tmpv3e68rak.pyomo.bar',)\n",
      "Running BARON to optimize the tree expression\n"
     ]
    },
    {
     "data": {
      "text/html": [
       "<a href='summary_tree_29' target='_blank'>summary_tree_29</a><br>"
      ],
      "text/plain": [
       "C:\\Users\\Dimitris\\Desktop\\leaching_example_updated_code\\summary_tree_29"
      ]
     },
     "metadata": {},
     "output_type": "display_data"
    },
    {
     "name": "stdout",
     "output_type": "stream",
     "text": [
      "Solver Status: ok\n",
      "Termination Condition: optimal\n",
      "Tree is not valid\n",
      "\n",
      "Tree: 30\n",
      "Solver log file: 'C:\\Users\\Dimitris\\AppData\\Local\\Temp\\tmpasi6uk0v.baron.log'\n",
      "Solver solution file: 'C:\\Users\\Dimitris\\AppData\\Local\\Temp\\tmp7er9l1jt.baron.soln'\n",
      "Solver problem files: ('C:\\\\Users\\\\Dimitris\\\\AppData\\\\Local\\\\Temp\\\\tmps3r9yshi.pyomo.bar',)\n",
      "Running BARON to optimize the tree expression\n"
     ]
    },
    {
     "data": {
      "text/html": [
       "<a href='summary_tree_30' target='_blank'>summary_tree_30</a><br>"
      ],
      "text/plain": [
       "C:\\Users\\Dimitris\\Desktop\\leaching_example_updated_code\\summary_tree_30"
      ]
     },
     "metadata": {},
     "output_type": "display_data"
    },
    {
     "name": "stdout",
     "output_type": "stream",
     "text": [
      "Solver Status: ok\n",
      "Termination Condition: optimal\n",
      "Tree is not valid\n",
      "\n",
      "Tree: 31\n",
      "Solver log file: 'C:\\Users\\Dimitris\\AppData\\Local\\Temp\\tmpjc_36r86.baron.log'\n",
      "Solver solution file: 'C:\\Users\\Dimitris\\AppData\\Local\\Temp\\tmp50gcy8ng.baron.soln'\n",
      "Solver problem files: ('C:\\\\Users\\\\Dimitris\\\\AppData\\\\Local\\\\Temp\\\\tmphr2c2xpd.pyomo.bar',)\n",
      "Running BARON to optimize the tree expression\n"
     ]
    },
    {
     "data": {
      "text/html": [
       "<a href='summary_tree_31' target='_blank'>summary_tree_31</a><br>"
      ],
      "text/plain": [
       "C:\\Users\\Dimitris\\Desktop\\leaching_example_updated_code\\summary_tree_31"
      ]
     },
     "metadata": {},
     "output_type": "display_data"
    },
    {
     "name": "stdout",
     "output_type": "stream",
     "text": [
      "Solver Status: ok\n",
      "Termination Condition: optimal\n",
      "Tree is not valid\n",
      "\n"
     ]
    }
   ],
   "source": [
    "#STEP 3 -------------------------------------------------------------\n",
    "#Significant part of the implementation of STEP 3 has been written by Owais Sarwar and Mina Kim\n",
    "#Read the csv files written from STEP 2 and make the trees unique\n",
    "unique_trees = {}\n",
    "with open(file_path_trees, 'r') as csvfile:\n",
    "    reader = csv.reader(csvfile)\n",
    "    for row in reader:\n",
    "        Yfix, es, cst_count = row\n",
    "        cst_count = int(cst_count)\n",
    "        es_hash = hashlib.sha256(es.encode()).hexdigest()  ##Hashing, could be changed with CRC function\n",
    "        if es_hash not in unique_trees:\n",
    "            unique_trees[es_hash] = (Yfix, es, cst_count)\n",
    "    unique_trees = list(unique_trees.values())\n",
    "\n",
    "#Fit the constant values of each candidate tree and find the best model with smallest RMSE\n",
    "min_rmse = float('inf') \n",
    "best_model = None\n",
    "results = []\n",
    "\n",
    "solver.options['MaxIter'] = 10  \n",
    "solver.options['PrLevel'] = 0   #Set as 1 (default) to print the log output\n",
    "solver.options['FirstLoc'] = 1                     ################# Stop at first local optimum ##################\n",
    "for tree, (Yfix, es, cst_count) in enumerate(unique_trees):\n",
    "    print('Tree:', tree)\n",
    "    solver.options['summary'] = 1 \n",
    "    solver.options['SumName'] = f'summary_tree_{tree}'\n",
    "    constant_fit_tree, rmse, r_squared = constant_fit(es, cst_count, X, y, solver, tree)     \n",
    "    results.append((tree, constant_fit_tree, rmse))\n",
    "    print()\n",
    "    if rmse < min_rmse:\n",
    "        min_rmse = rmse\n",
    "        best_model = (tree, constant_fit_tree, rmse, r_squared)\n",
    "\n",
    "# training_time = \"testing\"\n",
    "ending_time = time.process_time()\n",
    "training_time = ending_time - starting_time\n",
    "\n",
    "with open(file_path_constant_fit_trees, 'w', newline='') as csvfile:\n",
    "    writer = csv.writer(csvfile)\n",
    "    writer.writerow(best_model)  #Write the best model first\n",
    "    for result in results:\n",
    "        writer.writerow(result)\n",
    "\n",
    "with open('best_models.csv', 'w', newline='') as csvfile:\n",
    "    writer = csv.writer(csvfile)\n",
    "    # Write the header row with column names\n",
    "    writer.writerow(['Output', 'Tree', 'Expression', 'RMSE', 'R2', 'train_time'])\n",
    "    \n",
    "    # Write the row\n",
    "    writer.writerow([dataset_name, best_model[0], best_model[1], best_model[2], best_model[3], training_time])"
   ]
  },
  {
   "cell_type": "markdown",
   "id": "dac03898",
   "metadata": {},
   "source": [
    "#### Step 7: Check BARON's output files\n",
    "\n",
    "During step 6, the BARON solver created several files for each run. These files are saved in the user's local computer at the locations printed on the screen above.\n",
    "\n",
    "For each tree expression, a summary file is created that contains information about the optimization problem that BARON solved. The summary files are named as 'summary_tree_{number_of_tree}'. \n",
    "\n",
    "For example, by defining the solver_output_file as 'summary_tree_3', and by uncommenting the commands in the cell below, the user is able to open the file using Notepad and/or to print the contents of the summary file on the screen. The information displayed will concern the tree expression '3'. \n",
    "\n",
    "Additionally, the user can replace the name 'summary_tree_{number_of_tree}' with any of the file locations above to see the contents of the BARON's log, solution or problem files."
   ]
  },
  {
   "cell_type": "code",
   "execution_count": 8,
   "id": "d6b0eb8d",
   "metadata": {},
   "outputs": [],
   "source": [
    "#solver_output_file = 'summary_tree_3'          # The solver output file path\n",
    "\n",
    "#os.startfile(solver_output_file)               # Open the file in its associated program (notepad)\n",
    "\n",
    "#with open(solver_output_file, 'r') as file:\n",
    "    #content = file.read()\n",
    "#print(content)                                 # Display the contents on the screen"
   ]
  },
  {
   "cell_type": "markdown",
   "id": "ab8d5010",
   "metadata": {},
   "source": [
    "### 3.2. Evaluating the model\n",
    "\n",
    "In this section we will make predictions on the training points using the symbolic regression model that was created for the output 'liquid_outlet_flow_vol'. In this way we will create the training parity plot.\n",
    "\n",
    "In order to further evaluate our model, we will make predictions on a testing set of 1,000 datapoints. The data can be found in the csv file '3_4_simulation_data_1000_test.csv'. We will calculate the testing performance metrics and create the testing parity plot. As mentioned above the combined data (training and testing points) have been min-max scaled between the numbers 3 and 4."
   ]
  },
  {
   "cell_type": "markdown",
   "id": "2b3e8313",
   "metadata": {},
   "source": [
    "#### Step 1: Import the needed packages"
   ]
  },
  {
   "cell_type": "code",
   "execution_count": 9,
   "id": "5ec16ff1",
   "metadata": {},
   "outputs": [],
   "source": [
    "import matplotlib.pyplot as plt\n",
    "from sklearn.metrics import mean_squared_error, max_error\n",
    "from sklearn.metrics import r2_score"
   ]
  },
  {
   "cell_type": "markdown",
   "id": "eaacc485",
   "metadata": {},
   "source": [
    "#### Step 2: Import the SR surrogate model from the 'best_models.csv' file"
   ]
  },
  {
   "cell_type": "code",
   "execution_count": 10,
   "id": "7709c38e",
   "metadata": {},
   "outputs": [
    {
     "name": "stdout",
     "output_type": "stream",
     "text": [
      "                      Output  Tree  \\\n",
      "0  10_liquid_outlet_flow_vol    11   \n",
      "\n",
      "                                          Expression      RMSE        R2  \\\n",
      "0  (8.579750844331024 + -0.0466020264229641*((6.1...  0.000449  0.999998   \n",
      "\n",
      "   train_time  \n",
      "0     1.71875  \n",
      "Expression: y = 0.9047307285807448*X1 - 0.33724317301222122*X1/X2 + 0.10318869958050291*X2 + 0.8352801631718005 - 0.52401226644803368*X2/X1\n"
     ]
    }
   ],
   "source": [
    "# Load the csv file\n",
    "df_models = pd.read_csv('best_models.csv')\n",
    "print(df_models)\n",
    "\n",
    "# Extract the expression from the desired cell \n",
    "expression = df_models.loc[df_models['Output'].str.strip() == f'{k}_{output_name}', 'Expression'].values[0]\n",
    "#print('Expression:',expression)\n",
    "\n",
    "# Replace the placeholders in the expression\n",
    "expression = expression.replace('X[:,2-1]', 'X2')\n",
    "expression = expression.replace('X[:,1-1]', 'X1')\n",
    "#print('Expression: y =',expression)\n",
    "\n",
    "def SR_model(X1,X2):\n",
    "    return eval(expression)\n",
    "\n",
    "import sympy as sp\n",
    "# Define symbolic variables\n",
    "X1, X2 = sp.symbols('X1 X2')\n",
    "# Parse the expression into sympy\n",
    "sympy_expr = sp.sympify(expression)\n",
    "\n",
    "# Simplify the expression\n",
    "simplified_expr = sp.simplify(sympy_expr)\n",
    "# Print the simplified expression\n",
    "print('Expression: y =', simplified_expr)"
   ]
  },
  {
   "cell_type": "markdown",
   "id": "e6e4aade",
   "metadata": {},
   "source": [
    "#### Step 3: Predict $\\hat{y}$ values for the training set using the SR surrogate model"
   ]
  },
  {
   "cell_type": "code",
   "execution_count": 11,
   "id": "5fcbc81d",
   "metadata": {},
   "outputs": [
    {
     "data": {
      "image/png": "[encoded data removed]",
      "text/plain": [
       "<Figure size 600x500 with 1 Axes>"
      ]
     },
     "metadata": {},
     "output_type": "display_data"
    },
    {
     "name": "stdout",
     "output_type": "stream",
     "text": [
      "R2 training: 0.9999981228529734\n",
      "MSE training: 1.441745309740859e-07\n",
      "RMSE training: 0.00037970321433204366\n"
     ]
    }
   ],
   "source": [
    "# Applying the SR_model function to each pair of values\n",
    "y_pred = np.array([SR_model(X[i,0], X[i,1]) for i in range(len(X))])\n",
    "#print(y_pred)\n",
    "\n",
    "# Stack the actual and predicted values column-wise\n",
    "predicted_train = np.column_stack((y, y_pred))\n",
    "# Save the numpy array to a CSV file\n",
    "np.savetxt(f'train_results_{k}_{output_name}.csv', \n",
    "           predicted_train, delimiter=',', header=f'{output_name},{output_name}_pred', comments='', fmt='%f')\n",
    "\n",
    "#Plot the training parity plot\n",
    "z=[3,4]\n",
    "w=[3,4]\n",
    "fig, ax= plt.subplots(figsize=(6, 5))\n",
    "ax.scatter(y, y_pred, alpha=0.3) \n",
    "ax.plot(z,w, 'k--') #y=x line\n",
    "ax.set_xlabel('Actual', fontsize=12)\n",
    "ax.set_ylabel('Predicted', fontsize=12)\n",
    "ax.set_title(f'{output_name}', fontsize=10)\n",
    "plt.tight_layout()\n",
    "plt.savefig(f'parity_train_{output_name}_{k}.png', format='png')  # Save plot as a PNG file\n",
    "plt.show()\n",
    "plt.close(fig)  # Close the figure to free memory\n",
    "\n",
    "r2_train = r2_score(y,y_pred)\n",
    "print(f'R2 training: {r2_train}')\n",
    "\n",
    "mse_train = mean_squared_error(y,y_pred)\n",
    "print(f'MSE training: {mse_train}')\n",
    "\n",
    "rmse_train = sqrt(mse_train)\n",
    "print(f'RMSE training: {rmse_train}')   "
   ]
  },
  {
   "cell_type": "markdown",
   "id": "0e23f8e2",
   "metadata": {},
   "source": [
    "#### Step 4: Read the csv file with the testing set"
   ]
  },
  {
   "cell_type": "code",
   "execution_count": 12,
   "id": "eb175926",
   "metadata": {},
   "outputs": [],
   "source": [
    "columns = ['liquid_inlet_conc_mol_comp_H2SO4','solid_inlet_flow_mass',\n",
    "           f'{output_name}'] \n",
    "\n",
    "# read in our csv testing data\n",
    "df_testing = pd.read_csv('3_4_simulation_data_1000_test.csv', usecols=columns)\n",
    "\n",
    "# separate the data into inputs and outputs\n",
    "inputs = ['liquid_inlet_conc_mol_comp_H2SO4','solid_inlet_flow_mass']\n",
    "\n",
    "actual_outputs= [f'{output_name}']\n",
    "\n",
    "dfin_testing = df_testing[inputs]\n",
    "dfout_testing = df_testing[actual_outputs]\n",
    "\n",
    "#Convert the pandas dataframes to numpy arrays\n",
    "X_test = dfin_testing.to_numpy()\n",
    "y_test = dfout_testing.to_numpy()\n",
    "\n",
    "#scaler = MinMaxScaler((3,4))\n",
    "#X_test = scaler.fit_transform(X_test)\n",
    "#y_test = scaler.fit_transform(y_test.reshape(-1, 1))"
   ]
  },
  {
   "cell_type": "markdown",
   "id": "e7d14f2e",
   "metadata": {},
   "source": [
    "#### Step 5: Predict $\\hat{y}$ values for the testing set using the SR surrogate model"
   ]
  },
  {
   "cell_type": "code",
   "execution_count": 13,
   "id": "a80bef99",
   "metadata": {},
   "outputs": [
    {
     "data": {
      "image/png": "[encoded data removed]",
      "text/plain": [
       "<Figure size 600x500 with 1 Axes>"
      ]
     },
     "metadata": {},
     "output_type": "display_data"
    },
    {
     "name": "stdout",
     "output_type": "stream",
     "text": [
      "R2 test: 0.9999879823999711\n",
      "MSE test: 9.185751764877862e-07\n",
      "RMSE test: 0.000958423276265652\n"
     ]
    }
   ],
   "source": [
    "# Applying the SR_model function to each pair of values\n",
    "y_pred_test = np.array([SR_model(X_test[i,0], X_test[i,1]) for i in range(len(X_test))])\n",
    "\n",
    "# Stack the actual and predicted values column-wise\n",
    "predicted_test = np.column_stack((y_test, y_pred_test))\n",
    "# Save the numpy array to a CSV file\n",
    "np.savetxt(f'test_results_{k}_{output_name}.csv', \n",
    "           predicted_test, delimiter=',', header=f'{output_name},{output_name}_pred', comments='', fmt='%f')\n",
    "\n",
    "#Plot the training parity plot\n",
    "z=[3,4]\n",
    "w=[3,4]\n",
    "fig, ax= plt.subplots(figsize=(6, 5))\n",
    "ax.scatter(y_test, y_pred_test, alpha=0.3) \n",
    "ax.plot(z,w, 'k--') #y=x line\n",
    "ax.set_xlabel('Actual', fontsize=12)\n",
    "ax.set_ylabel('Predicted', fontsize=12)\n",
    "ax.set_title(f'{output_name}', fontsize=10)\n",
    "plt.tight_layout()\n",
    "plt.savefig(f'parity_test_{output_name}_{k}.png', format='png')  # Save plot as a PNG file\n",
    "plt.show()\n",
    "plt.close(fig)  # Close the figure to free memory\n",
    "\n",
    "r2_test = r2_score(y_test,y_pred_test)\n",
    "print(f'R2 test: {r2_test}')\n",
    "\n",
    "mse_test = mean_squared_error(y_test,y_pred_test)\n",
    "print(f'MSE test: {mse_test}')\n",
    "\n",
    "rmse_test = sqrt(mse_test)\n",
    "print(f'RMSE test: {rmse_test}')   "
   ]
  }
 ],
 "metadata": {
  "kernelspec": {
   "display_name": "Python 3 (ipykernel)",
   "language": "python",
   "name": "python3"
  },
  "language_info": {
   "codemirror_mode": {
    "name": "ipython",
    "version": 3
   },
   "file_extension": ".py",
   "mimetype": "text/x-python",
   "name": "python",
   "nbconvert_exporter": "python",
   "pygments_lexer": "ipython3",
   "version": "3.11.5"
  }
 },
 "nbformat": 4,
 "nbformat_minor": 5
}
