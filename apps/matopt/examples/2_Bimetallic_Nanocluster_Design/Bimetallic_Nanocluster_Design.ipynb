{
 "cells": [
  {
   "cell_type": "markdown",
   "metadata": {},
   "source": [
    "# Bimetallic Nanocluster Cohesive Energy Minimization - via Labeling\n",
    "\n",
    "This notebook serves as an example application of the MatOpt framework. We consider an example optimization problem of identifying the global energy minimum bimetallic nanocluster configuration.\n",
    "\n",
    "This is a continuation of the example given in ***Monometallic_Nanocluster_Design.ipynb***. In this example, we will show how a very similar model can be used to optimize a bimetallic cluster by \"labelling\" the sites of a pre-defined monometallic cluster. \n",
    "\n",
    "The model for cohesive energy is based on:\n",
    "\n",
    "Yan, Z., Taylor, M. G., Mascareno, A., & Mpourmpakis, G. (2018). Size-, Shape-, and Composition-Dependent Model for Metal Nanoparticle Stability Prediction. *Nano Letters*, 18(4), 2696-2704."
   ]
  },
  {
   "cell_type": "markdown",
   "metadata": {},
   "source": [
    "## Importing Packages\n",
    "\n",
    "We start by importing several standard Python modules for convienience."
   ]
  },
  {
   "cell_type": "code",
   "execution_count": 1,
   "metadata": {},
   "outputs": [],
   "source": [
    "import os \n",
    "from math import sqrt"
   ]
  },
  {
   "cell_type": "markdown",
   "metadata": {},
   "source": [
    "Then, we import the MatOpt package in its entirety. "
   ]
  },
  {
   "cell_type": "code",
   "execution_count": 2,
   "metadata": {},
   "outputs": [],
   "source": [
    "from matopt import *"
   ]
  },
  {
   "cell_type": "markdown",
   "metadata": {},
   "source": [
    "## Setting Up a Material System\n",
    "\n",
    "We first identify the optimal metal-independent nanocluster shape, using the code that wsas demonstrated in **Monometallic_Nanocluster_Design.ipynb**."
   ]
  },
  {
   "cell_type": "code",
   "execution_count": 3,
   "metadata": {},
   "outputs": [
    {
     "name": "stdout",
     "output_type": "stream",
     "text": [
      "\n",
      "Welcome to IBM(R) ILOG(R) CPLEX(R) Interactive Optimizer 12.6.1.0\n",
      "  with Simplex, Mixed Integer & Barrier Optimizers\n",
      "5725-A06 5725-A29 5724-Y48 5724-Y49 5724-Y54 5724-Y55 5655-Y21\n",
      "Copyright IBM Corp. 1988, 2014.  All Rights Reserved.\n",
      "\n",
      "Type 'help' for a list of available commands.\n",
      "Type 'help' followed by a command name for more\n",
      "information on commands.\n",
      "\n",
      "CPLEX> Logfile 'cplex.log' closed.\n",
      "Logfile '/tmp/tmpcvroj97s.cplex.log' open.\n",
      "CPLEX> New value for absolute mixed integer optimality gap tolerance: 0\n",
      "CPLEX> New value for mixed integer optimality gap tolerance: 0\n",
      "CPLEX> New value for time limit in seconds: 100\n",
      "CPLEX> Problem '/tmp/tmpwjv0wzzl.pyomo.lp' read.\n",
      "Read time = 0.00 sec. (0.18 ticks)\n",
      "CPLEX> Problem name         : /tmp/tmpwjv0wzzl.pyomo.lp\n",
      "Objective sense      : Maximize\n",
      "Variables            :    1315  [Nneg: 716,  Fix: 1,  Box: 55,  Free: 1,\n",
      "                                 Binary: 487,  General Integer: 55]\n",
      "Objective nonzeros   :       1\n",
      "Linear constraints   :    1519  [Less: 1296,  Equal: 223]\n",
      "  Nonzeros           :    5769\n",
      "  RHS nonzeros       :     488\n",
      "SOS                  :      55  [SOS2: 55, 715 members, all continuous]\n",
      "\n",
      "Variables            : Min LB: 0.000000         Max UB: 20.00000       \n",
      "Objective nonzeros   : Min   : 1.000000         Max   : 1.000000       \n",
      "Linear constraints   :\n",
      "  Nonzeros           : Min   : 0.01443376       Max   : 12.00000       \n",
      "  RHS nonzeros       : Min   : 1.000000         Max   : 1.000000       \n",
      "CPLEX> Tried aggregator 2 times.\n",
      "MIP Presolve eliminated 2 rows and 189 columns.\n",
      "Aggregator did 55 substitutions.\n",
      "Reduced MIP has 1462 rows, 1071 columns, and 5043 nonzeros.\n",
      "Reduced MIP has 487 binaries, 0 generals, 55 SOSs, and 0 indicators.\n",
      "Presolve time = 0.01 sec. (5.87 ticks)\n",
      "Probing time = 0.01 sec. (5.75 ticks)\n",
      "Tried aggregator 1 time.\n",
      "MIP Presolve eliminated 648 rows and 216 columns.\n",
      "Reduced MIP has 814 rows, 855 columns, and 3531 nonzeros.\n",
      "Reduced MIP has 271 binaries, 0 generals, 55 SOSs, and 0 indicators.\n",
      "Presolve time = 0.00 sec. (4.18 ticks)\n",
      "Probing time = 0.00 sec. (1.86 ticks)\n",
      "Tried aggregator 1 time.\n",
      "Reduced MIP has 814 rows, 855 columns, and 3531 nonzeros.\n",
      "Reduced MIP has 271 binaries, 0 generals, 55 SOSs, and 0 indicators.\n",
      "Presolve time = 0.00 sec. (2.36 ticks)\n",
      "Probing time = 0.00 sec. (1.87 ticks)\n",
      "Clique table members: 432.\n",
      "MIP emphasis: balance optimality and feasibility.\n",
      "MIP search method: dynamic search.\n",
      "Parallel mode: deterministic, using up to 8 threads.\n",
      "Root relaxation solution time = 0.02 sec. (36.82 ticks)\n",
      "\n",
      "        Nodes                                         Cuts/\n",
      "   Node  Left     Objective  IInf  Best Integer    Best Bound    ItCnt     Gap\n",
      "\n",
      "      0     0        1.3207   271                      1.3207     1079         \n",
      "*     0+    0                            0.5260        1.3207           151.11%\n",
      "*     0+    0                            0.5412        1.3207           144.03%\n",
      "      0     0        0.7995   326        0.5412     Cuts: 303     1668   47.73%\n",
      "*     0+    0                            0.6097        0.7995            31.13%\n",
      "      0     0        0.7922   323        0.6097       Cuts: 5     1760   29.93%\n",
      "      0     0        0.7909   324        0.6097       Cuts: 6     1809   29.72%\n",
      "      0     0        0.7903   325        0.6097   ZeroHalf: 7     1848   29.62%\n",
      "      0     0        0.7897   326        0.6097   ZeroHalf: 4     1881   29.52%\n",
      "*     0+    0                            0.6771        0.7897            16.64%\n",
      "      0     0        0.7893   326        0.6771   ZeroHalf: 5     1910   16.56%\n",
      "      0     0        0.7875   319        0.6771       Cuts: 9     1969   16.31%\n",
      "      0     0        0.7874   326        0.6771   ZeroHalf: 2     1989   16.29%\n",
      "      0     0        0.7873   326        0.6771   ZeroHalf: 4     2001   16.28%\n",
      "*     0+    0                            0.6792        0.7873            15.92%\n",
      "      0     0        0.7871   326        0.6792   ZeroHalf: 3     2037   15.90%\n",
      "*     0+    0                            0.6990        0.7871            12.61%\n",
      "*     0+    0                            0.7021        0.7871            12.12%\n",
      "      0     2        0.7871   326        0.7021        0.7871     2037   12.12%\n",
      "Elapsed time = 0.62 sec. (488.67 ticks, tree = 0.00 MB, solutions = 7)\n",
      "*    11+    7                            0.7106        0.7636             7.46%\n",
      "     60    41        0.7320   283        0.7106        0.7545     7871    6.18%\n",
      "*   135    83      integral     0        0.7158        0.7545    11716    5.42%\n",
      "*   137    83      integral     0        0.7160        0.7545    11763    5.38%\n",
      "*   172    80      integral     0        0.7232        0.7545    13516    4.33%\n",
      "\n",
      "Implied bound cuts applied:  55\n",
      "Zero-half cuts applied:  10\n",
      "Lift and project cuts applied:  1\n",
      "Gomory fractional cuts applied:  4\n",
      "\n",
      "Root node processing (before b&c):\n",
      "  Real time             =    0.61 sec. (487.43 ticks)\n",
      "Parallel b&c, 8 threads:\n",
      "  Real time             =    0.34 sec. (418.36 ticks)\n",
      "  Sync time (average)   =    0.12 sec.\n",
      "  Wait time (average)   =    0.13 sec.\n",
      "                          ------------\n",
      "Total (root+branch&cut) =    0.95 sec. (905.80 ticks)\n",
      "\n",
      "Solution pool: 11 solutions saved.\n",
      "\n",
      "MIP - Integer optimal solution:  Objective =  7.2320364849e-01\n",
      "Solution time =    0.95 sec.  Iterations = 31523  Nodes = 794\n",
      "Deterministic time = 905.80 ticks  (954.54 ticks/sec)\n",
      "\n",
      "CPLEX> Incumbent solution written to file '/tmp/tmpqt3_05gs.cplex.sol'.\n",
      "CPLEX> The solver exited normally.\n",
      "A feasible and provably optimal solution is available.\n",
      "The Design has objective: 0.7232036484944747\n"
     ]
    }
   ],
   "source": [
    "Lat = FCCLattice(IAD=1.0)\n",
    "Canv = Canvas()\n",
    "Canv.addLocation(np.array([0,0,0],dtype=float))\n",
    "Canv.addShells(2,Lat.getNeighbors)\n",
    "Atoms = [Atom('Cu')]\n",
    "N = 20\n",
    "m = MatOptModel(Canv,Atoms)\n",
    "Vals = [sqrt(CN) for CN in range(0,13)]\n",
    "BPs = [CN for CN in range(0,13)]\n",
    "m.addSitesDescriptor('CNRi',bounds=(0,sqrt(12)),integer=False,\n",
    "                     rules=PiecewiseLinear(values=Vals,\n",
    "                                           breakpoints=BPs,\n",
    "                                           input_desc=m.Ci))\n",
    "m.addGlobalDescriptor('Ecoh',rules=EqualTo(SumSites(desc=m.CNRi,\n",
    "                                                    coefs=(1/(N*sqrt(12))))))\n",
    "m.addGlobalDescriptor('Size',bounds=(N,N),\n",
    "                      rules=EqualTo(SumSites(desc=m.Yi)))\n",
    "D = m.maximize(m.Ecoh,tilim=100)"
   ]
  },
  {
   "cell_type": "markdown",
   "metadata": {},
   "source": [
    "We take the locations from the optimal monometallic problem to initialize a ***Canvas*** object for the bimetallic case. "
   ]
  },
  {
   "cell_type": "code",
   "execution_count": 4,
   "metadata": {},
   "outputs": [],
   "source": [
    "Canv = Canvas()\n",
    "for i in range(len(D)):\n",
    "    if(D.Contents[i] is not None):\n",
    "        Canv.addLocation(D.Canvas.Points[i])\n",
    "Canv.setNeighborsFromFunc(Lat.getNeighbors)"
   ]
  },
  {
   "cell_type": "markdown",
   "metadata": {},
   "source": [
    "Additionally, we create a few data structures for holding bimetallic material information. First, we make a list of multiple ***Atom*** objects that will be the building blocks of the model. Next, we specify a dictionary with the bounds to impose on composition."
   ]
  },
  {
   "cell_type": "code",
   "execution_count": 5,
   "metadata": {},
   "outputs": [],
   "source": [
    "Atoms = [Atom('Cu'),Atom('Ag')]\n",
    "CompBounds = {Atom('Cu'):(6,6),\n",
    "              Atom('Ag'):(14,14)}"
   ]
  },
  {
   "cell_type": "markdown",
   "metadata": {},
   "source": [
    "## Specifying an Optimization Model\n",
    "\n",
    "We start by creating a ***MatOptModel*** object that will hold the information about the problem variables and constraints. At a minimum, ever model requires a Canvas object to be defined. Additionally, the list of building blocks and conformations that are present in the model should be defined. "
   ]
  },
  {
   "cell_type": "code",
   "execution_count": 6,
   "metadata": {},
   "outputs": [],
   "source": [
    "m = MatOptModel(Canv,Atoms)"
   ]
  },
  {
   "cell_type": "markdown",
   "metadata": {},
   "source": [
    "By default, several basic variables are pre-defined. See the first example, ***Monometallic_Nanocluster_Design.ipynb*** for a description of basic variables, expressions, and constraint rules."
   ]
  },
  {
   "cell_type": "markdown",
   "metadata": {},
   "source": [
    "To start, we inidcate that the choice to place an atom is fixed so that each canvas site is required to have an atom. This simplifies the problem significantly and results in a model that will seek to find the optimal labeling of metals on the nanocluster. "
   ]
  },
  {
   "cell_type": "code",
   "execution_count": 7,
   "metadata": {},
   "outputs": [],
   "source": [
    "m.Yi.rules.append(FixedTo(1.0))"
   ]
  },
  {
   "cell_type": "markdown",
   "metadata": {},
   "source": [
    "Next, we define a descriptor for the energy of bonds as a function of properties at each site.\n",
    "Since the locations of the atoms are fixed, the only decision is how to label each site as either Atom A or Atom B. \n",
    "This allows us to simplify the model and compute coefficients that rely on coordination number.\n",
    "In the block below, we implement the bimetallic model for bond energy defined in Yan et al., 2018."
   ]
  },
  {
   "cell_type": "code",
   "execution_count": 8,
   "metadata": {},
   "outputs": [],
   "source": [
    "GklCoefs = {(Atom('Cu'),Atom('Cu')):3.520,\n",
    "            (Atom('Cu'),Atom('Ag')):2.112,\n",
    "            (Atom('Ag'),Atom('Ag')):2.580,\n",
    "            (Atom('Ag'),Atom('Cu')):3.612}\n",
    "BEijCoefs = {}\n",
    "for i in range(len(Canv)):\n",
    "    CNi = sum(1 for _ in Canv.NeighborhoodIndexes[i] if _ is not None)\n",
    "    for j in Canv.NeighborhoodIndexes[i]:\n",
    "        if(j is not None):\n",
    "            CNj = sum(1 for _ in Canv.NeighborhoodIndexes[j] if _ is not None)\n",
    "            for k in Atoms:\n",
    "                for l in Atoms:\n",
    "                    BEijCoefs[i,j,k,l] = GklCoefs[k,l]*1/sqrt(CNi) + GklCoefs[l,k]*1/sqrt(CNj)\n",
    "m.addBondsDescriptor('BEij',\n",
    "                     rules=EqualTo(SumBondTypes(m.Xijkl,coefs=BEijCoefs)),\n",
    "                     symmetric_bonds=True)"
   ]
  },
  {
   "cell_type": "markdown",
   "metadata": {},
   "source": [
    "Next, we define the cohesive energy as a sum of contributions from all BEij bond descriptors."
   ]
  },
  {
   "cell_type": "code",
   "execution_count": 9,
   "metadata": {},
   "outputs": [],
   "source": [
    "m.addGlobalDescriptor('Ecoh',rules=EqualTo(SumBonds(desc=m.BEij,\n",
    "                                                    coefs=1/(N*sqrt(12)))))"
   ]
  },
  {
   "cell_type": "markdown",
   "metadata": {},
   "source": [
    "Finally, we add constraints on the size and composition of the resulting designs."
   ]
  },
  {
   "cell_type": "code",
   "execution_count": 10,
   "metadata": {},
   "outputs": [],
   "source": [
    "m.addGlobalTypesDescriptor('Composition',bounds=CompBounds,\n",
    "                           rules=EqualTo(SumSites(desc=m.Yik)))"
   ]
  },
  {
   "cell_type": "markdown",
   "metadata": {},
   "source": [
    "## Solving the Model\n",
    "\n",
    "Once the model is fully specified, we can optimize in light of a global descriptor. In this example, we choose to maximize the cohesive energy defined previously. Additionally, we can specify basic optimization parameters such as the time limit and memory limit\\* for the optimizer. \n"
   ]
  },
  {
   "cell_type": "code",
   "execution_count": 11,
   "metadata": {},
   "outputs": [
    {
     "name": "stdout",
     "output_type": "stream",
     "text": [
      "\n",
      "Welcome to IBM(R) ILOG(R) CPLEX(R) Interactive Optimizer 12.6.1.0\n",
      "  with Simplex, Mixed Integer & Barrier Optimizers\n",
      "5725-A06 5725-A29 5724-Y48 5724-Y49 5724-Y54 5724-Y55 5655-Y21\n",
      "Copyright IBM Corp. 1988, 2014.  All Rights Reserved.\n",
      "\n",
      "Type 'help' for a list of available commands.\n",
      "Type 'help' followed by a command name for more\n",
      "information on commands.\n",
      "\n",
      "CPLEX> Logfile 'cplex.log' closed.\n",
      "Logfile '/tmp/tmp2mk8tqz0.cplex.log' open.\n",
      "CPLEX> New value for absolute mixed integer optimality gap tolerance: 0\n",
      "CPLEX> New value for mixed integer optimality gap tolerance: 0\n",
      "CPLEX> New value for time limit in seconds: 360\n",
      "CPLEX> New value for upper limit on size of tree in megabytes: 4096\n",
      "CPLEX> Problem '/tmp/tmpbyvd2xuk.pyomo.lp' read.\n",
      "Read time = 0.00 sec. (0.07 ticks)\n",
      "CPLEX> Problem name         : /tmp/tmpbyvd2xuk.pyomo.lp\n",
      "Objective sense      : Maximize\n",
      "Variables            :     364  [Nneg: 1,  Fix: 2,  Free: 65,  Binary: 296]\n",
      "Objective nonzeros   :       1\n",
      "Linear constraints   :     876  [Less: 788,  Equal: 88]\n",
      "  Nonzeros           :    2300\n",
      "  RHS nonzeros       :     297\n",
      "\n",
      "Variables            : Min LB: 0.000000         Max UB: 14.00000       \n",
      "Objective nonzeros   : Min   : 1.000000         Max   : 1.000000       \n",
      "Linear constraints   :\n",
      "  Nonzeros           : Min   : 0.01443376       Max   : 3.197034       \n",
      "  RHS nonzeros       : Min   : 1.000000         Max   : 1.000000       \n",
      "CPLEX> Tried aggregator 2 times.\n",
      "MIP Presolve eliminated 87 rows and 68 columns.\n",
      "Aggregator did 20 substitutions.\n",
      "Reduced MIP has 769 rows, 276 columns, and 1812 nonzeros.\n",
      "Reduced MIP has 276 binaries, 0 generals, 0 SOSs, and 0 indicators.\n",
      "Presolve time = 0.00 sec. (2.63 ticks)\n",
      "Found incumbent of value 1.960007 after 0.00 sec. (4.85 ticks)\n",
      "Probing time = 0.00 sec. (2.14 ticks)\n",
      "Tried aggregator 1 time.\n",
      "Reduced MIP has 769 rows, 276 columns, and 1812 nonzeros.\n",
      "Reduced MIP has 276 binaries, 0 generals, 0 SOSs, and 0 indicators.\n",
      "Presolve time = 0.00 sec. (1.45 ticks)\n",
      "Probing time = 0.00 sec. (2.12 ticks)\n",
      "Clique table members: 1252.\n",
      "MIP emphasis: balance optimality and feasibility.\n",
      "MIP search method: dynamic search.\n",
      "Parallel mode: deterministic, using up to 8 threads.\n",
      "Root relaxation solution time = 0.00 sec. (6.52 ticks)\n",
      "\n",
      "        Nodes                                         Cuts/\n",
      "   Node  Left     Objective  IInf  Best Integer    Best Bound    ItCnt     Gap\n",
      "\n",
      "*     0+    0                            1.9600        8.5512           336.28%\n",
      "*     0+    0                            2.0023        8.5512           327.07%\n",
      "      0     0        3.3117   276        2.0023        3.3117      385   65.39%\n",
      "*     0+    0                            2.0587        3.3117            60.86%\n",
      "      0     0        2.8575   210        2.0587     Cuts: 237      525   38.80%\n",
      "      0     0        2.6095   176        2.0587      Cuts: 98      613   26.76%\n",
      "      0     0        2.5198   150        2.0587      Cuts: 47      657   22.40%\n",
      "      0     0        2.4525   208        2.0587      Cuts: 38      692   19.13%\n",
      "      0     0        2.4119   150        2.0587      Cuts: 66      721   17.16%\n",
      "      0     0        2.3480   174        2.0587      Cuts: 51      757   14.05%\n",
      "      0     0        2.3266   136        2.0587      Cuts: 68      781   13.01%\n",
      "      0     0        2.2652   169        2.0587      Cuts: 72      821   10.03%\n",
      "      0     0        2.2146   148        2.0587      Cuts: 34      850    7.57%\n",
      "*     0+    0                            2.0815        2.2146             6.40%\n",
      "      0     0        2.1706   117        2.0815      Cuts: 62      877    4.28%\n",
      "      0     0        2.1405   139        2.0815      Cuts: 24      905    2.83%\n",
      "      0     0        2.1276   171        2.0815      Cuts: 26      916    2.22%\n",
      "      0     0        2.1106   185        2.0815      Cuts: 53      933    1.40%\n",
      "      0     0        2.1079   160        2.0815      Cuts: 20      942    1.27%\n",
      "*     0+    0                            2.0871        2.1079             1.00%\n",
      "      0     0        2.1032   160        2.0871      Cuts: 34      956    0.77%\n",
      "      0     0        2.1016   182        2.0871  ZeroHalf: 17      976    0.70%\n",
      "*     0+    0                            2.0902        2.1016             0.55%\n",
      "      0     0        2.0984   146        2.0902  ZeroHalf: 18      992    0.39%\n",
      "*     0+    0                            2.0958        2.0984             0.12%\n",
      "      0     0        2.0967   160        2.0958  ZeroHalf: 23     1000    0.04%\n",
      "      0     0        cutoff              2.0958                   1004    0.00%\n",
      "Elapsed time = 0.20 sec. (148.03 ticks, tree = 0.00 MB, solutions = 7)\n",
      "\n",
      "Clique cuts applied:  55\n",
      "Implied bound cuts applied:  62\n",
      "Zero-half cuts applied:  164\n",
      "\n",
      "Root node processing (before b&c):\n",
      "  Real time             =    0.20 sec. (148.07 ticks)\n",
      "Parallel b&c, 8 threads:\n",
      "  Real time             =    0.00 sec. (0.00 ticks)\n",
      "  Sync time (average)   =    0.00 sec.\n",
      "  Wait time (average)   =    0.00 sec.\n",
      "                          ------------\n",
      "Total (root+branch&cut) =    0.20 sec. (148.07 ticks)\n",
      "\n",
      "Solution pool: 7 solutions saved.\n",
      "\n",
      "MIP - Integer optimal solution:  Objective =  2.0958182296e+00\n",
      "Solution time =    0.20 sec.  Iterations = 1004  Nodes = 0\n",
      "Deterministic time = 148.07 ticks  (744.83 ticks/sec)\n",
      "\n",
      "CPLEX> Incumbent solution written to file '/tmp/tmpdsvgbv72.cplex.sol'.\n",
      "CPLEX> The solver exited normally.\n",
      "A feasible and provably optimal solution is available.\n",
      "The Design has objective: 2.0958182295761083\n"
     ]
    }
   ],
   "source": [
    "D = m.maximize(m.Ecoh,tilim=360,trelim=4096)"
   ]
  },
  {
   "cell_type": "markdown",
   "metadata": {},
   "source": [
    "## Processing Solutions\n",
    "\n",
    "If a design was identified (optimal or otherwise), then a ***Design*** object is returned from the optimization method. The optimal design can be plotted via any of the supported parsers. "
   ]
  },
  {
   "cell_type": "code",
   "execution_count": 12,
   "metadata": {},
   "outputs": [],
   "source": [
    "if(D is not None):\n",
    "    D.toPDB('result.pdb')"
   ]
  }
 ],
 "metadata": {
  "kernelspec": {
   "display_name": "Python 3",
   "language": "python",
   "name": "python3"
  },
  "language_info": {
   "codemirror_mode": {
    "name": "ipython",
    "version": 3
   },
   "file_extension": ".py",
   "mimetype": "text/x-python",
   "name": "python",
   "nbconvert_exporter": "python",
   "pygments_lexer": "ipython3",
   "version": "3.6.8"
  }
 },
 "nbformat": 4,
 "nbformat_minor": 2
}
