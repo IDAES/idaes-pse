{
 "cells": [
  {
   "cell_type": "markdown",
   "metadata": {},
   "source": [
    "# Perovskite Design\n",
    "\n",
    "This notebook serves as an example application of the MatOpt framework on bulk nanostructured materials. \n",
    "We consider the problem of how to optimally place dopant in a perovskite lattice. \n",
    "\n",
    "For more information, see:\n",
    "Hanselman, Christopher L., et al. \"A framework for optimizing oxygen vacancy formation in doped perovskites.\" *Computers & Chemical Engineering* 126 (2019): 168-177. DOI: [10.1016/j.compchemeng.2019.03.033](https://doi.org/10.1016/j.compchemeng.2019.03.033)"
   ]
  },
  {
   "cell_type": "markdown",
   "metadata": {},
   "source": [
    "## Importing Packages\n",
    "\n",
    "We start by importing MatOpt."
   ]
  },
  {
   "cell_type": "code",
   "execution_count": 1,
   "metadata": {},
   "outputs": [],
   "source": [
    "from matopt import *"
   ]
  },
  {
   "cell_type": "markdown",
   "metadata": {},
   "source": [
    "## Representing Materials\n",
    "\n",
    "First, we construct a ***Lattice*** object to hold information about the sites in our material. For this application, we use the ***PerovskiteLattice*** class with lattice constants *A*, *B*, and *C*. "
   ]
  },
  {
   "cell_type": "code",
   "execution_count": 2,
   "metadata": {},
   "outputs": [],
   "source": [
    "A = 4.0\n",
    "B = 4.0\n",
    "C = 4.0\n",
    "Lat = PerovskiteLattice(A,B,C)"
   ]
  },
  {
   "cell_type": "markdown",
   "metadata": {},
   "source": [
    "Next, we construct ***Shape*** and ***Tiling*** objects to help define the material locations of interest. In this case, we use ***RectPrism*** and ***CubicTiling***, respectively. \n",
    "\n",
    "Note that we shift the shape slightly to avoid ambiguity about which sites on the border of the cell should be included. "
   ]
  },
  {
   "cell_type": "code",
   "execution_count": 3,
   "metadata": {},
   "outputs": [],
   "source": [
    "nUnitCellsOnEdge = 2\n",
    "S = RectPrism(nUnitCellsOnEdge*A,\n",
    "              nUnitCellsOnEdge*B,\n",
    "              nUnitCellsOnEdge*C)\n",
    "S.shift(np.array([-0.01,-0.01,-0.01]))\n",
    "T = CubicTiling(S)"
   ]
  },
  {
   "cell_type": "markdown",
   "metadata": {},
   "source": [
    "Next, we construct the ***Canvas*** object which will hold all the information about the sites and information about neighbors. We also define a list of ***Atom*** objects that serve as the building blocks of our material."
   ]
  },
  {
   "cell_type": "code",
   "execution_count": 4,
   "metadata": {},
   "outputs": [],
   "source": [
    "Canv = Canvas.fromLatticeAndTilingScan(Lat,T)\n",
    "Atoms = [Atom('Ba'),Atom('Fe'),Atom('In'),Atom('O')]"
   ]
  },
  {
   "cell_type": "markdown",
   "metadata": {},
   "source": [
    "Finally, we load a list of conformations from file that represent a set of dopant configurations that we would like to indicate in the design. "
   ]
  },
  {
   "cell_type": "code",
   "execution_count": 5,
   "metadata": {},
   "outputs": [],
   "source": [
    "iDesiredConfs = [394,395,396,397,398,399,400,401,68,69,\n",
    "                 70,71,162,163,164,165,166,167,168,169]\n",
    "ConfDesigns = loadFromPDBs([str(i)+'.pdb' for i in iDesiredConfs],folder='./Confs')\n",
    "Confs = [Conf.Contents for Conf in ConfDesigns]"
   ]
  },
  {
   "cell_type": "markdown",
   "metadata": {},
   "source": [
    "## Building the Model\n",
    "\n",
    "To begin specifying the model, we first define several pieces of information that will help specify the design problem."
   ]
  },
  {
   "cell_type": "code",
   "execution_count": 6,
   "metadata": {},
   "outputs": [],
   "source": [
    "Sites = [i for i in range(len(Canv))]\n",
    "ASites = [i for i in Sites if Lat.isASite(Canv.Points[i])]\n",
    "BSites = [i for i in Sites if Lat.isBSite(Canv.Points[i])]\n",
    "OSites = [i for i in Sites if Lat.isOSite(Canv.Points[i])]\n",
    "pctLocalLB,pctLocalUB = 0,1\n",
    "pctGlobalLB,pctGlobalUB = 0.0,0.3\n",
    "LocalBounds = {(i,Atom('In')):(round(pctLocalLB*len(Canv.NeighborhoodIndexes[i])),\n",
    "                               round(pctLocalUB*len(Canv.NeighborhoodIndexes[i]))) for i in OSites}\n",
    "GlobalLB = round(pctGlobalLB*len(BSites))\n",
    "GlobalUB = round(pctGlobalUB*len(BSites))"
   ]
  },
  {
   "cell_type": "markdown",
   "metadata": {},
   "source": [
    "Next, we initialize a ***MatOptModel*** object that will hold all the information about material descriptors and desired functionalities. "
   ]
  },
  {
   "cell_type": "code",
   "execution_count": 7,
   "metadata": {},
   "outputs": [],
   "source": [
    "m = MatOptModel(Canv,Atoms,Confs)"
   ]
  },
  {
   "cell_type": "markdown",
   "metadata": {},
   "source": [
    "By default, several basic variables are pre-defined. See the first example, ***Monometallic_Nanocluster_Design.ipynb*** for a description of basic variables, expressions, and constraint rules."
   ]
  },
  {
   "cell_type": "markdown",
   "metadata": {},
   "source": [
    "For this system, we introduce several rules about the allowed placement of atoms in the design. First, we require that all A-sites in the material are occupied by Ba. Next, we require that all O-sites are occupied by O. Thirdly, we forbid Ba and O from being placed in B-sites. And finally, we require that some atom be placed in each B-site. These four rules  effectively limit the scope of the optimization to focus on the labeling of B-sites as either Fe or In. "
   ]
  },
  {
   "cell_type": "code",
   "execution_count": 8,
   "metadata": {},
   "outputs": [],
   "source": [
    "m.Yik.rules.append(FixedTo(1,sites=ASites,site_types=[Atom('Ba')]))\n",
    "m.Yik.rules.append(FixedTo(1,sites=OSites,site_types=[Atom('O')]))\n",
    "m.Yik.rules.append(FixedTo(0,sites=BSites,site_types=[Atom('Ba'),Atom('O')]))\n",
    "m.Yi.rules.append(FixedTo(1,sites=BSites))"
   ]
  },
  {
   "cell_type": "markdown",
   "metadata": {},
   "source": [
    "To specify additional constraints to the model, we create several descriptors for the activity, local dopant concentration, and the global dopant concentration. \n",
    "\n",
    "Notice that in each case, we specify a subset of locations or atoms of interest. This is because, for example, our material activity depends on oxygen sites only and it would be nonsensical to try to interpret one of the conformations on a different type of site. Similarly, the dopant budgets are written only over In atoms and not on Ba, Fe, or O. "
   ]
  },
  {
   "cell_type": "code",
   "execution_count": 9,
   "metadata": {},
   "outputs": [],
   "source": [
    "m.addGlobalDescriptor('Activity',\n",
    "                      rules=EqualTo(SumSitesAndConfs(m.Zic,coefs=1/len(OSites),sites_to_sum=OSites)))\n",
    "m.addGlobalTypesDescriptor('GlobalIndiumConc',bounds=(GlobalLB,GlobalUB),\n",
    "                           rules=EqualTo(SumSites(m.Yik,\n",
    "                                                  site_types=[Atom('In')],\n",
    "                                                  sites_to_sum=BSites)))\n",
    "m.addSitesTypesDescriptor('LocalIndiumConc',bounds=LocalBounds,\n",
    "                          rules=EqualTo(SumNeighborSites(m.Yik,\n",
    "                                                         sites=OSites,\n",
    "                                                         site_types=[Atom('In')])))"
   ]
  },
  {
   "cell_type": "markdown",
   "metadata": {},
   "source": [
    "## Solving the Model\n",
    "\n",
    "Given a fully formed model, we can optimize by maximizing or minimizing one of the global descriptors."
   ]
  },
  {
   "cell_type": "code",
   "execution_count": 10,
   "metadata": {},
   "outputs": [
    {
     "name": "stdout",
     "output_type": "stream",
     "text": [
      "\n",
      "Welcome to IBM(R) ILOG(R) CPLEX(R) Interactive Optimizer 12.6.1.0\n",
      "  with Simplex, Mixed Integer & Barrier Optimizers\n",
      "5725-A06 5725-A29 5724-Y48 5724-Y49 5724-Y54 5724-Y55 5655-Y21\n",
      "Copyright IBM Corp. 1988, 2014.  All Rights Reserved.\n",
      "\n",
      "Type 'help' for a list of available commands.\n",
      "Type 'help' followed by a command name for more\n",
      "information on commands.\n",
      "\n",
      "CPLEX> Logfile 'cplex.log' closed.\n",
      "Logfile '/tmp/tmpp1ouabbf.cplex.log' open.\n",
      "CPLEX> New value for absolute mixed integer optimality gap tolerance: 0\n",
      "CPLEX> New value for mixed integer optimality gap tolerance: 0\n",
      "CPLEX> New value for time limit in seconds: 360\n",
      "CPLEX> Problem '/tmp/tmpv8p2na6w.pyomo.lp' read.\n",
      "Read time = 0.01 sec. (0.32 ticks)\n",
      "CPLEX> Problem name         : /tmp/tmpv8p2na6w.pyomo.lp\n",
      "Objective sense      : Maximize\n",
      "Variables            :     843  [Nneg: 1,  Box: 25,  Free: 1,  Binary: 816]\n",
      "Objective nonzeros   :       1\n",
      "Linear constraints   :    1459  [Less: 1424,  Equal: 35]\n",
      "  Nonzeros           :   17523\n",
      "  RHS nonzeros       :    1113\n",
      "\n",
      "Variables            : Min LB: 0.000000         Max UB: 10.00000       \n",
      "Objective nonzeros   : Min   : 1.000000         Max   : 1.000000       \n",
      "Linear constraints   :\n",
      "  Nonzeros           : Min   : 0.04166667       Max   : 2.000000       \n",
      "  RHS nonzeros       : Min   : 1.000000         Max   : 9.000000       \n",
      "CPLEX> Found incumbent of value 0.000000 after 0.00 sec. (0.18 ticks)\n",
      "Tried aggregator 2 times.\n",
      "MIP Presolve eliminated 1042 rows and 515 columns.\n",
      "MIP Presolve modified 3072 coefficients.\n",
      "Aggregator did 8 substitutions.\n",
      "Reduced MIP has 409 rows, 320 columns, and 3152 nonzeros.\n",
      "Reduced MIP has 320 binaries, 0 generals, 0 SOSs, and 0 indicators.\n",
      "Presolve time = 0.01 sec. (14.68 ticks)\n",
      "Probing fixed 144 vars, tightened 0 bounds.\n",
      "Probing time = 0.01 sec. (7.84 ticks)\n",
      "Tried aggregator 1 time.\n",
      "MIP Presolve eliminated 3 rows and 147 columns.\n",
      "Reduced MIP has 406 rows, 173 columns, and 2123 nonzeros.\n",
      "Reduced MIP has 173 binaries, 0 generals, 0 SOSs, and 0 indicators.\n",
      "Presolve time = 0.00 sec. (2.75 ticks)\n",
      "Probing time = 0.00 sec. (4.49 ticks)\n",
      "Tried aggregator 1 time.\n",
      "MIP Presolve eliminated 2 rows and 2 columns.\n",
      "Reduced MIP has 404 rows, 171 columns, and 2109 nonzeros.\n",
      "Reduced MIP has 171 binaries, 0 generals, 0 SOSs, and 0 indicators.\n",
      "Presolve time = 0.00 sec. (2.61 ticks)\n",
      "Probing time = 0.00 sec. (3.09 ticks)\n",
      "Clique table members: 955.\n",
      "MIP emphasis: balance optimality and feasibility.\n",
      "MIP search method: dynamic search.\n",
      "Parallel mode: deterministic, using up to 8 threads.\n",
      "Root relaxation solution time = 0.00 sec. (3.99 ticks)\n",
      "\n",
      "        Nodes                                         Cuts/\n",
      "   Node  Left     Objective  IInf  Best Integer    Best Bound    ItCnt     Gap\n",
      "\n",
      "*     0+    0                            0.0000        7.0000              --- \n",
      "*     0+    0                            0.3333        7.0000              --- \n",
      "      0     0        1.0000   101        0.3333        1.0000      326  200.00%\n",
      "*     0+    0                            0.5000        1.0000           100.00%\n",
      "      0     0        0.9714   118        0.5000     Cuts: 168      452   94.27%\n",
      "      0     0        0.9167   106        0.5000     Cuts: 159      522   83.33%\n",
      "      0     0        0.9033   106        0.5000      Cuts: 38      573   80.65%\n",
      "      0     0        0.8907   124        0.5000      Cuts: 58      672   78.15%\n",
      "      0     0        0.8686   130        0.5000  ZeroHalf: 65      773   73.72%\n",
      "      0     0        cutoff              0.5000        0.5000      773    0.00%\n",
      "Elapsed time = 0.10 sec. (96.02 ticks, tree = 0.00 MB, solutions = 3)\n",
      "\n",
      "Clique cuts applied:  13\n",
      "Zero-half cuts applied:  31\n",
      "Lift and project cuts applied:  1\n",
      "Gomory fractional cuts applied:  4\n",
      "\n",
      "Root node processing (before b&c):\n",
      "  Real time             =    0.10 sec. (96.07 ticks)\n",
      "Parallel b&c, 8 threads:\n",
      "  Real time             =    0.00 sec. (0.00 ticks)\n",
      "  Sync time (average)   =    0.00 sec.\n",
      "  Wait time (average)   =    0.00 sec.\n",
      "                          ------------\n",
      "Total (root+branch&cut) =    0.10 sec. (96.07 ticks)\n",
      "\n",
      "Solution pool: 4 solutions saved.\n",
      "\n",
      "MIP - Integer optimal solution:  Objective =  5.0000000000e-01\n",
      "Solution time =    0.10 sec.  Iterations = 773  Nodes = 0\n",
      "Deterministic time = 96.07 ticks  (981.48 ticks/sec)\n",
      "\n",
      "CPLEX> Incumbent solution written to file '/tmp/tmpckxysoyl.cplex.sol'.\n",
      "CPLEX> The solver exited normally.\n",
      "A feasible and provably optimal solution is available.\n",
      "The Design has objective: 0.4999999999999998\n"
     ]
    }
   ],
   "source": [
    "D = m.maximize(m.Activity,tilim=360)"
   ]
  },
  {
   "cell_type": "markdown",
   "metadata": {},
   "source": [
    "## Processing Solutions\n",
    "\n",
    "If the optimizer was successful in finding an optimal (or just feasible) solution, we can plot the resulting design to any of several standard file formats. However, it is often useful to modify the design to highlight key features. Here, we label all O-sites that constitute one of the desired conformations by replacing the atom with an S."
   ]
  },
  {
   "cell_type": "code",
   "execution_count": 11,
   "metadata": {},
   "outputs": [],
   "source": [
    "if(D is not None):\n",
    "    for i,c in m.Zic.keys():\n",
    "        if(m.Zic.values[i,c] > 0.5):\n",
    "            D.setContent(i,Atom('S'))\n",
    "    D.toCFG('result.cfg',BBox=S)"
   ]
  }
 ],
 "metadata": {
  "kernelspec": {
   "display_name": "Python 3",
   "language": "python",
   "name": "python3"
  },
  "language_info": {
   "codemirror_mode": {
    "name": "ipython",
    "version": 3
   },
   "file_extension": ".py",
   "mimetype": "text/x-python",
   "name": "python",
   "nbconvert_exporter": "python",
   "pygments_lexer": "ipython3",
   "version": "3.6.8"
  }
 },
 "nbformat": 4,
 "nbformat_minor": 2
}
