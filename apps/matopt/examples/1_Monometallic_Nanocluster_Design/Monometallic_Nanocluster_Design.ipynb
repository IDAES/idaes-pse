{
 "cells": [
  {
   "cell_type": "markdown",
   "metadata": {},
   "source": [
    "# Monometallic Nanocluster Design\n",
    "\n",
    "In this module, we introduce the **MatOpt** interface for representing material properties and specifying optimization problems. \n",
    "\n",
    "We have designed the interface with severl goals in mind:\n",
    "\n",
    "1. To **simplify the representation of nanostructured materials,** streamlining the creation of materials optimization problems. \n",
    "2. To provide a simple interface so that users **do not need to understand the details of building mathematical optmization models** or the syntax of the Pyomo package. \n",
    "3. To **automate many of the common steps of materials optimization,** speeding up the development of new models. \n",
    "\n",
    "As an example system, we will consider the minimization of cohesive energy in nanoclusters, recently demonstrated in:\n",
    "\n",
    "Isenberg, N. M., et al., \"Identification of Optimally Stable Nanocluster Geometries via Mathematical Optimization and Density Functional Theory,\" *Molecular Systems Design & Engineering*, 2019. DOI: [10.1039/C9ME00108E](https://doi.org/10.1039/C9ME00108E). \n",
    "\n",
    "We seek to identify the geometry that minimizes the cohesive energy of a nanocluster on the face-centered cubic (FCC) lattice. \n",
    "As a model for cohesive energy, we use model based on the square-root of coordination number, refered to as the Tomanek model [[1]](https://doi.org/10.1103/PhysRevB.28.665).\n",
    "In the equation below, we define the normalized cohesive energy, as the normalized contribution of the square root of the coordination number. \n",
    "\n",
    "$$\\hat{E}^{\\text{surf}} = \\frac{1}{N \\sqrt{12}} \\displaystyle \\sum_i \\sqrt{CN_i} $$\n",
    "\n",
    "In the following sections, we demonstrate the basic approach for importing the MatOpt package, specifying the design space, formulating an optimization model, solving the optimization problem, and then outputting results. "
   ]
  },
  {
   "cell_type": "markdown",
   "metadata": {},
   "source": [
    "## Importing Packages\n",
    "\n",
    "We start by importing several standard Python modules for convienience. "
   ]
  },
  {
   "cell_type": "code",
   "execution_count": 1,
   "metadata": {},
   "outputs": [],
   "source": [
    "import os\n",
    "from math import sqrt"
   ]
  },
  {
   "cell_type": "markdown",
   "metadata": {},
   "source": [
    "Next, we import MatOpt."
   ]
  },
  {
   "cell_type": "code",
   "execution_count": 2,
   "metadata": {},
   "outputs": [],
   "source": [
    "from matopt import *"
   ]
  },
  {
   "cell_type": "markdown",
   "metadata": {},
   "source": [
    "## Representing Materials\n",
    "To begin formulating a material optimization problem, we need several pieces of information about the design space.\n",
    "Our goal is to generate a data structure for representing the choices in the design space, namely the choice of where to place atoms on FCC lattice sites. \n",
    "\n",
    "First, we define an ***FCCLattice*** object that holds the information about what sites should be included and which sites should be considered neighbors. \n",
    "As argument to the lattice object, we are required to provide the interatomic distance. "
   ]
  },
  {
   "cell_type": "code",
   "execution_count": 3,
   "metadata": {},
   "outputs": [],
   "source": [
    "Lat = FCCLattice(IAD=2.770)"
   ]
  },
  {
   "cell_type": "markdown",
   "metadata": {},
   "source": [
    "Next, we define a ***Canvas*** object that links Cartesian coordinates to more abstract graph consisting of sites and neighbors.\n",
    "We incrimentally construct a Canvas by first introducing a site at the origin of the coordinate system. \n",
    "Then, we add \"two shells\" of neighbors, meaning that we introduce a shell of sites neighboring to the origin (12 for the FCC lattice) and then introduce another shell of neighbors to that group (42 additional sites, for a total of 55 sites). \n",
    "The lattice object provides a *getNeighbors* method to identify these neighbors."
   ]
  },
  {
   "cell_type": "code",
   "execution_count": 4,
   "metadata": {},
   "outputs": [],
   "source": [
    "Canv = Canvas()\n",
    "Canv.addLocation(np.array([0,0,0],dtype=float))\n",
    "Canv.addShells(2,Lat.getNeighbors)"
   ]
  },
  {
   "cell_type": "markdown",
   "metadata": {},
   "source": [
    "Finally, we define a list of ***Atom*** objects to represent the building blocks of our materials. \n",
    "We then use a ***Design*** object to represent the conjunction of a Canvas with a specific arrangement of building blocks.\n",
    "The Design object will be used to represent the material decisions made during the solution of material optimization models. \n",
    "\n",
    "Before applying optimization, we can use the Design object to plot the sites of the Canvas and ensure that we constructed the intended design space. \n",
    "We include several parsers to basic crystal structure file formats such as [XYZ](https://openbabel.org/docs/dev/FileFormats/XYZ_cartesian_coordinates_format.html), [PDB](https://www.rcsb.org/pdb/static.do?p=file_formats/pdb/index.html), [POSCAR](https://cms.mpi.univie.ac.at/vasp/guide/node59.html), and [CFG](http://li.mit.edu/Archive/Graphics/A/index.html#standard_CFG). "
   ]
  },
  {
   "cell_type": "code",
   "execution_count": 5,
   "metadata": {},
   "outputs": [],
   "source": [
    "Atoms = [Atom('Pt')]\n",
    "D = Design(Canv,Atom('Pt'))\n",
    "D.toPDB('canvas_sites.pdb')"
   ]
  },
  {
   "cell_type": "markdown",
   "metadata": {},
   "source": [
    "## Building a Model\n",
    "\n",
    "To hold the materials information, we create a ***MatOptModel*** object. \n",
    "This will hold information about the relevant Canvas, Atoms, and material conformations that may be present in a system. \n",
    "Additionally, we define a parameter for the desired size of the cluster which will be utilized later by several methods. "
   ]
  },
  {
   "cell_type": "code",
   "execution_count": 6,
   "metadata": {},
   "outputs": [],
   "source": [
    "N = 22\n",
    "m = MatOptModel(Canv,Atoms)"
   ]
  },
  {
   "cell_type": "markdown",
   "metadata": {},
   "source": [
    "The MatOptModel additionally hold lists of  ***MaterialDescriptor*** objects that define the relevant material desriptors. \n",
    "By default, several universal site descriptors are pre-defined in the model. \n",
    "From these, all other material descriptors can be defined.\n",
    "\n",
    "| Descriptor    | Explanation |\n",
    "|:--------------|:------------|\n",
    "| ***m.Yik***   | Presence of a building block of type k at site i |\n",
    "| ***m.Yi***    | Presence of any type of building block at site i |\n",
    "| ***m.Xijkl*** | Presence of a building block of type k at site i and a building block of type l at site j |\n",
    "| ***m.Xij***   | Presence of any building block at site i and any building block at site j |\n",
    "| ***m.Cikl***  | Count of neighbors of type l next to a building block of type k at site i |\n",
    "| ***m.Ci***    | Count of any type of neighbors next to a building block at site i |\n",
    "\n",
    "User-specified descriptors are defined by ***DescriptorRule*** objects in conjunction with ***Expr*** expression objects. \n",
    "Available expressions include:\n",
    "\n",
    "| Expression               | Explanation |\n",
    "|:-------------------------|:------------|\n",
    "| ***LinearExpr***         | Multiplication and addition of coefficients to distinct MaterialDescriptors |\n",
    "| ***SiteCombination***    | Summation of site contributions from two sites |\n",
    "| ***SumNeighborSites***   | Summation of site contributions from all neighboring sites |\n",
    "| ***SumNeighborBonds***   | Summation of bond contributions to all neighboring sites |\n",
    "| ***SumSites***           | Summation across sites |\n",
    "| ***SumBonds***           | Summation across bonds |\n",
    "| ***SumSiteTypes***       | Summation across site types |\n",
    "| ***SumBondTypes***       | Summation across bond types |\n",
    "| ***SumSitesAndTypes***   | Summation across sites and site types |\n",
    "| ***SumBondsAndTypes***   | Summation across bonds and bond types |\n",
    "| ***SumConfs***           | Summation across conformation types |\n",
    "| ***SumSitesAndConfs***   | Summation across sites and conformation types |\n",
    "\n",
    "Several types of DescriptorRules are available. \n",
    "\n",
    "| Rule                          | Explanation |\n",
    "|:------------------------------|:------------|\n",
    "| ***LessThan***                | Descriptor less than or equal to an expression |\n",
    "| ***EqualTo***                 | Descriptor equal to an expression |\n",
    "| ***GreaterThan***             | Descriptor greater than or equal to an expression |\n",
    "| ***FixedTo***                 | Descriptor fixed to a scalar value |\n",
    "| ***PiecewiseLinear***         | Descriptor equal to the evaluation of a piecewise linear function |\n",
    "| ***Implies***                 | Indicator descriptor that imposes other constraints if equal to 1 |\n",
    "| ***NegImplies***              | Indicator descriptor that imposes other constraints if equal to 0 |\n",
    "| ***ImpliesSiteCombination***  | Indicator bond-indexed descriptor that imposes constraints on the two sites |\n",
    "| ***ImpliesNeighbors***        | Indicator site-indexed descriptor that imposes constraints on neighboring sites |\n",
    "\n",
    "From the combination of pre-defined descriptors, expressions, and rules we can specify a wide variety of other descriptors. "
   ]
  },
  {
   "cell_type": "markdown",
   "metadata": {},
   "source": [
    "In the context of nanocluster cohesive energy minimization, we would first like to define the square root of the coordination number. \n",
    "We achieve this by calling the ***addSitesDescriptor*** method on MatOptModel, passing the information necessary to create a ***PiecewiseLinear*** rule to correctly define the square root of coordination at the integer coordination number values. \n",
    "Note that we use ***m.Ci***, the pre-defined basic variable for the count of neighboring building blocks and equivalent to the coordination number in this system, as the argument for the piecewise linear function. \n",
    "We use basic Python lists to express the data for the piecewise linear function values at integer numbers of coordination. "
   ]
  },
  {
   "cell_type": "code",
   "execution_count": 7,
   "metadata": {},
   "outputs": [],
   "source": [
    "Vals = [sqrt(CN) for CN in range(0,13)]\n",
    "BPs = [CN for CN in range(0,13)]\n",
    "m.addSitesDescriptor('CNRi',bounds=(0,sqrt(12)),integer=False,\n",
    "                     rules=PiecewiseLinear(values=Vals,\n",
    "                                           breakpoints=BPs,\n",
    "                                           input_desc=m.Ci))"
   ]
  },
  {
   "cell_type": "markdown",
   "metadata": {},
   "source": [
    "Next, we define a global (i.e., not indexed by sites or bonds) descriptor for the cohesive energy of the nanocluster. \n",
    "We us a simple ***EqualTo*** rule to set this descriptor equal to a normalized sum of contributions from the square root coordination number descriptor. "
   ]
  },
  {
   "cell_type": "code",
   "execution_count": 8,
   "metadata": {},
   "outputs": [],
   "source": [
    "m.addGlobalDescriptor('Ecoh',rules=EqualTo(SumSites(desc=m.CNRi,\n",
    "                                                    coefs=(1/(N*sqrt(12))))))"
   ]
  },
  {
   "cell_type": "markdown",
   "metadata": {},
   "source": [
    "Finally, we create a descriptor for the size of the nanocluster. \n",
    "We set bounds on this descriptor to effectively constrain the design space to only include clusters of the desired size, *N*. "
   ]
  },
  {
   "cell_type": "code",
   "execution_count": 9,
   "metadata": {},
   "outputs": [],
   "source": [
    "m.addGlobalDescriptor('Size',bounds=(N,N),\n",
    "                      rules=EqualTo(SumSites(desc=m.Yi)))"
   ]
  },
  {
   "cell_type": "markdown",
   "metadata": {},
   "source": [
    "## Solving the Model\n",
    "Once all the relevant information in the model is provided, we search for optimal designs that maximize one of the descriptors. \n",
    "In this example, we provide the descriptor for coehisver energy as the target functionality. \n",
    "Additionally, we specify a time limit in seconds as a keyword argument to the maximize method. \n",
    "For more information, see the documentation of the maximize function, available in the source code or by using the Python *help* function."
   ]
  },
  {
   "cell_type": "code",
   "execution_count": 10,
   "metadata": {},
   "outputs": [
    {
     "name": "stdout",
     "output_type": "stream",
     "text": [
      "Help on function maximize in module matopt.opt.mat_modeling:\n",
      "\n",
      "maximize(self, func, **kwargs)\n",
      "    Method to maximize a target functionality of the material model.\n",
      "    \n",
      "    Args:\n",
      "    func (MaterialDescriptor/Expr): Material functionality to optimize.\n",
      "    **kwargs: Arguments to MatOptModel.optimize\n",
      "    \n",
      "    Returns:\n",
      "    (Design/list<Design>) Optimal designs.\n",
      "    \n",
      "    See MatOptModel.optimize method for details.\n",
      "\n",
      "Help on function optimize in module matopt.opt.mat_modeling:\n",
      "\n",
      "optimize(self, func, sense, nSolns=1, tee=True, disp=1, keepfiles=False, tilim=3600, trelim=None)\n",
      "    Method to create and optimize the materials design problem.\n",
      "    \n",
      "    This method automatically creates a new optimization model every \n",
      "    time it is called. Then, it solves the model via Pyomo with the \n",
      "    CPLEX solver.\n",
      "    \n",
      "    If multiple solutions (called a 'solution pool') are desired, then\n",
      "    the nSolns argument can be provided and the populate method will \n",
      "    be called instead. \n",
      "    \n",
      "    Args:\n",
      "    func (MaterialDescriptor/Expr): Material functionality to optimize.\n",
      "    sense (int): flag to indicate the choice to minimize or maximize the\n",
      "        functionality of interest. \n",
      "        Choices: minimize/maximize (Pyomo constants 1,-1 respectively)\n",
      "    nSolns (int): Optional, number of Design objects to return.\n",
      "        Default: 1 (See MatOptModel.populate for more information)\n",
      "    tee (bool): Optional, flag to turn on solver output. \n",
      "        Default: True\n",
      "    disp (int): Optional, flag to control level of MatOpt output.\n",
      "        Choices: 0: No MatOpt output (other than solver tee)\n",
      "                 1: MatOpt output for outer level method\n",
      "                 2: MatOpt output for solution pool & individual solns.\n",
      "        Default: 1\n",
      "    keepfiles (bool): Optional, flag to save temporary pyomo files. \n",
      "        Default: True\n",
      "    tilim (float): Optional, solver time limit (in seconds). \n",
      "        Default: 3600\n",
      "    trelim (float): Optional, solver tree memeory limit (in MB).\n",
      "        Default: None (i.e., Pyomo/CPLEX default)\n",
      "    \n",
      "    Returns:\n",
      "    (Design/list<Design>) Optimal design or designs, depending on the \n",
      "        number of solutions requested by argument nSolns.\n",
      "\n"
     ]
    }
   ],
   "source": [
    "help(MatOptModel.maximize)\n",
    "help(MatOptModel.optimize)"
   ]
  },
  {
   "cell_type": "code",
   "execution_count": 11,
   "metadata": {},
   "outputs": [
    {
     "name": "stdout",
     "output_type": "stream",
     "text": [
      "\n",
      "Welcome to IBM(R) ILOG(R) CPLEX(R) Interactive Optimizer 12.6.1.0\n",
      "  with Simplex, Mixed Integer & Barrier Optimizers\n",
      "5725-A06 5725-A29 5724-Y48 5724-Y49 5724-Y54 5724-Y55 5655-Y21\n",
      "Copyright IBM Corp. 1988, 2014.  All Rights Reserved.\n",
      "\n",
      "Type 'help' for a list of available commands.\n",
      "Type 'help' followed by a command name for more\n",
      "information on commands.\n",
      "\n",
      "CPLEX> Logfile 'cplex.log' closed.\n",
      "Logfile '/tmp/tmpyyvw8afg.cplex.log' open.\n",
      "CPLEX> New value for absolute mixed integer optimality gap tolerance: 0\n",
      "CPLEX> New value for mixed integer optimality gap tolerance: 0\n",
      "CPLEX> New value for time limit in seconds: 100\n",
      "CPLEX> Problem '/tmp/tmppdm7y76o.pyomo.lp' read.\n",
      "Read time = 0.02 sec. (0.18 ticks)\n",
      "CPLEX> Problem name         : /tmp/tmppdm7y76o.pyomo.lp\n",
      "Objective sense      : Maximize\n",
      "Variables            :    1315  [Nneg: 716,  Fix: 1,  Box: 55,  Free: 1,\n",
      "                                 Binary: 487,  General Integer: 55]\n",
      "Objective nonzeros   :       1\n",
      "Linear constraints   :    1519  [Less: 1296,  Equal: 223]\n",
      "  Nonzeros           :    5769\n",
      "  RHS nonzeros       :     488\n",
      "SOS                  :      55  [SOS2: 55, 715 members, all continuous]\n",
      "\n",
      "Variables            : Min LB: 0.000000         Max UB: 22.00000       \n",
      "Objective nonzeros   : Min   : 1.000000         Max   : 1.000000       \n",
      "Linear constraints   :\n",
      "  Nonzeros           : Min   : 0.01312160       Max   : 12.00000       \n",
      "  RHS nonzeros       : Min   : 1.000000         Max   : 1.000000       \n",
      "CPLEX> Tried aggregator 2 times.\n",
      "MIP Presolve eliminated 2 rows and 189 columns.\n",
      "Aggregator did 55 substitutions.\n",
      "Reduced MIP has 1462 rows, 1071 columns, and 5043 nonzeros.\n",
      "Reduced MIP has 487 binaries, 0 generals, 55 SOSs, and 0 indicators.\n",
      "Presolve time = 0.03 sec. (5.87 ticks)\n",
      "Probing time = 0.01 sec. (5.75 ticks)\n",
      "Tried aggregator 1 time.\n",
      "MIP Presolve eliminated 648 rows and 216 columns.\n",
      "Reduced MIP has 814 rows, 855 columns, and 3531 nonzeros.\n",
      "Reduced MIP has 271 binaries, 0 generals, 55 SOSs, and 0 indicators.\n",
      "Presolve time = 0.00 sec. (4.18 ticks)\n",
      "Probing time = 0.00 sec. (1.86 ticks)\n",
      "Tried aggregator 1 time.\n",
      "Reduced MIP has 814 rows, 855 columns, and 3531 nonzeros.\n",
      "Reduced MIP has 271 binaries, 0 generals, 55 SOSs, and 0 indicators.\n",
      "Presolve time = 0.00 sec. (2.36 ticks)\n",
      "Probing time = 0.00 sec. (1.87 ticks)\n",
      "Clique table members: 432.\n",
      "MIP emphasis: balance optimality and feasibility.\n",
      "MIP search method: dynamic search.\n",
      "Parallel mode: deterministic, using up to 8 threads.\n",
      "Root relaxation solution time = 0.03 sec. (40.90 ticks)\n",
      "\n",
      "        Nodes                                         Cuts/\n",
      "   Node  Left     Objective  IInf  Best Integer    Best Bound    ItCnt     Gap\n",
      "\n",
      "      0     0        1.2621   271                      1.2621     1179         \n",
      "*     0+    0                            0.5285        1.2621           138.81%\n",
      "*     0+    0                            0.6055        1.2621           108.42%\n",
      "      0     0        0.7995   326        0.6055     Cuts: 303     1764   32.04%\n",
      "*     0+    0                            0.6310        0.7995            26.71%\n",
      "      0     0        0.7936   324        0.6310       Cuts: 6     1836   25.77%\n",
      "      0     0        0.7926   325        0.6310   ZeroHalf: 7     1862   25.61%\n",
      "      0     0        0.7921   326        0.6310   ZeroHalf: 8     1892   25.53%\n",
      "      0     0        0.7918   326        0.6310   ZeroHalf: 6     1916   25.49%\n",
      "*     0+    0                            0.6639        0.7918            19.26%\n",
      "      0     0        0.7916   326        0.6639   ZeroHalf: 6     1941   18.90%\n",
      "      0     0        0.7882   325        0.6639       Cuts: 8     2008   18.71%\n",
      "      0     0        0.7867   325        0.6639      Cuts: 10     2088   18.49%\n",
      "*     0+    0                            0.6790        0.7867            15.87%\n",
      "*     0+    0                            0.7087        0.7867            11.01%\n",
      "      0     0        0.7864   326        0.7087   ZeroHalf: 5     2118   10.97%\n",
      "      0     0        0.7864   326        0.7087   ZeroHalf: 2     2129   10.96%\n",
      "      0     0        0.7863   326        0.7087   ZeroHalf: 3     2144   10.95%\n",
      "*     0+    0                            0.7251        0.7863             8.44%\n",
      "      0     2        0.7863   326        0.7251        0.7863     2144    8.44%\n",
      "Elapsed time = 0.71 sec. (542.46 ticks, tree = 0.00 MB, solutions = 7)\n",
      "*    44+   30                            0.7254        0.7796             7.47%\n",
      "*    51    34      integral     0        0.7309        0.7736     6230    5.84%\n",
      "    165    41        0.7403   174        0.7309        0.7670    13066    4.94%\n",
      "    781   190        cutoff              0.7309        0.7402    34131    1.27%\n",
      "\n",
      "Implied bound cuts applied:  55\n",
      "Mixed integer rounding cuts applied:  11\n",
      "Zero-half cuts applied:  9\n",
      "Lift and project cuts applied:  1\n",
      "Gomory fractional cuts applied:  7\n",
      "\n",
      "Root node processing (before b&c):\n",
      "  Real time             =    0.70 sec. (541.04 ticks)\n",
      "Parallel b&c, 8 threads:\n",
      "  Real time             =    0.61 sec. (639.31 ticks)\n",
      "  Sync time (average)   =    0.15 sec.\n",
      "  Wait time (average)   =    0.16 sec.\n",
      "                          ------------\n",
      "Total (root+branch&cut) =    1.32 sec. (1180.35 ticks)\n",
      "\n",
      "Solution pool: 9 solutions saved.\n",
      "\n",
      "MIP - Integer optimal solution:  Objective =  7.3092764017e-01\n",
      "Solution time =    1.32 sec.  Iterations = 45901  Nodes = 1439\n",
      "Deterministic time = 1180.36 ticks  (893.28 ticks/sec)\n",
      "\n",
      "CPLEX> Incumbent solution written to file '/tmp/tmp480cjg47.cplex.sol'.\n",
      "CPLEX> The solver exited normally.\n",
      "A feasible and provably optimal solution is available.\n",
      "The Design has objective: 0.730927640166201\n"
     ]
    }
   ],
   "source": [
    "D = m.maximize(m.Ecoh,tilim=100)"
   ]
  },
  {
   "cell_type": "markdown",
   "metadata": {},
   "source": [
    "## Processing Results\n",
    "\n",
    "If a result is found, we can write it to file and plot with visualization software. \n",
    "We provide interfaces to several standard crystal structure file formats, including [XYZ](https://openbabel.org/docs/dev/FileFormats/XYZ_cartesian_coordinates_format.html), [PDB](https://www.rcsb.org/pdb/static.do?p=file_formats/pdb/index.html), [POSCAR](https://cms.mpi.univie.ac.at/vasp/guide/node59.html), and [CFG](http://li.mit.edu/Archive/Graphics/A/index.html#standard_CFG). "
   ]
  },
  {
   "cell_type": "code",
   "execution_count": 12,
   "metadata": {},
   "outputs": [],
   "source": [
    "if(D is not None):\n",
    "    D.toPDB('result.pdb')"
   ]
  }
 ],
 "metadata": {
  "kernelspec": {
   "display_name": "Python 3",
   "language": "python",
   "name": "python3"
  },
  "language_info": {
   "codemirror_mode": {
    "name": "ipython",
    "version": 3
   },
   "file_extension": ".py",
   "mimetype": "text/x-python",
   "name": "python",
   "nbconvert_exporter": "python",
   "pygments_lexer": "ipython3",
   "version": "3.6.8"
  }
 },
 "nbformat": 4,
 "nbformat_minor": 2
}
