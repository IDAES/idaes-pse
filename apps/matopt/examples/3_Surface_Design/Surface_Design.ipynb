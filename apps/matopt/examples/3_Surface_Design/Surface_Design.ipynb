{
 "cells": [
  {
   "cell_type": "markdown",
   "metadata": {},
   "source": [
    "# Surface Design\n",
    "This notebook serves as an example application of the MatOpt framework.\n",
    "We consider an example optimization problem of designing a monometallic nanostructured catalyst surface."
   ]
  },
  {
   "cell_type": "markdown",
   "metadata": {},
   "source": [
    "## Importing Packages\n",
    "We start by importing several standard Python modules for convienience. "
   ]
  },
  {
   "cell_type": "code",
   "execution_count": 1,
   "metadata": {},
   "outputs": [],
   "source": [
    "import os \n",
    "from math import sqrt\n",
    "import numpy as np\n",
    "from copy import deepcopy"
   ]
  },
  {
   "cell_type": "markdown",
   "metadata": {},
   "source": [
    "Next, we import MatOpt."
   ]
  },
  {
   "cell_type": "code",
   "execution_count": 2,
   "metadata": {},
   "outputs": [],
   "source": [
    "from matopt import *"
   ]
  },
  {
   "cell_type": "markdown",
   "metadata": {},
   "source": [
    "## Representing Materials\n",
    "To begin, we define a **Lattice** object. In this example, **FCCLattice** is the appropriate a child class of Lattice. This object will serve to define neighbor connections and helps us generically create other objects. We construct our lattice from a class method constructor for FCC lattices aligned with the {111} plane. "
   ]
  },
  {
   "cell_type": "code",
   "execution_count": 3,
   "metadata": {},
   "outputs": [],
   "source": [
    "IAD = 2.828427 # Angstrom\n",
    "Lat = FCCLattice.alignedWith111(IAD)"
   ]
  },
  {
   "cell_type": "markdown",
   "metadata": {},
   "source": [
    "Next, we define a **Shape** object that we will use to specify a design space. Additionally, in this example our design space is periodic, so we will define a **Tiling** object to hold information about the periodicity. In this example, **Parallelepiped** and **PlanarTiling** are the appropriate child classes for these objects, respectively.\n",
    "\n",
    "Note that we shift the shape of our design space slightly, in order to avoid confusion about which lattice sites that lie perfectly on the shape facet should be included."
   ]
  },
  {
   "cell_type": "code",
   "execution_count": 4,
   "metadata": {},
   "outputs": [],
   "source": [
    "nUnitCellsOnEdge = 4\n",
    "nLayers = 6\n",
    "a = nUnitCellsOnEdge*IAD\n",
    "b = a\n",
    "c = nLayers*Lat.FCC111LayerSpacing\n",
    "alpha = np.pi/2\n",
    "beta = np.pi/2\n",
    "gamma = np.pi/3\n",
    "S = Parallelepiped.fromEdgesAndAngles(a,b,c,alpha,beta,gamma)\n",
    "S.shift(np.array([-0.01*a,-0.01*b,-0.01*c]))\n",
    "T = PlanarTiling(S)"
   ]
  },
  {
   "cell_type": "markdown",
   "metadata": {},
   "source": [
    "Given the parameters for a design space, we can construct a **Canvas** object to hold information about points and nearest neighbors. In this example, the object is efficiently constructed from a scan over lattice sites. In general, the Canvas can be constructed and manipulated via user-defined algorithms."
   ]
  },
  {
   "cell_type": "code",
   "execution_count": 5,
   "metadata": {},
   "outputs": [],
   "source": [
    "Canv = Canvas.fromLatticeAndTilingScan(Lat,T)"
   ]
  },
  {
   "cell_type": "markdown",
   "metadata": {},
   "source": [
    "The Canvas object hold information about the design space and the lattice sites, but it does not specify any material building block information. To represent material configurations, use a **Design** object. \n",
    "\n",
    "Initially, the Design is empty. There are several ways to place **Atom** (i.e., building block) objects in a Design. In this example, we are considering a Pt surface for the oxygen reduction reaction. We can initialize a design representing the FCC {111} surface by using a standard constructor for the Design object.\n",
    "\n",
    "To debug our work so far, we can create material structure files to load and plot with standard visualization tools such as AtomEye. Here, we create PDB (protein data bank format, www.rcsb.org) and CFG (AtomEye configuration, li.mit.edu/A/Graphics/A/) files for the design. These files can be plotted with visualization packages such as AtomEye or OVITO."
   ]
  },
  {
   "cell_type": "code",
   "execution_count": 6,
   "metadata": {},
   "outputs": [],
   "source": [
    "D = Design(Canv,Atom('Pt'))\n",
    "D.toPDB('undefected.pdb')\n",
    "D.toCFG('undefected.cfg',GS=1.0,BBox=S)"
   ]
  },
  {
   "cell_type": "markdown",
   "metadata": {},
   "source": [
    "## Building a Model\n",
    "\n",
    "In this example, we will build a model that maximizes the number of sites that are reactive for the oxygen reduction reaction (ORR). More generally, our model will indicate sites that are within a certain tolerance of a target generalized coordination number (GCN). These target sites can also be constrained to lie within minimum and maximum coordination number to be considered surface sites. \n",
    "\n",
    "Additionally, we model the surface energy of nanostructured designs. This surface energy can be constrained to be below a threshold and can be included in the objective function. We can parametrically optimize the multi-objective optimization problem by defining a weighting, *CatWeight*, that controls how much weight is given to the catalytic activity term in the objective function. A weighting of 1 corresponds to the optimally active material and a weighting of 0 corresponds to the lowest surface energy design. \n"
   ]
  },
  {
   "cell_type": "code",
   "execution_count": 7,
   "metadata": {},
   "outputs": [],
   "source": [
    "Atoms = [Atom('Pt')]\n",
    "TargetGCN = 8.0\n",
    "CNsurfMin = 3\n",
    "CNsurfMax = 9\n",
    "TileSizeSquared = nUnitCellsOnEdge**2\n",
    "UndefectedSurfE = 0.129758\n",
    "maxSurfE = 999\n",
    "CatWeight = 1.0"
   ]
  },
  {
   "cell_type": "markdown",
   "metadata": {},
   "source": [
    "To begin, we start by creating a ***MatOptModel*** object to hold information about the model. "
   ]
  },
  {
   "cell_type": "code",
   "execution_count": 8,
   "metadata": {},
   "outputs": [],
   "source": [
    "m = MatOptModel(Canv,Atoms)"
   ]
  },
  {
   "cell_type": "markdown",
   "metadata": {},
   "source": [
    "By default, several basic variables are pre-defined. See the first example, ***Monometallic_Nanocluster_Design.ipynb*** for a description of basic variables, expressions, and constraint rules."
   ]
  },
  {
   "cell_type": "markdown",
   "metadata": {},
   "source": [
    "First, we introduce two rules to fix special sites in the design. \n",
    "We fix the bottom two layers of atoms to exist, creating underlying bulk layers above which we will introduce nanostruced defets.\n",
    "We also fix an arbitrary atom in the top layer, breaking symetry of the design space and resulting in easier to solve opitmization problems without actually restricting the designs that can be possibly represented. "
   ]
  },
  {
   "cell_type": "code",
   "execution_count": 9,
   "metadata": {},
   "outputs": [],
   "source": [
    "CanvTwoBotLayers = [i for i in range(len(Canv)) \n",
    "                    if Canv.Points[i][2] < 1.5*Lat.FCC111LayerSpacing]\n",
    "CanvMinusTwoBotLayers = [i for i in range(len(Canv)) \n",
    "                         if i not in CanvTwoBotLayers]\n",
    "OneSiteInTopLayer = [min([i for i in range(len(Canv)) \n",
    "                          if Canv.Points[i][2] > (nLayers-1.5)*Lat.FCC111LayerSpacing])]\n",
    "m.Yi.rules.append(FixedTo(1,sites=OneSiteInTopLayer))\n",
    "m.Yi.rules.append(FixedTo(1,sites=CanvTwoBotLayers))"
   ]
  },
  {
   "cell_type": "markdown",
   "metadata": {},
   "source": [
    "Next, we introduce constraints thtat require atoms to be placed on top of each other, avoiding hollow pockets below the surface. "
   ]
  },
  {
   "cell_type": "code",
   "execution_count": 10,
   "metadata": {},
   "outputs": [],
   "source": [
    "NeighborsBelow = [[j for j in Canv.NeighborhoodIndexes[i] \n",
    "                   if(j is not None and\n",
    "                      Canv.Points[j][2]<Canv.Points[i][2]-DBL_TOL)] \n",
    "                  for i in range(len(Canv))]\n",
    "m.Yi.rules.append(ImpliesNeighbors(concs=(m.Yi,GreaterThan(1)),\n",
    "                                   sites=CanvMinusTwoBotLayers,\n",
    "                                   neighborhoods=NeighborsBelow))"
   ]
  },
  {
   "cell_type": "markdown",
   "metadata": {},
   "source": [
    "Next, we introduce several rules for the geometric and reactive descriptors of sites in the design. \n",
    "We define the generalized coordination number according to a linear equality constraint. \n",
    "Then, we define ideal sites as having a conjunction of requirements on the generalized coordination number, and regular coordination number. \n",
    "Finally, we define activity as the count of sites with target coordination number. "
   ]
  },
  {
   "cell_type": "code",
   "execution_count": 11,
   "metadata": {},
   "outputs": [],
   "source": [
    "m.addSitesDescriptor('GCNi',bounds=(0,12),integer=False,\n",
    "                     rules=EqualTo(SumNeighborSites(desc=m.Ci,\n",
    "                                                    coefs=1/12)),\n",
    "                     sites=CanvMinusTwoBotLayers)\n",
    "m.addSitesDescriptor('IdealSitei',binary=True,\n",
    "                     rules=[Implies(concs=(m.Ci,GreaterThan(3))),\n",
    "                            Implies(concs=(m.Ci,LessThan(9))),\n",
    "                            Implies(concs=(m.GCNi,EqualTo(TargetGCN)))],\n",
    "                     sites=CanvMinusTwoBotLayers)\n",
    "m.addGlobalDescriptor('Activity',bounds=(0,1),\n",
    "                      rules=EqualTo(SumSites(m.IdealSitei,coefs=1/TileSizeSquared)))"
   ]
  },
  {
   "cell_type": "markdown",
   "metadata": {},
   "source": [
    "Next, we define a simple model for the surface energy of nanostructured slabs as a piecwise linear function of coordination number. "
   ]
  },
  {
   "cell_type": "code",
   "execution_count": 12,
   "metadata": {},
   "outputs": [],
   "source": [
    "EiVals = [0, -0.04293*3+0.41492, -0.04293*10+0.41492, 0.05179*11-0.62148, 0]\n",
    "EiBPs = [0, 3, 10, 11, 12]\n",
    "m.addSitesDescriptor('Ei',rules=PiecewiseLinear(values=EiVals,\n",
    "                                                breakpoints=EiBPs,\n",
    "                                                input_desc=m.Ci),\n",
    "                     sites=CanvMinusTwoBotLayers)\n",
    "m.addGlobalDescriptor('Esurf',bounds=(None,maxSurfE),\n",
    "                      rules=EqualTo(SumSites(m.Ei,coefs=1/TileSizeSquared,offset=0.101208)))\n",
    "m.addGlobalDescriptor('Stability',\n",
    "                      rules=EqualTo(LinearExpr(m.Esurf,1/UndefectedSurfE)))"
   ]
  },
  {
   "cell_type": "markdown",
   "metadata": {},
   "source": [
    "Finally,  we introduce a descriptor for the weighted combination of activity and stability. "
   ]
  },
  {
   "cell_type": "code",
   "execution_count": 13,
   "metadata": {},
   "outputs": [],
   "source": [
    "m.addGlobalDescriptor('ActAndStab',\n",
    "                      rules=EqualTo(LinearExpr(descs=[m.Stability,m.Activity],\n",
    "                                                      coefs=[-(1-CatWeight),CatWeight])))"
   ]
  },
  {
   "cell_type": "markdown",
   "metadata": {},
   "source": [
    "## Solving the Model\n",
    "\n",
    "Given a fully formed Pyomo model, we have several capabilities to optimize and visualize the solution. \n",
    "In this example, we simply call the maximize method to optimize the balance of activity and stability"
   ]
  },
  {
   "cell_type": "code",
   "execution_count": 14,
   "metadata": {},
   "outputs": [
    {
     "name": "stdout",
     "output_type": "stream",
     "text": [
      "\n",
      "Welcome to IBM(R) ILOG(R) CPLEX(R) Interactive Optimizer 12.6.1.0\n",
      "  with Simplex, Mixed Integer & Barrier Optimizers\n",
      "5725-A06 5725-A29 5724-Y48 5724-Y49 5724-Y54 5724-Y55 5655-Y21\n",
      "Copyright IBM Corp. 1988, 2014.  All Rights Reserved.\n",
      "\n",
      "Type 'help' for a list of available commands.\n",
      "Type 'help' followed by a command name for more\n",
      "information on commands.\n",
      "\n",
      "CPLEX> Logfile 'cplex.log' closed.\n",
      "Logfile '/tmp/tmppgmxz9vy.cplex.log' open.\n",
      "CPLEX> New value for absolute mixed integer optimality gap tolerance: 0\n",
      "CPLEX> New value for mixed integer optimality gap tolerance: 0\n",
      "CPLEX> New value for time limit in seconds: 360\n",
      "CPLEX> Problem '/tmp/tmpmqh62f6a.pyomo.lp' read.\n",
      "Read time = 0.01 sec. (0.32 ticks)\n",
      "CPLEX> Problem name         : /tmp/tmpmqh62f6a.pyomo.lp\n",
      "Objective sense      : Maximize\n",
      "Variables            :    1428  [Nneg: 321,  Box: 65,  Free: 66,  Binary: 895,\n",
      "                                 General Integer: 80,  Other: 1]\n",
      "Objective nonzeros   :       1\n",
      "Linear constraints   :    3573  [Less: 3232,  Equal: 341]\n",
      "  Nonzeros           :    8656\n",
      "  RHS nonzeros       :    1029\n",
      "SOS                  :      64  [SOS2: 64, 320 members, all continuous]\n",
      "\n",
      "Variables            : Min LB: 0.000000         Max UB: 999.0000       \n",
      "Objective nonzeros   : Min   : 1.000000         Max   : 1.000000       \n",
      "Linear constraints   :\n",
      "  Nonzeros           : Min   : 0.01438000       Max   : 12.00000       \n",
      "  RHS nonzeros       : Min   : 0.1012080        Max   : 12.00000       \n",
      "CPLEX> MIP Presolve eliminated 1 redundant SOS constraints.\n",
      "Tried aggregator 2 times.\n",
      "MIP Presolve eliminated 2237 rows and 539 columns.\n",
      "MIP Presolve modified 488 coefficients.\n",
      "Aggregator did 256 substitutions.\n",
      "Reduced MIP has 1080 rows, 633 columns, and 4051 nonzeros.\n",
      "Reduced MIP has 301 binaries, 66 generals, 63 SOSs, and 0 indicators.\n",
      "Presolve time = 0.01 sec. (10.00 ticks)\n",
      "Probing fixed 0 vars, tightened 70 bounds.\n",
      "Probing time = 0.03 sec. (30.84 ticks)\n",
      "Tried aggregator 1 time.\n",
      "Reduced MIP has 1080 rows, 633 columns, and 4051 nonzeros.\n",
      "Reduced MIP has 301 binaries, 66 generals, 63 SOSs, and 0 indicators.\n",
      "Presolve time = 0.00 sec. (2.83 ticks)\n",
      "Probing fixed 0 vars, tightened 6 bounds.\n",
      "Probing time = 0.02 sec. (23.29 ticks)\n",
      "Clique table members: 2849.\n",
      "MIP emphasis: balance optimality and feasibility.\n",
      "MIP search method: dynamic search.\n",
      "Parallel mode: deterministic, using up to 8 threads.\n",
      "Root relaxation solution time = 0.01 sec. (13.74 ticks)\n",
      "\n",
      "        Nodes                                         Cuts/\n",
      "   Node  Left     Objective  IInf  Best Integer    Best Bound    ItCnt     Gap\n",
      "\n",
      "      0     0        1.0000   182                      1.0000      196         \n",
      "*     0+    0                            0.0000        1.0000              --- \n",
      "      0     0        1.0000   148        0.0000      Cuts: 13      249     --- \n",
      "      0     0        1.0000   269        0.0000     Cuts: 167      427     --- \n",
      "*     0+    0                            0.0625        1.0000              --- \n",
      "      0     0        1.0000   187        0.0625      Cuts: 15      460     --- \n",
      "      0     0        1.0000   310        0.0625      Cuts: 96      620     --- \n",
      "      0     2        1.0000   274        0.0625        1.0000      620     --- \n",
      "Elapsed time = 0.47 sec. (420.18 ticks, tree = 0.00 MB, solutions = 2)\n",
      "*   281+  116                            0.1875        1.0000           433.33%\n",
      "    296    60        0.8914   209        0.1875        1.0000    10764  433.33%\n",
      "*   478+  123                            0.2500        1.0000           300.00%\n",
      "    770   161        0.8694   239        0.2500        1.0000    30637  300.00%\n",
      "   1219   303        0.9495   289        0.2500        1.0000    57291  300.00%\n",
      "*  1580   432      integral     0        0.3750        0.9460    73750  152.27%\n",
      "   1833   217        0.4420   128        0.3750        0.8149    88172  117.32%\n",
      "\n",
      "Clique cuts applied:  6\n",
      "Cover cuts applied:  17\n",
      "Implied bound cuts applied:  249\n",
      "Mixed integer rounding cuts applied:  1\n",
      "Zero-half cuts applied:  3\n",
      "\n",
      "Root node processing (before b&c):\n",
      "  Real time             =    0.47 sec. (419.13 ticks)\n",
      "Parallel b&c, 8 threads:\n",
      "  Real time             =    1.16 sec. (1061.27 ticks)\n",
      "  Sync time (average)   =    0.27 sec.\n",
      "  Wait time (average)   =    0.28 sec.\n",
      "                          ------------\n",
      "Total (root+branch&cut) =    1.63 sec. (1480.40 ticks)\n",
      "\n",
      "Solution pool: 6 solutions saved.\n",
      "\n",
      "MIP - Integer optimal solution:  Objective =  3.7500000000e-01\n",
      "Solution time =    1.63 sec.  Iterations = 98707  Nodes = 2303\n",
      "Deterministic time = 1480.40 ticks  (908.51 ticks/sec)\n",
      "\n",
      "CPLEX> Incumbent solution written to file '/tmp/tmpqdq58zzx.cplex.sol'.\n",
      "CPLEX> The solver exited normally.\n",
      "A feasible and provably optimal solution is available.\n",
      "The Design has objective: 0.375\n"
     ]
    }
   ],
   "source": [
    "D = m.maximize(m.ActAndStab,tilim=360)"
   ]
  },
  {
   "cell_type": "markdown",
   "metadata": {},
   "source": [
    "## Processing Solutions\n",
    "Once the model is solved, we can plot the resulting design. However, it is often useful to label atoms according to some auxilliary information. In this case, we would like to label atoms that consitute ideal reactive sites. We loop over the sites and set the atom to S to highlight the sites that are reactive. Then, we can write the Design object to PDB or CFG files for plotting.\n",
    "\n",
    "Additionally, we can manipulate the resulting design to better see the periodic pattern. Here, we replicate the design four times to see the periodic pattern. "
   ]
  },
  {
   "cell_type": "code",
   "execution_count": 15,
   "metadata": {
    "scrolled": true
   },
   "outputs": [],
   "source": [
    "if(D is not None):\n",
    "    for i in m.IdealSitei.keys():\n",
    "        if m.IdealSitei.values[i] > 0.5:\n",
    "            D.setContent(i,Atom('S'))\n",
    "    D.toPDB('result.pdb')\n",
    "    PeriodicD = T.replicateDesign(D,4)\n",
    "    PeriodicS = deepcopy(S)\n",
    "    PeriodicS.scale(np.array([4,4,1]))\n",
    "    PeriodicD.toCFG('periodic_result.cfg',BBox=PeriodicS)"
   ]
  }
 ],
 "metadata": {
  "kernelspec": {
   "display_name": "Python 3",
   "language": "python",
   "name": "python3"
  },
  "language_info": {
   "codemirror_mode": {
    "name": "ipython",
    "version": 3
   },
   "file_extension": ".py",
   "mimetype": "text/x-python",
   "name": "python",
   "nbconvert_exporter": "python",
   "pygments_lexer": "ipython3",
   "version": "3.6.8"
  }
 },
 "nbformat": 4,
 "nbformat_minor": 2
}
