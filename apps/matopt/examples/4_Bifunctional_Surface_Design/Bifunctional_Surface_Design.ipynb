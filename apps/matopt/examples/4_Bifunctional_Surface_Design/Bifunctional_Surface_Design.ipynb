{
 "cells": [
  {
   "cell_type": "markdown",
   "metadata": {},
   "source": [
    "# Bifunctional Catalyst Design\n",
    "This notebook serves as an example application of the MatOpt framework.\n",
    "We consider an example optimization problem of designing a nanostructured bifunctional catalyst. This example is a simplified representation of the system presented in [1].\n",
    "\n",
    "[1] Nunez, M., & Vlachos, D. G. (2019). Ind. Eng. Chem. Res., 58, 6146-6154. \n",
    "\n"
   ]
  },
  {
   "cell_type": "markdown",
   "metadata": {},
   "source": [
    "## Importing Packages\n",
    "We start by importing several standard Python modules for convienience. "
   ]
  },
  {
   "cell_type": "code",
   "execution_count": 1,
   "metadata": {},
   "outputs": [],
   "source": [
    "import os \n",
    "from copy import deepcopy\n",
    "import numpy as np"
   ]
  },
  {
   "cell_type": "markdown",
   "metadata": {},
   "source": [
    "Finally, we import the MatOpt package in its entirety. "
   ]
  },
  {
   "cell_type": "code",
   "execution_count": 2,
   "metadata": {},
   "outputs": [],
   "source": [
    "from matopt import *"
   ]
  },
  {
   "cell_type": "markdown",
   "metadata": {},
   "source": [
    "## Representing Materials\n",
    "To begin, we define a **Lattice** object. In this example, **FCCLattice** is a child class of Lattice. This object will serve to define neighbor connections and helps us generically create other objects."
   ]
  },
  {
   "cell_type": "code",
   "execution_count": 3,
   "metadata": {},
   "outputs": [],
   "source": [
    "IAD = 2.828 # Angstrom\n",
    "Lat = FCCLattice.alignedWith111(IAD)"
   ]
  },
  {
   "cell_type": "markdown",
   "metadata": {},
   "source": [
    "Next, we define a **Shape** object that we will use to specify a design space. Additionally, in this example our design space is periodic, so we will define a **Tiling** object to hold information about the periodicity. In this example, **Parallelepiped** and **PlanarTiling** are the appropriate child classes for these objects, respectively.\n",
    "\n",
    "Note that we shift the shape of our design space slightly, in order to avoid confusion about which lattice sites that lie perfectly on the shape facet should be included."
   ]
  },
  {
   "cell_type": "code",
   "execution_count": 4,
   "metadata": {},
   "outputs": [],
   "source": [
    "nUnitCellsOnEdge = 8\n",
    "nLayers = 4\n",
    "a = nUnitCellsOnEdge*IAD\n",
    "b = a\n",
    "c = nLayers*Lat.FCC111LayerSpacing\n",
    "alpha = np.pi/2\n",
    "beta = np.pi/2\n",
    "gamma = np.pi/3\n",
    "S = Parallelepiped.fromEdgesAndAngles(a,b,c,alpha,beta,gamma)\n",
    "S.shift(np.array([-0.01*a,-0.01*b,-0.01*c]))\n",
    "T = PlanarTiling(S)"
   ]
  },
  {
   "cell_type": "markdown",
   "metadata": {},
   "source": [
    "Given the parameters for a design space, we can construct a **Canvas** object to hold information about points and nearest neighbors. In this example, the object is efficiently constructed from a scan over lattice sites. In general, the Canvas can be constructed and manipulated via user-defined algorithms."
   ]
  },
  {
   "cell_type": "code",
   "execution_count": 5,
   "metadata": {},
   "outputs": [],
   "source": [
    "Canv = Canvas.fromLatticeAndTilingScan(Lat,T)"
   ]
  },
  {
   "cell_type": "markdown",
   "metadata": {},
   "source": [
    "The Canvas object hold information about the design space and the lattice sites, but it does not specify any material building block information. To represent material configurations, use a **Design** object. \n",
    "\n",
    "Initially, the Design is empty. There are several ways to place **Atom** (i.e., building block) objects in a Design. In this example, we are initialize the Design to hold all Pt atoms. \n",
    "\n",
    "To debug our work so far, we can create material structure files to load and plot with standard visualization tools such as AtomEye. Here, we create PDB (protein data bank format, www.rcsb.org) and CFG (AtomEye configuration, li.mit.edu/A/Graphics/A/) files for the undoped design. "
   ]
  },
  {
   "cell_type": "code",
   "execution_count": 6,
   "metadata": {},
   "outputs": [],
   "source": [
    "D = Design(Canv,Atom('Pt'))\n",
    "D.toPDB('canvas.pdb')\n",
    "D.toCFG('canvas.cfg',BBox=S)"
   ]
  },
  {
   "cell_type": "markdown",
   "metadata": {},
   "source": [
    "## Representing Conformations\n",
    "In this material system, we would like to model the presence of facet and edge sites on a patchy bimetallic catalyst surface. To do this generically, we will create a list of conformations. This list will later be used by MatOpt modeling methods to create common descriptor formulations.\n",
    "\n",
    "To begin, we create another Canvas object with one shell of neighbors around a lattice location. Then, we create a list of Designs and set their contents to match our intended conformations. To debug our work, we also output conformations to file for plotting. "
   ]
  },
  {
   "cell_type": "code",
   "execution_count": 7,
   "metadata": {},
   "outputs": [],
   "source": [
    "MotifCanvas = Canvas()\n",
    "MotifCanvas.addLocation(np.array([0,0,0],dtype=float),NNeighbors=12)\n",
    "MotifCanvas.addShell(Lat.getNeighbors)\n",
    "Confs = [[None]*len(MotifCanvas.NeighborhoodIndexes[0]) for _ in range(7)]\n",
    "iToSetNi = [[3,4,5,6,7,8],\n",
    "            [3,4,5,6],\n",
    "            [4,5,6,7],\n",
    "            [5,6,7,8],\n",
    "            [6,7,8,3],\n",
    "            [7,8,3,4],\n",
    "            [8,3,4,5]]\n",
    "iToSetPt = [[9,10,11],\n",
    "            [9,10,11],\n",
    "            [9,10,11],\n",
    "            [9,10,11],\n",
    "            [9,10,11],\n",
    "            [9,10,11],\n",
    "            [9,10,11]]\n",
    "for iConf,Conf in enumerate(Confs):\n",
    "    for i in iToSetNi[iConf]:\n",
    "        Conf[i] = Atom('Ni')\n",
    "    for i in iToSetPt[iConf]:\n",
    "        Conf[i] = Atom('Pt')\n"
   ]
  },
  {
   "cell_type": "markdown",
   "metadata": {},
   "source": [
    "## Building the Model\n",
    "\n",
    "To begin, we define several sets and constants that will be used in creating the model. "
   ]
  },
  {
   "cell_type": "code",
   "execution_count": 8,
   "metadata": {},
   "outputs": [],
   "source": [
    "TypeAConfs = [0]\n",
    "TypeBConfs = [1,2,3,4,5,6]\n",
    "LocsToFixPt = [i for i in range(len(Canv)) if Canv.Points[i][2] < Lat.FCC111LayerSpacing*2.5]\n",
    "LocsToExcludePt = [i for i in range(len(Canv)) if i not in LocsToFixPt]\n",
    "CanvTwoBotLayers = [i for i in range(len(Canv)) if Canv.Points[i][2] < Lat.FCC111LayerSpacing*1.5]\n",
    "CanvMinusTwoBotLayers = [i for i in range(len(Canv)) if i not in CanvTwoBotLayers]\n",
    "OneLocToFix = [min(LocsToExcludePt)]\n",
    "TileSizeSquared = nUnitCellsOnEdge**2\n",
    "CatNorm = TileSizeSquared*6.0\n",
    "UndefectedSurfE = 0.129758\n",
    "maxSurfE = 999\n",
    "CatWeight = 1.0\n",
    "Atoms = [Atom('Ni'),Atom('Pt')]"
   ]
  },
  {
   "cell_type": "markdown",
   "metadata": {},
   "source": [
    "Next, we create a ***MatOptModel*** object."
   ]
  },
  {
   "cell_type": "code",
   "execution_count": 9,
   "metadata": {},
   "outputs": [],
   "source": [
    "m = MatOptModel(Canv,Atoms,Confs)"
   ]
  },
  {
   "cell_type": "markdown",
   "metadata": {},
   "source": [
    "By default, several basic variables are pre-defined. See the first example, ***Monometallic_Nanocluster_Design.ipynb*** for a description of basic variables, expressions, and constraint rules."
   ]
  },
  {
   "cell_type": "markdown",
   "metadata": {},
   "source": [
    "First, we fix the composition of atoms in the appropriate layers. Effectively, we are designing the defects in a single layer of Ni on top of an undefected Pt surface. "
   ]
  },
  {
   "cell_type": "code",
   "execution_count": 10,
   "metadata": {},
   "outputs": [],
   "source": [
    "m.Yik.rules.append(FixedTo(1,sites=LocsToFixPt,site_types=[Atom('Pt')]))\n",
    "m.Yik.rules.append(FixedTo(0,sites=LocsToExcludePt,site_types=[Atom('Pt')]))"
   ]
  },
  {
   "cell_type": "markdown",
   "metadata": {},
   "source": [
    "Next, we define indicators for the presence of groups of conformations (corresponding to facet and edge sites) in the design.\n",
    "We arbitrarily fix one site to be a facet-type site, breaking symmetry and improving the tractability of the resulting optimization models. "
   ]
  },
  {
   "cell_type": "code",
   "execution_count": 11,
   "metadata": {},
   "outputs": [],
   "source": [
    "m.Zic.rules.append(FixedTo(1,sites=OneLocToFix,confs=TypeAConfs))\n",
    "m.Zic.rules.append(Implies(concs=(m.Yik,EqualTo(1,site_types=[Atom('Ni')]))))\n",
    "SumAConfsExpr = SumConfs(m.Zic,confs_to_sum=TypeAConfs)\n",
    "SumBConfsExpr = SumConfs(m.Zic,confs_to_sum=TypeBConfs)\n",
    "m.addBondsDescriptor('SiteCombinations',binary=True,\n",
    "                     rules=ImpliesSiteCombination(Canv,\n",
    "                                                  (SumAConfsExpr,GreaterThan(1)),\n",
    "                                                  (SumBConfsExpr,GreaterThan(1))))"
   ]
  },
  {
   "cell_type": "markdown",
   "metadata": {},
   "source": [
    "Next, we define activity as a normalized sum of contributions from site combinations. \n",
    "Additionally, we introduce a model for the surface energy of sites as a piecewise linear function of coordination number. "
   ]
  },
  {
   "cell_type": "code",
   "execution_count": 12,
   "metadata": {},
   "outputs": [],
   "source": [
    "m.addGlobalDescriptor('Activity',\n",
    "                      rules=EqualTo(SumBonds(m.SiteCombinations,coefs=1/CatNorm)))\n",
    "\n",
    "EiVals = [0, -0.04293*3+0.41492, -0.04293*10+0.41492, 0.05179*11-0.62148, 0]\n",
    "EiBPs = [0, 3, 10, 11, 12]\n",
    "m.addSitesDescriptor('Ei',\n",
    "                     rules=PiecewiseLinear(values=EiVals,\n",
    "                                           breakpoints=EiBPs,\n",
    "                                          input_desc=m.Ci),\n",
    "                     sites=CanvMinusTwoBotLayers)\n",
    "m.addGlobalDescriptor('Esurf',\n",
    "                      rules=EqualTo(SumSites(m.Ei,coefs=1/TileSizeSquared,offset=0.101208)))\n",
    "m.addGlobalDescriptor('Stability',\n",
    "                      rules=EqualTo(LinearExpr(m.Esurf,1/UndefectedSurfE)))"
   ]
  },
  {
   "cell_type": "markdown",
   "metadata": {},
   "source": [
    "Finally, we introduce a single descriptor for the weighted combination of acitivity and stability. \n",
    "By changing the parameter weighting the catalytic portion of the objective function, we can optimize for a range of designs optimizing stability and activity. "
   ]
  },
  {
   "cell_type": "code",
   "execution_count": 13,
   "metadata": {},
   "outputs": [],
   "source": [
    "m.addGlobalDescriptor('ActAndStab',\n",
    "                      rules=EqualTo(LinearExpr(descs=[m.Stability,m.Activity],\n",
    "                                               coefs=[-(1-CatWeight),CatWeight])))"
   ]
  },
  {
   "cell_type": "markdown",
   "metadata": {},
   "source": [
    "## Solving the Model\n",
    "\n",
    "Given a fully formed Pyomo model, we have several capabilities to optimize and visualize the solution. \n",
    "In this example, we simply call the maximize method to optimize the balance of activity and stability"
   ]
  },
  {
   "cell_type": "code",
   "execution_count": 14,
   "metadata": {
    "scrolled": true
   },
   "outputs": [
    {
     "name": "stdout",
     "output_type": "stream",
     "text": [
      "\n",
      "Welcome to IBM(R) ILOG(R) CPLEX(R) Interactive Optimizer 12.6.1.0\n",
      "  with Simplex, Mixed Integer & Barrier Optimizers\n",
      "5725-A06 5725-A29 5724-Y48 5724-Y49 5724-Y54 5724-Y55 5655-Y21\n",
      "Copyright IBM Corp. 1988, 2014.  All Rights Reserved.\n",
      "\n",
      "Type 'help' for a list of available commands.\n",
      "Type 'help' followed by a command name for more\n",
      "information on commands.\n",
      "\n",
      "CPLEX> Logfile 'cplex.log' closed.\n",
      "Logfile '/tmp/tmpe4o62som.cplex.log' open.\n",
      "CPLEX> New value for absolute mixed integer optimality gap tolerance: 0\n",
      "CPLEX> New value for mixed integer optimality gap tolerance: 0\n",
      "CPLEX> New value for time limit in seconds: 360\n",
      "CPLEX> Problem '/tmp/tmplv6jodwi.pyomo.lp' read.\n",
      "Read time = 0.06 sec. (3.54 ticks)\n",
      "CPLEX> Problem name         : /tmp/tmplv6jodwi.pyomo.lp\n",
      "Objective sense      : Maximize\n",
      "Variables            :    7810  [Nneg: 641,  Free: 132,  Binary: 6653,\n",
      "                                 General Integer: 384]\n",
      "Objective nonzeros   :       1\n",
      "Linear constraints   :   35589  [Less: 34304,  Equal: 1285]\n",
      "  Nonzeros           :   90187\n",
      "  RHS nonzeros       :   12680\n",
      "SOS                  :     128  [SOS2: 128, 640 members, all continuous]\n",
      "\n",
      "Variables            : Min LB: 0.000000         Max UB: 12.00000       \n",
      "Objective nonzeros   : Min   : 1.000000         Max   : 1.000000       \n",
      "Linear constraints   :\n",
      "  Nonzeros           : Min   : 0.002604167      Max   : 12.00000       \n",
      "  RHS nonzeros       : Min   : 0.1012080        Max   : 9.000000       \n",
      "CPLEX> MIP Presolve eliminated 10 redundant SOS constraints.\n",
      "Tried aggregator 3 times.\n",
      "MIP Presolve eliminated 31737 rows and 5492 columns.\n",
      "MIP Presolve modified 362 coefficients.\n",
      "Aggregator did 703 substitutions.\n",
      "Reduced MIP has 3149 rows, 1615 columns, and 12613 nonzeros.\n",
      "Reduced MIP has 1146 binaries, 57 generals, 118 SOSs, and 0 indicators.\n",
      "Presolve time = 0.03 sec. (40.22 ticks)\n",
      "Probing fixed 36 vars, tightened 99 bounds.\n",
      "Probing time = 0.03 sec. (14.93 ticks)\n",
      "Tried aggregator 1 time.\n",
      "MIP Presolve eliminated 72 rows and 36 columns.\n",
      "Reduced MIP has 3077 rows, 1579 columns, and 12409 nonzeros.\n",
      "Reduced MIP has 1110 binaries, 57 generals, 118 SOSs, and 0 indicators.\n",
      "Presolve time = 0.01 sec. (10.30 ticks)\n",
      "Probing fixed 0 vars, tightened 12 bounds.\n",
      "Probing time = 0.02 sec. (12.53 ticks)\n",
      "Clique table members: 6970.\n",
      "MIP emphasis: balance optimality and feasibility.\n",
      "MIP search method: dynamic search.\n",
      "Parallel mode: deterministic, using up to 8 threads.\n",
      "Root relaxation solution time = 0.19 sec. (205.97 ticks)\n",
      "\n",
      "        Nodes                                         Cuts/\n",
      "   Node  Left     Objective  IInf  Best Integer    Best Bound    ItCnt     Gap\n",
      "\n",
      "      0     0        0.3585  1118                      0.3585     2783         \n",
      "*     0+    0                            0.0000        0.3585              --- \n",
      "      0     0        0.3377  1101        0.0000     Cuts: 645     3852     --- \n",
      "      0     0        0.3101  1205        0.0000     Cuts: 785     5444     --- \n",
      "      0     0        0.2928  1254        0.0000     Cuts: 681     6792     --- \n",
      "      0     0        0.2844  1244        0.0000     Cuts: 399     7665     --- \n",
      "*     0+    0                            0.0599        0.2844           374.86%\n",
      "      0     0        0.2763  1229        0.0599     Cuts: 287     8590  361.36%\n",
      "      0     0        0.2697  1228        0.0599     Cuts: 327     9467  350.21%\n",
      "      0     0        0.2629  1209        0.0599     Cuts: 303    10404  338.98%\n",
      "*     0+    0                            0.0729        0.2629           260.59%\n",
      "      0     0        0.2596  1216        0.0729     Cuts: 215    11274  256.07%\n",
      "*     0+    0                            0.0833        0.2596           211.56%\n",
      "      0     0        0.2565  1211        0.0833     Cuts: 260    12013  207.83%\n",
      "      0     0        0.2541  1215        0.0833     Cuts: 269    12740  204.94%\n",
      "      0     0        0.2499  1208        0.0833     Cuts: 231    13818  199.94%\n",
      "      0     0        0.2473  1200        0.0833     Cuts: 175    14508  196.79%\n",
      "      0     0        0.2461  1210        0.0833     Cuts: 234    15153  195.26%\n",
      "      0     0        0.2452  1206        0.0833     Cuts: 128    15706  194.20%\n",
      "      0     0        0.2446  1204        0.0833     Cuts: 103    16244  193.49%\n",
      "      0     0        0.2438  1209        0.0833     Cuts: 262    16892  192.60%\n",
      "      0     0        0.2432  1217        0.0833     Cuts: 134    17461  191.85%\n",
      "      0     0        0.2428  1213        0.0833     Cuts: 203    17924  191.31%\n",
      "      0     0        0.2424  1218        0.0833     Cuts: 126    18473  190.88%\n",
      "      0     0        0.2422  1223        0.0833      Cuts: 83    18844  190.61%\n",
      "      0     0        0.2420  1212        0.0833     Cuts: 154    19227  190.39%\n",
      "      0     0        0.2418  1222        0.0833     Cuts: 108    19629  190.16%\n",
      "      0     0        0.2414  1215        0.0833     Cuts: 174    20328  189.64%\n",
      "*     0+    0                            0.0859        0.2414           180.86%\n",
      "      0     0        0.2410  1217        0.0859     Cuts: 154    21041  180.45%\n",
      "*     0+    0                            0.0911        0.2410           164.42%\n",
      "      0     0        0.2406  1214        0.0911     Cuts: 112    21706  163.94%\n",
      "*     0+    0                            0.0938        0.2406           156.61%\n",
      "      0     0        0.2403  1219        0.0938     Cuts: 125    22279  156.32%\n",
      "      0     0        0.2398  1214        0.0938     Cuts: 184    22915  155.81%\n",
      "      0     0        0.2394  1215        0.0938     Cuts: 131    23512  155.40%\n",
      "      0     0        0.2390  1220        0.0938     Cuts: 147    23976  154.96%\n",
      "      0     0        0.2386  1223        0.0938     Cuts: 156    24511  154.48%\n",
      "      0     0        0.2383  1217        0.0938      Cuts: 92    24950  154.17%\n",
      "      0     0        0.2377  1214        0.0938     Cuts: 157    25548  153.58%\n",
      "      0     0        0.2373  1215        0.0938     Cuts: 117    26062  153.11%\n",
      "      0     0        0.2369  1213        0.0938     Cuts: 103    26470  152.73%\n",
      "      0     0        0.2364  1217        0.0938     Cuts: 106    26964  152.19%\n",
      "      0     0        0.2360  1212        0.0938     Cuts: 107    27523  151.74%\n",
      "      0     0        0.2358  1207        0.0938      Cuts: 75    27893  151.52%\n",
      "*     0+    0                            0.1354        0.2358            74.13%\n",
      "      0     0        0.2354  1207        0.1354      Cuts: 89    28464   73.84%\n",
      "      0     0        0.2349  1208        0.1354     Cuts: 303    29117   73.45%\n",
      "      0     0        0.2345  1215        0.1354     Cuts: 269    29791   73.16%\n",
      "      0     0        0.2341  1213        0.1354      Cuts: 88    30279   72.90%\n",
      "      0     0        0.2340  1215        0.1354     Cuts: 137    30662   72.80%\n",
      "      0     2        0.2340  1204        0.1354        0.2320    30662   71.33%\n",
      "Elapsed time = 15.81 sec. (13534.85 ticks, tree = 0.00 MB, solutions = 8)\n",
      "      1     3        0.2272  1105        0.1354        0.2320    32190   71.33%\n",
      "      3     5        0.2326  1150        0.1354        0.2320    33587   71.33%\n",
      "      6     8        0.2215  1084        0.1354        0.2320    36638   71.33%\n",
      "      8    10        0.2179  1042        0.1354        0.2320    40007   71.33%\n",
      "     10    12        0.2289  1149        0.1354        0.2320    44768   71.33%\n",
      "     16    18        0.2178  1085        0.1354        0.2320    61328   71.33%\n",
      "     22    24        0.2050   997        0.1354        0.2320    73062   71.33%\n",
      "     37    39        0.1724   844        0.1354        0.2320    95678   71.33%\n",
      "     62    60        0.2256  1116        0.1354        0.2320   116094   71.33%\n",
      "    135   109        0.2075  1057        0.1354        0.2320   168727   71.33%\n",
      "Elapsed time = 19.92 sec. (17706.48 ticks, tree = 0.00 MB, solutions = 8)\n",
      "    210   162        0.1615   837        0.1354        0.2320   225484   71.33%\n",
      "*   320+  197                            0.1667        0.2320            39.21%\n",
      "    324   200        0.2021  1005        0.1667        0.2320   288547   39.21%\n",
      "    383   135        0.1927  1004        0.1667        0.2273   344865   36.39%\n",
      "    452   150        0.2211  1105        0.1667        0.2227   395287   33.61%\n",
      "    518   182        cutoff              0.1667        0.2211   457859   32.67%\n"
     ]
    },
    {
     "name": "stdout",
     "output_type": "stream",
     "text": [
      "    548   200        0.1752   942        0.1667        0.2211   503022   32.67%\n",
      "    600   222        0.1948  1002        0.1667        0.2211   554457   32.67%\n",
      "    728   278        0.1867   977        0.1667        0.2211   592821   32.67%\n",
      "    854   306        0.1753   957        0.1667        0.2034   658469   22.03%\n",
      "    894   314        0.1885  1013        0.1667        0.2034   691508   22.03%\n",
      "Elapsed time = 32.31 sec. (27875.03 ticks, tree = 0.17 MB, solutions = 9)\n",
      "   1016   338        0.1699   892        0.1667        0.1922   772028   15.34%\n",
      "   1106   354        0.1733   909        0.1667        0.1922   813306   15.34%\n",
      "   1200   346        0.1695   936        0.1667        0.1884   866432   13.06%\n",
      "   1269   311        cutoff              0.1667        0.1884   923118   13.06%\n",
      "   1381   244        0.1700   903        0.1667        0.1884  1011156   13.06%\n",
      "   1494   169        cutoff              0.1667        0.1809  1067652    8.55%\n",
      "\n",
      "Clique cuts applied:  62\n",
      "Implied bound cuts applied:  1298\n",
      "Flow cuts applied:  1\n",
      "Mixed integer rounding cuts applied:  22\n",
      "Zero-half cuts applied:  280\n",
      "Lift and project cuts applied:  1\n",
      "\n",
      "Root node processing (before b&c):\n",
      "  Real time             =   15.78 sec. (13503.33 ticks)\n",
      "Parallel b&c, 8 threads:\n",
      "  Real time             =   24.60 sec. (20904.59 ticks)\n",
      "  Sync time (average)   =    2.60 sec.\n",
      "  Wait time (average)   =    2.62 sec.\n",
      "                          ------------\n",
      "Total (root+branch&cut) =   40.37 sec. (34407.92 ticks)\n",
      "\n",
      "Solution pool: 9 solutions saved.\n",
      "\n",
      "MIP - Integer optimal solution:  Objective =  1.6666666667e-01\n",
      "Solution time =   40.38 sec.  Iterations = 1096457  Nodes = 1666\n",
      "Deterministic time = 34407.94 ticks  (852.20 ticks/sec)\n",
      "\n",
      "CPLEX> Incumbent solution written to file '/tmp/tmpe4m74p2d.cplex.sol'.\n",
      "CPLEX> The solver exited normally.\n",
      "A feasible and provably optimal solution is available.\n",
      "The Design has objective: 0.1666666666666666\n"
     ]
    }
   ],
   "source": [
    "D = m.maximize(m.ActAndStab,tilim=360)"
   ]
  },
  {
   "cell_type": "markdown",
   "metadata": {},
   "source": [
    "## Processing Solutions\n",
    "Once the model is solved, we can interpret the solutions as labelings of a Design object.\n",
    "To accompolish this, we use the ***setDesignFromModel*** function. \n",
    "Then, we can write the Design object to PDB or CFG files for plotting."
   ]
  },
  {
   "cell_type": "code",
   "execution_count": 15,
   "metadata": {},
   "outputs": [],
   "source": [
    "if(D is not None):\n",
    "        D.toCFG('result.cfg',BBox=S)\n",
    "        PeriodicD = T.replicateDesign(D,4)\n",
    "        PeriodicS = deepcopy(S)\n",
    "        PeriodicS.scale(np.array([4,4,1]))\n",
    "        PeriodicD.toCFG('periodic_result.cfg',BBox=PeriodicS)"
   ]
  }
 ],
 "metadata": {
  "kernelspec": {
   "display_name": "Python 3",
   "language": "python",
   "name": "python3"
  },
  "language_info": {
   "codemirror_mode": {
    "name": "ipython",
    "version": 3
   },
   "file_extension": ".py",
   "mimetype": "text/x-python",
   "name": "python",
   "nbconvert_exporter": "python",
   "pygments_lexer": "ipython3",
   "version": "3.6.8"
  }
 },
 "nbformat": 4,
 "nbformat_minor": 2
}
