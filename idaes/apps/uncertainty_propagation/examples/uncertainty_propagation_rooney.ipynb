{
 "cells": [
  {
   "cell_type": "code",
   "execution_count": null,
   "metadata": {},
   "outputs": [],
   "source": [
    "##############################################################################\n",
    "# Institute for the Design of Advanced Energy Systems Process Systems\n",
    "# Engineering Framework (IDAES PSE Framework) Copyright (c) 2018-2019, by the\n",
    "# software owners: The Regents of the University of California, through\n",
    "# Lawrence Berkeley National Laboratory,  National Technology & Engineering\n",
    "# Solutions of Sandia, LLC, Carnegie Mellon University, West Virginia\n",
    "# University Research Corporation, et al. All rights reserved.\n",
    "#\n",
    "# Please see the files COPYRIGHT.txt and LICENSE.txt for full copyright and\n",
    "# license information, respectively. Both files are also available online\n",
    "# at the URL \"https://github.com/IDAES/idaes-pse\".\n",
    "##############################################################################"
   ]
  },
  {
   "cell_type": "code",
   "execution_count": null,
   "metadata": {},
   "outputs": [],
   "source": [
    "import sys\n",
    "import os\n",
    "sys.path.append(os.path.abspath('..')) # current folder is ~/examples\n",
    "import pandas as pd\n",
    "from idaes.apps.uncertainty_propagation.uncertainties import quantify_propagate_uncertainty\n",
    "from idaes.apps.uncertainty_propagation.examples.rooney_biegler import rooney_biegler_model,rooney_biegler_model_opt"
   ]
  },
  {
   "cell_type": "code",
   "execution_count": null,
   "metadata": {},
   "outputs": [],
   "source": [
    "def SSE(model, data):\n",
    "    expr = sum((data.y[i] - model.response_function[data.hour[i]])**2 for i in data.index)\n",
    "    return expr"
   ]
  },
  {
   "cell_type": "code",
   "execution_count": null,
   "metadata": {},
   "outputs": [],
   "source": [
    "variable_name = ['asymptote', 'rate_constant']\n",
    "data = pd.DataFrame(data=[[1,8.3],\n",
    "                          [2,10.3],\n",
    "                          [3,19.0],\n",
    "                          [4,16.0],\n",
    "                          [5,15.6],\n",
    "                          [7,19.8]],\n",
    "                    columns=['hour', 'y'])"
   ]
  },
  {
   "cell_type": "code",
   "execution_count": null,
   "metadata": {},
   "outputs": [],
   "source": [
    "results =  quantify_propagate_uncertainty(rooney_biegler_model,rooney_biegler_model_opt, data, variable_name, SSE)"
   ]
  }
 ],
 "metadata": {
  "kernelspec": {
   "display_name": "idaes_sens",
   "language": "python",
   "name": "idaes_sens"
  },
  "language_info": {
   "codemirror_mode": {
    "name": "ipython",
    "version": 3
   },
   "file_extension": ".py",
   "mimetype": "text/x-python",
   "name": "python",
   "nbconvert_exporter": "python",
   "pygments_lexer": "ipython3",
   "version": "3.7.7"
  }
 },
 "nbformat": 4,
 "nbformat_minor": 4
}