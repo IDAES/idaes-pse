{
 "cells": [
  {
   "cell_type": "code",
   "execution_count": null,
   "metadata": {},
   "outputs": [],
   "source": [
    "##############################################################################\n",
    "# Institute for the Design of Advanced Energy Systems Process Systems\n",
    "# Engineering Framework (IDAES PSE Framework) Copyright (c) 2018-2019, by the\n",
    "# software owners: The Regents of the University of California, through\n",
    "# Lawrence Berkeley National Laboratory,  National Technology & Engineering\n",
    "# Solutions of Sandia, LLC, Carnegie Mellon University, West Virginia\n",
    "# University Research Corporation, et al. All rights reserved.\n",
    "#\n",
    "# Please see the files COPYRIGHT.txt and LICENSE.txt for full copyright and\n",
    "# license information, respectively. Both files are also available online\n",
    "# at the URL \"https://github.com/IDAES/idaes-pse\".\n",
    "##############################################################################"
   ]
  },
  {
   "cell_type": "code",
   "execution_count": null,
   "metadata": {},
   "outputs": [],
   "source": [
    "import sys\n",
    "import os\n",
    "sys.path.append(os.path.abspath('..')) # current folder is ~/examples\n",
    "import pandas as pd\n",
    "from idaes.apps.uncertainty_propagation.uncertainties import quantify_propagate_uncertainty\n",
    "from idaes.apps.uncertainty_propagation.examples.NRTL_model_scripts import NRTL_model, NRTL_model_opt"
   ]
  },
  {
   "cell_type": "code",
   "execution_count": null,
   "metadata": {},
   "outputs": [],
   "source": [
    "def SSE(model, data):\n",
    "    expr = ((float(data[\"vap_benzene\"]) -\n",
    "             model.fs.flash.vap_outlet.mole_frac_comp[0, \"benzene\"])**2 +\n",
    "            (float(data[\"liq_benzene\"]) -\n",
    "             model.fs.flash.liq_outlet.mole_frac_comp[0, \"benzene\"])**2)\n",
    "    return expr*1E4"
   ]
  },
  {
   "cell_type": "code",
   "execution_count": null,
   "metadata": {},
   "outputs": [],
   "source": [
    "variable_name = [\"fs.properties.tau['benzene', 'toluene']\", \"fs.properties.tau['toluene','benzene']\"]\n",
    "current_path = os.path.dirname(os.path.realpath(__file__))\n",
    "data = pd.read_csv(os.path.join(current_path, 'BT_NRTL_dataset.csv'))"
   ]
  },
  {
   "cell_type": "code",
   "execution_count": null,
   "metadata": {},
   "outputs": [],
   "source": [
    "results =  quantify_propagate_uncertainty(NRTL_model,NRTL_model_opt, data, variable_name, SSE)"
   ]
  }
 ],
 "metadata": {
  "kernelspec": {
   "display_name": "idaes_sens",
   "language": "python",
   "name": "idaes_sens"
  },
  "language_info": {
   "codemirror_mode": {
    "name": "ipython",
    "version": 3
   },
   "file_extension": ".py",
   "mimetype": "text/x-python",
   "name": "python",
   "nbconvert_exporter": "python",
   "pygments_lexer": "ipython3",
   "version": "3.7.7"
  }
 },
 "nbformat": 4,
 "nbformat_minor": 4
}