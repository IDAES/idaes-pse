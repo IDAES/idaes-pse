{
 "cells": [
  {
   "cell_type": "code",
   "execution_count": 3,
   "id": "graduate-lottery",
   "metadata": {},
   "outputs": [],
   "source": [
    "# imports\n",
    "from idaes.dmf import DMF, resource, tables\n",
    "from pathlib import Path\n",
    "import shutil"
   ]
  },
  {
   "cell_type": "code",
   "execution_count": null,
   "id": "marked-complaint",
   "metadata": {},
   "outputs": [],
   "source": [
    "workspace_name = \"pitzer_data\"\n",
    "# For didactic purposes, clear out any old DMF workspace\n",
    "if Path(workspace_name).exists():\n",
    "    shutil.rmtree(workspace_name)\n",
    "# Create DMF workspace to store data\n",
    "dmf = DMF(workspace_name, create=True)"
   ]
  },
  {
   "cell_type": "code",
   "execution_count": null,
   "id": "dominant-broadcast",
   "metadata": {},
   "outputs": [],
   "source": [
    "# Create resource representing source publication\n",
    "src = resource.Resource(name=\"pitzer-source\", type_=resource.ResourceTypes.publication)\n",
    "src.v[\"sources\"].append({\"date\": \"1984\", \n",
    "                   \"doi\": \"10.1063/1.555709\", \n",
    "                   \"source\": 'Pitzer, Kenneth S., J. Christopher Peiper, and R. H. Busey. '\n",
    "                   '\"Thermodynamic properties of aqueous sodium chloride solutions.\" '\n",
    "                   'Journal of Physical and Chemical Reference Data 13.1 (1984): 1-102.'})\n",
    "dmf.add(src)"
   ]
  },
  {
   "cell_type": "code",
   "execution_count": null,
   "id": "minute-prophet",
   "metadata": {},
   "outputs": [],
   "source": [
    "# Find tables to read\n",
    "data_files = Path(\".\").glob(\"*.csv\")"
   ]
  },
  {
   "cell_type": "code",
   "execution_count": null,
   "id": "liquid-nelson",
   "metadata": {},
   "outputs": [],
   "source": [
    "# Create resources for each table, add to DMF, link to source publication\n",
    "for df in data_files:\n",
    "    name = df.stem\n",
    "    tbl = tables.Table()\n",
    "    tbl.read_csv(df)\n",
    "    r = resource.Resource(name=name, type_=resource.ResourceTypes.tabular)\n",
    "    dmf.add(r)\n",
    "    # Create the link: <publication source> -- derived --> <this table>\n",
    "    resource.create_relation(src, resource.Predicates.derived, r)\n",
    "    print(f\"created resource {name}\")\n",
    "# register all the relations we just created\n",
    "dmf.update()"
   ]
  },
  {
   "cell_type": "code",
   "execution_count": null,
   "id": "golden-corporation",
   "metadata": {},
   "outputs": [],
   "source": [
    "# Find all the resources derived from the Pitzer publication\n",
    "pub = dmf.find_one(name=\"pitzer-source\")\n",
    "for r in dmf.find_related_resources(pub, outgoing=True):\n",
    "    print(f\"Resource: {r.name}\")"
   ]
  },
  {
   "cell_type": "code",
   "execution_count": 7,
   "id": "after-branch",
   "metadata": {},
   "outputs": [
    {
     "name": "stderr",
     "output_type": "stream",
     "text": [
      "2021-08-07 21:22:24,138 [INFO] idaes.dmf.dmfbase: Saving configuration location to: C:\\Users\\DanGunter/.dmf\n"
     ]
    },
    {
     "name": "stdout",
     "output_type": "stream",
     "text": [
      "Publication: {'date': '1984', 'doi': '10.1063/1.555709', 'source': 'Pitzer, Kenneth S., J. Christopher Peiper, and R. H. Busey. \"Thermodynamic properties of aqueous sodium chloride solutions.\" Journal of Physical and Chemical Reference Data 13.1 (1984): 1-102.'}\n"
     ]
    }
   ],
   "source": [
    "# Find the publication(s) for given dataset\n",
    "\n",
    "# get the dataset\n",
    "p1 = dmf.find_one(name=\"pitzer_1\")\n",
    "\n",
    "# get all linked publications\n",
    "for r in dmf.find_related_resources(p1, outgoing=False, maxdepth=1,\n",
    "                                    predicate=resource.Predicates.derived,\n",
    "                                    filter_dict={\"type\": resource.ResourceTypes.publication}):\n",
    "    print(f\"Publication: {r.sources[0]}\")"
   ]
  },
  {
   "cell_type": "code",
   "execution_count": null,
   "id": "ethical-surgery",
   "metadata": {},
   "outputs": [],
   "source": []
  }
 ],
 "metadata": {
  "kernelspec": {
   "display_name": "Python 3",
   "language": "python",
   "name": "python3"
  },
  "language_info": {
   "codemirror_mode": {
    "name": "ipython",
    "version": 3
   },
   "file_extension": ".py",
   "mimetype": "text/x-python",
   "name": "python",
   "nbconvert_exporter": "python",
   "pygments_lexer": "ipython3",
   "version": "3.9.2"
  }
 },
 "nbformat": 4,
 "nbformat_minor": 5
}
