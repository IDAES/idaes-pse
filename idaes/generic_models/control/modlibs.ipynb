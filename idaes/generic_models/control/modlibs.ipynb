{
 "cells": [
  {
   "cell_type": "code",
   "execution_count": 1,
   "outputs": [],
   "source": [
    "from idaes.dmf import codesearch as cs\n",
    "import idaes\n",
    "\n",
    "walker = cs.ModuleClassWalker(from_pkg=idaes, parent_class=idaes.core.unit_model.UnitModelBlockData)"
   ],
   "metadata": {
    "collapsed": false,
    "pycharm": {
     "name": "#%%\n"
    }
   }
  },
  {
   "cell_type": "code",
   "execution_count": 2,
   "outputs": [
    {
     "name": "stdout",
     "output_type": "stream",
     "text": [
      "WARNING: DEPRECATED: the 'ComponentUID' class has been moved to\n",
      "    'pyomo.core.base.componentuid.ComponentUID'  (deprecated in 5.7.2) (called\n",
      "    from C:\\Users\\DanGunter\\src\\idaes\\dangunter\\idaes-\n",
      "    pse\\idaes\\apps\\caprese\\rolling.py:17)\n",
      "name,module,description\n",
      "BalanceBlockData,idaes.power_generation.unit_models.balance,\"Simple mass and energy balance unit\"\n",
      "BoilerFiresideData,idaes.power_generation.unit_models.boiler_fireside,\"Boiler fire-side surrogate model with enforced mass and energy balance\"\n",
      "BoilerHeatExchangerData,idaes.power_generation.unit_models.boiler_heat_exchanger,\"Standard Heat Exchanger Unit Model Class\"\n",
      "BubblingFluidizedBedData,idaes.gas_solid_contactors.unit_models.bubbling_fluidized_bed,\"Standard Bubbling Fluidized Bed Unit Model Class\"\n",
      "CSTRData,idaes.generic_models.unit_models.cstr,\"Standard CSTR Unit Model Class\"\n",
      "CompressorData,idaes.generic_models.unit_models.pressure_changer,\"-\"\n",
      "CondenserData,idaes.generic_models.unit_models.distillation.condenser,\"Condenser unit for distillation model\"\n",
      "DowncomerData,idaes.power_generation.unit_models.downcomer,\"Downcomer Unit Class\"\n",
      "Drum1DData,idaes.power_generation.unit_models.drum1D,\"1-D Boiler Drum Unit Operation Class\"\n",
      "DrumData,idaes.power_generation.unit_models.drum,\"Boiler Drum Unit Operation Class\"\n",
      "EquilibriumReactorData,idaes.generic_models.unit_models.equilibrium_reactor,\"Standard Equilibrium Reactor Unit Model Class\"\n",
      "FWH0DData,idaes.power_generation.unit_models.feedwater_heater_0D,\"-\"\n",
      "FWH0DDynamicData,idaes.power_generation.unit_models.feedwater_heater_0D_dynamic,\"-\"\n",
      "FWHCondensing0DData,idaes.power_generation.unit_models.feedwater_heater_0D,\"-\"\n",
      "FWHCondensing0DData,idaes.power_generation.unit_models.feedwater_heater_0D_dynamic,\"-\"\n",
      "FeedData,idaes.generic_models.unit_models.feed,\"Standard Feed Block Class\"\n",
      "FeedFlashData,idaes.generic_models.unit_models.feed_flash,\"Standard Feed block with phase equilibrium\"\n",
      "FlashData,idaes.generic_models.unit_models.flash,\"Standard Flash Unit Model Class\"\n",
      "GibbsReactorData,idaes.generic_models.unit_models.gibbs_reactor,\"Standard Gibbs Reactor Unit Model Class      This model assume all possible reactions reach equilibrium such that the     system partial molar Gibbs free energy is minimized\"\n",
      "HeatExchanger1DData,idaes.generic_models.unit_models.heat_exchanger_1D,\"Standard Heat Exchanger 1D Unit Model Class\"\n",
      "HeatExchangerCrossFlow2D_HeaderData,idaes.power_generation.unit_models.boiler_heat_exchanger_2D,\"Standard Heat Exchanger Cross Flow Unit Model Class\"\n",
      "HeatExchangerData,idaes.generic_models.unit_models.heat_exchanger,\"Simple 0D heat exchange unit\"\n",
      "HeatExchangerWith3StreamsData,idaes.power_generation.unit_models.heat_exchanger_3streams,\"Standard Heat Exchanger Unit Model Class\"\n",
      "HeaterData,idaes.generic_models.unit_models.heater,\"Simple 0D heater unit\"\n",
      "HelmIsentropicCompressorData,idaes.power_generation.unit_models.helm.compressor,\"Basic isentropic 0D compressor model\"\n",
      "HelmIsentropicTurbineData,idaes.power_generation.unit_models.helm.turbine,\"Basic isentropic 0D turbine model\"\n",
      "HelmMixerData,idaes.power_generation.unit_models.helm.mixer,\"This is a Helmholtz EOS specific mixed unit model\"\n",
      "HelmNtuCondenserData,idaes.power_generation.unit_models.helm.condenser_ntu,\"Simple NTU condenser unit model\"\n",
      "HelmPumpData,idaes.power_generation.unit_models.helm.pump,\"Basic isentropic 0D turbine model\"\n",
      "HelmSplitterData,idaes.power_generation.unit_models.helm.splitter,\"This is a basic stream splitter which splits flow into outlet streams based     on split fractions\"\n",
      "HelmTurbineInletStageData,idaes.power_generation.unit_models.helm.turbine_inlet,\"-\"\n",
      "HelmTurbineMultistageData,idaes.power_generation.unit_models.helm.turbine_multistage,\"-\"\n",
      "HelmTurbineOutletStageData,idaes.power_generation.unit_models.helm.turbine_outlet,\"-\"\n",
      "HelmTurbineStageData,idaes.power_generation.unit_models.helm.turbine_stage,\"-\"\n",
      "HelmValveData,idaes.power_generation.unit_models.helm.valve_steam,\"Basic adiabatic 0D valve model\"\n",
      "MBRData,idaes.gas_solid_contactors.unit_models.moving_bed,\"Standard Moving Bed Unit Model Class\"\n",
      "MixerData,idaes.generic_models.unit_models.mixer,\"This is a general purpose model for a Mixer block with the IDAES modeling     framework\"\n",
      "PFRData,idaes.generic_models.unit_models.plug_flow_reactor,\"Standard Plug Flow Reactor Unit Model Class\"\n",
      "PIDControllerData,idaes.power_generation.control.pid_controller,\"-\"\n",
      "PressureChangerData,idaes.generic_models.unit_models.pressure_changer,\"Standard Compressor/Expander Unit Model Class\"\n",
      "ProductData,idaes.generic_models.unit_models.product,\"Standard Product Block Class\"\n",
      "PumpData,idaes.generic_models.unit_models.pressure_changer,\"-\"\n",
      "ReboilerData,idaes.generic_models.unit_models.distillation.reboiler,\"Reboiler unit for distillation model\"\n",
      "SeparatorData,idaes.generic_models.unit_models.separator,\"This is a general purpose model for a Separator block with the IDAES     modeling framework\"\n",
      "StateJunctionData,idaes.generic_models.unit_models.statejunction,\"Standard StateJunction Unit Model Class\"\n",
      "SteamHeaterData,idaes.power_generation.unit_models.steamheater,\"WaterwallSection Unit Class\"\n",
      "StoichiometricReactorData,idaes.generic_models.unit_models.stoichiometric_reactor,\"Standard Stoichiometric Reactor Unit Model Class     This model assumes that all given reactions are irreversible, and that each     reaction has a fixed rate_reaction extent which has to be specified by the     user\"\n",
      "TranslatorData,idaes.generic_models.unit_models.translator,\"Standard Translator Block Class\"\n",
      "TrayColumnData,idaes.generic_models.unit_models.distillation.tray_column,\"Tray Column model\"\n",
      "TrayData,idaes.generic_models.unit_models.distillation.tray,\"Tray unit for distillation model\"\n",
      "TurbineData,idaes.generic_models.unit_models.pressure_changer,\"-\"\n",
      "UnitModelBlockData,idaes.core.unit_model,\"This is the class for process unit operations models\"\n",
      "ValveData,idaes.generic_models.unit_models.valve,\"-\"\n",
      "WaterFlashData,idaes.power_generation.unit_models.helm.phase_separator,\"Simplified Flash Unit Model Class, only for IAPWS with mixed state\"\n",
      "WaterPipeData,idaes.power_generation.unit_models.waterpipe,\"Water or steam pipe Unit Class\"\n",
      "WaterTankData,idaes.power_generation.unit_models.watertank,\"Water Tank Unit Operation Class\"\n",
      "WaterwallSectionData,idaes.power_generation.unit_models.waterwall_section,\"WaterwallSection Unit Class\"\n"
     ]
    }
   ],
   "source": [
    "visitor = cs.Visitor()\n",
    "walker.walk(visitor)\n",
    "print(\"name,module,description\")\n",
    "rows = []\n",
    "for clazz in visitor.saved:\n",
    "    name = clazz.__name__\n",
    "    doc = clazz.__doc__ or \"-\"\n",
    "    module = clazz.__module__\n",
    "    period = doc.find(\".\")\n",
    "    if period == -1:\n",
    "        period = len(doc)\n",
    "    args = doc.find(\"Args:\")\n",
    "    if args == -1:\n",
    "        args = len(doc)\n",
    "    pos = min(period, args)\n",
    "    if pos > 0:\n",
    "        desc = doc[:pos].strip()\n",
    "    else:\n",
    "        desc = doc.strip()\n",
    "    if len(desc) == 0:\n",
    "        desc = \"-\"\n",
    "    desc = desc.replace(\"\\n\", \" \")\n",
    "    rows.append(f'{name},{module},\"{desc}\"')\n",
    "\n",
    "rows.sort()\n",
    "print(\"\\n\".join(rows))"
   ],
   "metadata": {
    "collapsed": false,
    "pycharm": {
     "name": "#%%\n"
    }
   }
  },
  {
   "cell_type": "code",
   "execution_count": null,
   "outputs": [],
   "source": [],
   "metadata": {
    "collapsed": false,
    "pycharm": {
     "name": "#%%\n"
    }
   }
  }
 ],
 "metadata": {
  "kernelspec": {
   "display_name": "Python 3",
   "language": "python",
   "name": "python3"
  },
  "language_info": {
   "codemirror_mode": {
    "name": "ipython",
    "version": 2
   },
   "file_extension": ".py",
   "mimetype": "text/x-python",
   "name": "python",
   "nbconvert_exporter": "python",
   "pygments_lexer": "ipython2",
   "version": "2.7.6"
  }
 },
 "nbformat": 4,
 "nbformat_minor": 0
}