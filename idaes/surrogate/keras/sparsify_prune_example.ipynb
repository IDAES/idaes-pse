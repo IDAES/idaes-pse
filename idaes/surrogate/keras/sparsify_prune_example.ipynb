{
 "cells": [
  {
   "cell_type": "markdown",
   "id": "529f60c7",
   "metadata": {},
   "source": [
    "# Custom Sparsification and Pruning Routines Using IDAES Sparsification and Pruning Utils\n",
    "\n",
    "The IDAES toolkit provides utility functions which allow the user to sparsify and prune Keras sequential neural networks (NNs). Sparsification is the process of setting a desired percentage of weights in each layer to zero. Sparse NNs are desired because they lower the inference time, allowing for faster prediction times. Pruning is the process of removing inactive nodes - nodes which do not contribute to the output - from the network entirely. Similar to sparsification, pruning will lower the inference time of NNs and will also decrease the size of the NN.\n",
    "\n",
    "## Initial Dependencies\n",
    "To begin the necessary libraries are imported for a simple NN training workflow and the IDAES utilities are imported:"
   ]
  },
  {
   "cell_type": "code",
   "execution_count": 1,
   "id": "8e68ae97",
   "metadata": {},
   "outputs": [],
   "source": [
    "# Import libraries used to train and deploy NNs\n",
    "import numpy as np\n",
    "import pandas as pd\n",
    "from math import prod\n",
    "import tensorflow as tf\n",
    "from tensorflow.keras.models import Sequential, Model\n",
    "from tensorflow.keras.layers import Dense, Input\n",
    "from tensorflow.keras.optimizers import Adamax\n",
    "\n",
    "# Import IDAES utility functions\n",
    "from prune import prune_sequential\n",
    "from sparsify import count_N_zero_weights, sparsify_sequential"
   ]
  },
  {
   "cell_type": "markdown",
   "id": "fd28e5c2",
   "metadata": {},
   "source": [
    "## Building a Neural Network\n",
    "As a simple example data will be generated to train a NN which takes three inputs and returns one output. For this example the following non-linear model will be used:\n",
    "$$y = x_{1} * (x_{2} + x_{3})$$\n",
    "\n",
    "### Data Generation\n",
    "A uniform data set of a million data points is generated for the input vector $x$ and the output $y$ is calculated. After, the dataframe is obtained and separated into input and output dataframes. Typically a train/test split would be conducted when training a real NN, but for this example it is not necesarry as the accuracy and degree of overfitting of the neural network is not important."
   ]
  },
  {
   "cell_type": "code",
   "execution_count": 2,
   "id": "0ccac552",
   "metadata": {},
   "outputs": [
    {
     "name": "stdout",
     "output_type": "stream",
     "text": [
      "                   x1            x2              x3               y\n",
      "count  1000000.000000  1.000000e+06  1000000.000000  1000000.000000\n",
      "mean         0.499951  4.997686e-01        0.499727        0.499638\n",
      "std          0.288685  2.886080e-01        0.288788        0.372343\n",
      "min          0.000002  8.299529e-07        0.000004        0.000002\n",
      "25%          0.250168  2.495583e-01        0.249427        0.193802\n",
      "50%          0.499694  4.998767e-01        0.499510        0.425727\n",
      "75%          0.750144  7.496302e-01        0.749917        0.736170\n",
      "max          0.999999  9.999992e-01        0.999999        1.996314\n"
     ]
    }
   ],
   "source": [
    "def get_data():\n",
    "    df = pd.DataFrame(np.random.uniform(0, 1, size=(10**6, 3)), columns=['x1', 'x2', 'x3'])\n",
    "    df['y'] =  df['x1'] * (df['x2'] + df['x3'])\n",
    "    return df\n",
    "\n",
    "# Get the data necessary for the NN and separate into inputs and outputs\n",
    "df = get_data()\n",
    "print(df.describe())\n",
    "\n",
    "inputs = df[['x1', 'x2', 'x3']]\n",
    "outputs = df['y']"
   ]
  },
  {
   "cell_type": "markdown",
   "id": "8cffafd1",
   "metadata": {},
   "source": [
    "### Model Formulation\n",
    "Currently, the IDAES utility functions support Keras Sequential models. For this example a relu model will be used with three hidden layers of 50 nodes:"
   ]
  },
  {
   "cell_type": "code",
   "execution_count": 3,
   "id": "a8c0b5ad",
   "metadata": {},
   "outputs": [],
   "source": [
    "# Define a model that will be used to predict the outputs. For this example three hidden layers of 50 are used.\n",
    "def get_model():\n",
    "    model = Sequential()\n",
    "    model.add(Input(3))\n",
    "    model.add(Dense(50, activation='relu'))\n",
    "    model.add(Dense(50, activation='relu'))\n",
    "    model.add(Dense(50, activation='relu'))\n",
    "    model.add(Dense(1))\n",
    "    model.compile(optimizer=Adamax(learning_rate=0.1), loss='mse')\n",
    "    return model"
   ]
  },
  {
   "cell_type": "markdown",
   "id": "7331390a",
   "metadata": {},
   "source": [
    "### Learning Rate Scheduling\n",
    "\n",
    "Sparsification routines are typically run with learning rate schedules. The sparsification schedule should match the learning rate schedule to some degree. In this example the learning rate will decrease by 2% each epoch. Keras learning rate routines are created using callbacks as shown here: "
   ]
  },
  {
   "cell_type": "code",
   "execution_count": 4,
   "id": "934848df",
   "metadata": {},
   "outputs": [],
   "source": [
    "# Create a learning rate schedule for the neural network this reduces the learning rate by 2% per epoch\n",
    "class LearningRateReducer(tf.keras.callbacks.Callback):\n",
    "    def on_epoch_end(self, epoch, logs={}):\n",
    "        lr = self.model.optimizer.lr.read_value()\n",
    "        lr = lr*0.98\n",
    "        self.model.optimizer.lr.assign(lr)"
   ]
  },
  {
   "cell_type": "markdown",
   "id": "f7e0a9c0",
   "metadata": {},
   "source": [
    "After model formulation is complete the model and learning rate schedule objects can be instantiated for training:"
   ]
  },
  {
   "cell_type": "code",
   "execution_count": 5,
   "id": "dd48db3f",
   "metadata": {},
   "outputs": [],
   "source": [
    "# Build neural network and run initial training steps, if training has already occurred t0 should be set.\n",
    "model = get_model()\n",
    "lr_schedule = LearningRateReducer()"
   ]
  },
  {
   "cell_type": "markdown",
   "id": "2705dcc5",
   "metadata": {},
   "source": [
    "## Initial Training of the Neural Network and Sparsification Routine\n",
    "\n",
    "A sparsification routine is run in tandem with training such that the sparsification schedule matches the learning rate schedule to a certain degree. In this example the sparsification routine follows the procedure proposed by [Zhu and Gupta 2017](https://arxiv.org/pdf/1710.01878.pdf):\n",
    "$$s_{t} = s_{f} + (s_{i} - s_{f}) * (1 - \\frac{t-t_{0}}{n\\Delta t})^{3}$$\n",
    "\n",
    "Where the sparsities $s_{i}$ is the initial sparsity, $s{t}$ is the sparsity after a sparsification step, and $s{f}$ is the desired final sparsification. Variable $t$ is the current training step, $\\Delta t$ is the timesteps between sparsification steps, and $t_{0}$ represents the number of training steps conducted prior to running sparsification. Finally, $n$ is the number of sparsification steps desired. It should be noted that $t_{0}$, $\\Delta t$, and $n$ are hyperparameters and can be adjusted to maintain accuracy during post-sparsification re-training. Parameters $t_{0}$ and $\\Delta t$ are training parameters set prior to the initial training of a NN and $n$ can be set after the initial training of a NN.\n",
    "\n",
    "For this example the initial training of the NN will train using 20 epochs with $\\Delta t = 1000$ steps per epoch. The initial timestep $t_{0} = epochs * \\Delta t$. Using these parameters we can train a neural network. By default a Keras epoch with $\\Delta t = N_{x} / N_{batch}$ where $N_{x}$ is the number of data points and $N_{batch}$ is the batch size. This allows the NN to train over all data points in batches of size $N_{batch}$. For this routine we will specify the training steps per epoch by setting the steps_per_epoch argument."
   ]
  },
  {
   "cell_type": "code",
   "execution_count": 6,
   "id": "fffa8cf3",
   "metadata": {},
   "outputs": [
    {
     "name": "stdout",
     "output_type": "stream",
     "text": [
      "Epoch 1/20\n",
      "1000/1000 [==============================] - 2s 2ms/step - loss: 0.0235 - val_loss: 5.1596e-04\n",
      "Epoch 2/20\n",
      "1000/1000 [==============================] - 4s 4ms/step - loss: 6.4365e-04 - val_loss: 3.3472e-04\n",
      "Epoch 3/20\n",
      "1000/1000 [==============================] - 5s 5ms/step - loss: 4.9074e-04 - val_loss: 1.7773e-04\n",
      "Epoch 4/20\n",
      "1000/1000 [==============================] - 5s 5ms/step - loss: 4.2961e-04 - val_loss: 6.0528e-04\n",
      "Epoch 5/20\n",
      "1000/1000 [==============================] - 4s 4ms/step - loss: 3.5209e-04 - val_loss: 0.0016\n",
      "Epoch 6/20\n",
      "1000/1000 [==============================] - 4s 4ms/step - loss: 2.4582e-04 - val_loss: 1.0571e-04\n",
      "Epoch 7/20\n",
      "1000/1000 [==============================] - 4s 4ms/step - loss: 2.8192e-04 - val_loss: 0.0014\n",
      "Epoch 8/20\n",
      "1000/1000 [==============================] - 5s 5ms/step - loss: 2.8595e-04 - val_loss: 7.6619e-04\n",
      "Epoch 9/20\n",
      "1000/1000 [==============================] - 5s 5ms/step - loss: 2.6257e-04 - val_loss: 8.2078e-05\n",
      "Epoch 10/20\n",
      "1000/1000 [==============================] - 4s 4ms/step - loss: 2.4090e-04 - val_loss: 1.0176e-04\n",
      "Epoch 11/20\n",
      "1000/1000 [==============================] - 4s 4ms/step - loss: 1.8763e-04 - val_loss: 1.4442e-04\n",
      "Epoch 12/20\n",
      "1000/1000 [==============================] - 4s 4ms/step - loss: 1.7632e-04 - val_loss: 1.7951e-04\n",
      "Epoch 13/20\n",
      "1000/1000 [==============================] - 4s 4ms/step - loss: 1.5960e-04 - val_loss: 8.0650e-05\n",
      "Epoch 14/20\n",
      "1000/1000 [==============================] - 4s 4ms/step - loss: 1.3092e-04 - val_loss: 3.3572e-04\n",
      "Epoch 15/20\n",
      "1000/1000 [==============================] - 4s 4ms/step - loss: 1.6014e-04 - val_loss: 1.2583e-04\n",
      "Epoch 16/20\n",
      "1000/1000 [==============================] - 4s 4ms/step - loss: 1.4935e-04 - val_loss: 3.2904e-04\n",
      "Epoch 17/20\n",
      "1000/1000 [==============================] - 4s 4ms/step - loss: 1.4469e-04 - val_loss: 1.6427e-04\n",
      "Epoch 18/20\n",
      "1000/1000 [==============================] - 4s 4ms/step - loss: 1.7742e-04 - val_loss: 3.9796e-05\n",
      "Epoch 19/20\n",
      "1000/1000 [==============================] - 4s 4ms/step - loss: 7.7433e-05 - val_loss: 2.8920e-05\n",
      "Epoch 20/20\n",
      "1000/1000 [==============================] - 4s 4ms/step - loss: 1.5557e-04 - val_loss: 1.5312e-04\n"
     ]
    },
    {
     "data": {
      "text/plain": [
       "<tensorflow.python.keras.callbacks.History at 0x189730075e0>"
      ]
     },
     "execution_count": 6,
     "metadata": {},
     "output_type": "execute_result"
    }
   ],
   "source": [
    "# Define initial training information\n",
    "epochs = 20\n",
    "dt = 1000\n",
    "t0 = epochs*dt\n",
    "\n",
    "# Initial training of the model\n",
    "model.fit(x=inputs, y=outputs, epochs=epochs, steps_per_epoch=dt, callbacks=[lr_schedule],\n",
    "          verbose=1, validation_split=0.2, batch_size=32)"
   ]
  },
  {
   "cell_type": "markdown",
   "id": "bdfcb452",
   "metadata": {},
   "source": [
    "To compare the sparse model to the non-sparse model the keras evaluate function can be called to get a score for each model."
   ]
  },
  {
   "cell_type": "code",
   "execution_count": 7,
   "id": "6932deb3",
   "metadata": {},
   "outputs": [
    {
     "name": "stdout",
     "output_type": "stream",
     "text": [
      "15625/15625 [==============================] - 12s 783us/step - loss: 1.5240e-04\n",
      "Initial model MSE on training data: 0.00015240127686411142\n"
     ]
    }
   ],
   "source": [
    "non_sparse_mse = model.evaluate(x=inputs, y=outputs, batch_size=64)\n",
    "print(f\"Initial model MSE on training data: {non_sparse_mse}\")"
   ]
  },
  {
   "cell_type": "markdown",
   "id": "cc71c4e6",
   "metadata": {},
   "source": [
    "Since initial training was conducted the timestep before sparsification occurs is $t = t_{0}$. For this example an arbitrary number of sparsification steps was chosen as 15 and a desired sparsity of 50% was chosen."
   ]
  },
  {
   "cell_type": "code",
   "execution_count": null,
   "id": "20969e4d",
   "metadata": {},
   "outputs": [],
   "source": [
    "# Define sparsification parameters t0 = steps/dt from training\n",
    "t = t0\n",
    "n_steps = 15\n",
    "sf = 0.5"
   ]
  },
  {
   "cell_type": "markdown",
   "id": "20bd964b",
   "metadata": {},
   "source": [
    "To illustrate the effect of sparsification, a helper function is defined to count the total number of weights in the model. The sparsification util provides a helper function which counts the number of zero weights and was imported. Additionally, this function can be used to set the initial sparsity of the model in case there are weights equal to zero."
   ]
  },
  {
   "cell_type": "code",
   "execution_count": null,
   "id": "79ba10e0",
   "metadata": {},
   "outputs": [],
   "source": [
    "# Define a helper function to get the total number of weights in the neural net\n",
    "def get_num_weights(model):\n",
    "\n",
    "    # Get weights and biases\n",
    "    w = model.get_weights()\n",
    "\n",
    "    # Filter biases\n",
    "    w = [w[2*i] for i in range(int(len(w)/2))]\n",
    "\n",
    "    return sum([prod(l_w.shape) for l_w in w])\n",
    "\n",
    "N_weights = get_num_weights(model)\n",
    "N_zero_weights = count_N_zero_weights(model.get_weights())\n",
    "\n",
    "print(f\"Total weights in model: {N_weights}\")\n",
    "print(f\"Total number of zero weights in model: {N_zero_weights}\")\n",
    "\n",
    "# Define initial sparsity\n",
    "si = N_zero_weights/N_weights\n",
    "print(f\"Initial total model (not layer by layer) sparsity {si*100:.2f}%\")"
   ]
  },
  {
   "cell_type": "markdown",
   "id": "767b1d30",
   "metadata": {},
   "source": [
    "With the initial training completed the sparsification loop can be generated. The sparsification util function takes a model and sparsifies to a provided sparsity. After a sparsification step is completed the timestep is incremented by $\\Delta t$ and the model is retrained. After sparsification is completed the model is retrained to reduce the loss of accuracy from sparsification. This training uses the sparse NN as the initial state and a reduced learning rate. Keras does not allow specific weights to be untrainable - only entire layers can be frozen- so the model is not retrained on the last sparsification step. Ideally, individual weights would be frozen such that the contribution from sparsified weights is shifted to non-sparsified weights."
   ]
  },
  {
   "cell_type": "code",
   "execution_count": null,
   "id": "d1469270",
   "metadata": {},
   "outputs": [],
   "source": [
    "# Create a custom sparsification loop\n",
    "for n in range(1, n_steps + 1):\n",
    "\n",
    "    # Sparsification schedule can be modified to be whatever is desired\n",
    "    st = sf + (si - sf) * (1 - (t - t0) / (n * dt)) ** 3\n",
    "\n",
    "    # Sparsify to desired sparsification value\n",
    "    model = sparsify_sequential(model, st)\n",
    "\n",
    "    # Update timestep\n",
    "    t += dt\n",
    "\n",
    "    # Retrain if not last step\n",
    "    if n != n_steps:\n",
    "        model.fit(x=inputs, y=outputs, epochs=1, steps_per_epoch=dt, callbacks=[lr_schedule],\n",
    "                  verbose=1, validation_split=0.2, batch_size=64)\n"
   ]
  },
  {
   "cell_type": "markdown",
   "id": "fb10e47c",
   "metadata": {},
   "source": [
    "After sparsification the model error can be checked using the Keras evaluate function to compare to the full model accuracy,"
   ]
  },
  {
   "cell_type": "code",
   "execution_count": null,
   "id": "22ab1e3f",
   "metadata": {},
   "outputs": [],
   "source": [
    "sparse_mse = model.evaluate(x=inputs, y=outputs, batch_size=64)\n",
    "print(f\"Final model mse after sparsification: {sparse_mse}\")\n",
    "print(f\"Error change after sparsification {non_sparse_mse - sparse_mse}\")"
   ]
  },
  {
   "cell_type": "code",
   "execution_count": null,
   "id": "363aad2b",
   "metadata": {},
   "outputs": [],
   "source": [
    "total_w = get_num_weights(model)\n",
    "zero_weights = count_N_zero_weights(model.get_weights())\n",
    "print(f\"Total Weights: {total_w}\\nZero Weights:{zero_weights}\\nSparsification:{zero_weights/total_w}\")"
   ]
  },
  {
   "cell_type": "code",
   "execution_count": null,
   "id": "b5291167",
   "metadata": {},
   "outputs": [],
   "source": [
    "pruned_model = prune_sequential(model, verbose=1)\n",
    "new_total_w = get_num_weights(pruned_model)\n",
    "print(f\"Total Weights Pruned Model: {new_total_w}\")\n",
    "print(f\"Total Reduction in Weights: {total_w - new_total_w} ({(total_w - new_total_w)/total_w*100:.2f}%)\")"
   ]
  },
  {
   "cell_type": "markdown",
   "id": "0cd42e76",
   "metadata": {},
   "source": [
    "The total number of nodes removed can also be found using the following helper function:"
   ]
  },
  {
   "cell_type": "code",
   "execution_count": null,
   "id": "0c51c97b",
   "metadata": {},
   "outputs": [],
   "source": [
    "def count_nodes(model):\n",
    "    cfg = model.get_config()\n",
    "    N_nodes = 0\n",
    "    for i, layer_config in enumerate(cfg['layers']):\n",
    "        if 'config' in layer_config and 'units' in layer_config['config']:\n",
    "            N_nodes += layer_config['config']['units']\n",
    "    return N_nodes\n",
    "\n",
    "# Remove output layer\n",
    "N_full = count_nodes(model) - 1\n",
    "N_pruned = count_nodes(pruned_model) -1 \n",
    "\n",
    "print(f\"Initial Model Nodes: {N_full}\")\n",
    "print(f\"Pruned Model Nodes: {N_pruned}\")\n",
    "print(f\"Reduction: {N_full - N_pruned} ({(N_full - N_pruned)/N_full*100:.2f}%)\")"
   ]
  },
  {
   "cell_type": "code",
   "execution_count": null,
   "id": "21e1c8fc",
   "metadata": {},
   "outputs": [],
   "source": []
  }
 ],
 "metadata": {
  "kernelspec": {
   "display_name": "Python 3 (Spyder)",
   "language": "python3",
   "name": "python3"
  },
  "language_info": {
   "codemirror_mode": {
    "name": "ipython",
    "version": 3
   },
   "file_extension": ".py",
   "mimetype": "text/x-python",
   "name": "python",
   "nbconvert_exporter": "python",
   "pygments_lexer": "ipython3",
   "version": "3.8.11"
  }
 },
 "nbformat": 4,
 "nbformat_minor": 5
}
